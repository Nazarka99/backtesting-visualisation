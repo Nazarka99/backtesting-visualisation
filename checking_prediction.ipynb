{
 "cells": [
  {
   "cell_type": "markdown",
   "source": [
    "# Preparing the data for the model training"
   ],
   "metadata": {
    "collapsed": false
   }
  },
  {
   "cell_type": "code",
   "execution_count": 1,
   "metadata": {
    "collapsed": true,
    "ExecuteTime": {
     "end_time": "2024-09-28T17:01:17.807325500Z",
     "start_time": "2024-09-28T17:01:14.192550700Z"
    }
   },
   "outputs": [],
   "source": [
    "import pandas as pd\n",
    "import pandas_ta as ta\n",
    "import numpy as np\n",
    "from openpyxl import Workbook\n",
    "from sklearn.linear_model import LinearRegression\n",
    "\n",
    "# Assuming these functions are defined in your local modules\n",
    "from _managing_data import update_data\n",
    "from common_functions import calculate_heikin_ashi, calculate_supertrend, calculate_macd, calculate_indicators, macd_signals"
   ]
  },
  {
   "cell_type": "code",
   "execution_count": 2,
   "outputs": [],
   "source": [
    "# Define symbols and timeframes\n",
    "# timeframes = ['30m', '1h']\n",
    "# symbols = ['BTC/USDT', 'ETH/USDT']\n",
    "\n",
    "symbols = ['BTC/USDT', 'ETH/USDT', 'BNB/USDT', 'SOL/USDT', 'XRP/USDT', 'ADA/USDT', 'DOGE/USDT',\n",
    "               'DOT/USDT', 'LINK/USDT', 'IMX/USDT', 'ICP/USDT']\n",
    "timeframes = ['15m', '30m', '1h', '2h', '4h']"
   ],
   "metadata": {
    "collapsed": false,
    "ExecuteTime": {
     "end_time": "2024-09-28T17:01:24.722979400Z",
     "start_time": "2024-09-28T17:01:24.700976600Z"
    }
   }
  },
  {
   "cell_type": "code",
   "execution_count": 3,
   "outputs": [],
   "source": [
    "# Manual mappings for categorical features\n",
    "symbol_mapping = {\n",
    "    'BTC/USDT': 0, 'ETH/USDT': 1, 'BNB/USDT': 2, 'SOL/USDT': 3, 'XRP/USDT': 4,\n",
    "    'ADA/USDT': 5, 'DOGE/USDT': 6, 'DOT/USDT': 7, 'LINK/USDT': 8, 'IMX/USDT': 9, 'ICP/USDT': 10\n",
    "}\n",
    "timeframe_mapping = {\n",
    "    '15m': 0, '30m': 1, '1h': 2, '2h': 3, '4h': 4\n",
    "}\n",
    "type_mapping = {\n",
    "    'Long': 0, 'Short': 1\n",
    "}"
   ],
   "metadata": {
    "collapsed": false,
    "ExecuteTime": {
     "end_time": "2024-09-28T17:01:28.948290200Z",
     "start_time": "2024-09-28T17:01:28.918293500Z"
    }
   }
  },
  {
   "cell_type": "code",
   "execution_count": 4,
   "outputs": [],
   "source": [
    "higher_timeframes = {\n",
    "    '15m': '1h',\n",
    "    '30m': '1h',\n",
    "    '1h': '4h',\n",
    "    '2h': '4h',\n",
    "    '4h': '1d'\n",
    "}"
   ],
   "metadata": {
    "collapsed": false,
    "ExecuteTime": {
     "end_time": "2024-09-28T17:01:30.854622900Z",
     "start_time": "2024-09-28T17:01:30.831625100Z"
    }
   }
  },
  {
   "cell_type": "code",
   "execution_count": 5,
   "outputs": [],
   "source": [
    "def get_linear_coeffs(values):\n",
    "    \"\"\"Calculate linear regression coefficients k (slope) and b (intercept).\"\"\"\n",
    "\n",
    "    x = np.arange(1, 6)  # x values from 1 to 5\n",
    "    y = np.array(values)\n",
    "\n",
    "    # Calculate the coefficients of the linear fit (slope and intercept)\n",
    "    slope, intercept = np.polyfit(x, y, 1)\n",
    "    return slope, intercept"
   ],
   "metadata": {
    "collapsed": false,
    "ExecuteTime": {
     "end_time": "2024-09-28T17:01:31.669623900Z",
     "start_time": "2024-09-28T17:01:31.651625400Z"
    }
   }
  },
  {
   "cell_type": "code",
   "execution_count": 6,
   "outputs": [],
   "source": [
    "def get_previous_values(df_higher, signal_time, column):\n",
    "    \"\"\"Retrieve the last five values of the specified column just before the signal time from the higher timeframe data.\"\"\"\n",
    "    valid_times = df_higher[df_higher.index <= signal_time]\n",
    "    if not valid_times.empty:\n",
    "        last_times = valid_times.index[-5:]  # Get the last 5 times\n",
    "        return df_higher.loc[last_times][column].values, last_times\n",
    "    return None, None"
   ],
   "metadata": {
    "collapsed": false,
    "ExecuteTime": {
     "end_time": "2024-09-28T17:01:32.869689200Z",
     "start_time": "2024-09-28T17:01:32.854689500Z"
    }
   }
  },
  {
   "cell_type": "code",
   "execution_count": 7,
   "outputs": [],
   "source": [
    "def save_results_to_excel(results, filename='backtesting_results.xlsx'):\n",
    "    df = pd.DataFrame(results)\n",
    "    with pd.ExcelWriter(filename, engine='xlsxwriter') as writer:\n",
    "        df.to_excel(writer, sheet_name='Consolidated Results', index=False)"
   ],
   "metadata": {
    "collapsed": false,
    "ExecuteTime": {
     "end_time": "2024-09-28T17:01:33.594687800Z",
     "start_time": "2024-09-28T17:01:33.569689800Z"
    }
   }
  },
  {
   "cell_type": "code",
   "execution_count": 8,
   "outputs": [],
   "source": [
    "def backtest_strategy(df, df_higher):\n",
    "    initial_capital = 10000\n",
    "    risk_per_trade = 0.05  # 5% of capital risked per trade\n",
    "    results = []\n",
    "    capital = initial_capital\n",
    "    max_drawdown = 0\n",
    "    peak_capital = capital\n",
    "    last_exit_time = None  # This will keep track of the last exit time\n",
    "\n",
    "    tp_multipliers = [1, 1.5, 2]\n",
    "\n",
    "    for index, row in df.iterrows():\n",
    "        # Skip to next iteration if current row time is before last exit time\n",
    "        if last_exit_time is not None and row.name <= last_exit_time:\n",
    "            continue\n",
    "\n",
    "        # Check for signals, but open position on the next candle\n",
    "        signal = 0\n",
    "        if row['signal'] == 1:  # Long signal\n",
    "            next_index = df.index.get_loc(index) + 1\n",
    "            if next_index >= len(df):\n",
    "                continue  # Skip if there is no next row\n",
    "            next_row = df.iloc[next_index]\n",
    "            # Verify SuperTrend and SMA conditions on the next candle\n",
    "            if next_row['HA_close'] > next_row['SuperTrend'] and next_row['HA_close'] > next_row['SMA200']:\n",
    "                signal = 1  # Open long position on next candle\n",
    "\n",
    "        elif row['signal'] == -1:  # Short signal\n",
    "            next_index = df.index.get_loc(index) + 1\n",
    "            if next_index >= len(df):\n",
    "                continue  # Skip if there is no next row\n",
    "            next_row = df.iloc[next_index]\n",
    "            # Verify SuperTrend and SMA conditions on the next candle\n",
    "            if next_row['HA_close'] < next_row['SuperTrend'] and next_row['HA_close'] < next_row['SMA200']:\n",
    "                signal = -1  # Open short position on next candle\n",
    "\n",
    "        if signal == 0:\n",
    "            continue  # No valid signal, skip the iteration\n",
    "\n",
    "        # Now we proceed with trade execution\n",
    "        entry_price = next_row['open']  # Use the next candle's open price\n",
    "        atr = next_row['ATR']\n",
    "        super_trend = next_row['SuperTrend']\n",
    "        stop_loss = super_trend - atr if signal == 1 else super_trend + atr\n",
    "        stop_loss_distance = abs(entry_price - stop_loss)\n",
    "        position_size = (risk_per_trade * capital) / stop_loss_distance\n",
    "\n",
    "        # Fetch the last five RSI, MACD, and Volume values from the higher timeframe\n",
    "        previous_rsi_values, rsi_times = get_previous_values(df_higher, next_row.name, 'RSI')\n",
    "        previous_macd_values, macd_times = get_previous_values(df_higher, next_row.name, 'macd')\n",
    "        previous_volume_values, volume_times = get_previous_values(df_higher, next_row.name, 'volume')\n",
    "\n",
    "        rsi_k, rsi_b = get_linear_coeffs(previous_rsi_values) if previous_rsi_values is not None else (None, None)\n",
    "        macd_k, macd_b = get_linear_coeffs(previous_macd_values) if previous_macd_values is not None else (None, None)\n",
    "        volume_k, volume_b = get_linear_coeffs(previous_volume_values) if previous_volume_values is not None else (None, None)\n",
    "\n",
    "        future_rows = df.iloc[next_index + 1:]  # Start checking from the row after the entry candle\n",
    "\n",
    "        for tp_multiplier in tp_multipliers:\n",
    "            tp = entry_price + tp_multiplier * stop_loss_distance if signal == 1 else entry_price - tp_multiplier * stop_loss_distance\n",
    "            exit_price = None\n",
    "            highest_high = next_row['high']\n",
    "            lowest_low = next_row['low']\n",
    "\n",
    "            for j, future_row in future_rows.iterrows():\n",
    "                if signal == 1:\n",
    "                    highest_high = max(highest_high, future_row['high'])\n",
    "                    if future_row['low'] <= stop_loss or future_row['high'] >= tp:\n",
    "                        exit_price = stop_loss if future_row['low'] <= stop_loss else tp\n",
    "                        break\n",
    "                else:\n",
    "                    lowest_low = min(lowest_low, future_row['low'])\n",
    "                    if future_row['high'] >= stop_loss or future_row['low'] <= tp:\n",
    "                        exit_price = stop_loss if future_row['high'] >= stop_loss else tp\n",
    "                        break\n",
    "\n",
    "            if exit_price is None:\n",
    "                exit_price = next_row['close']  # Default exit if no stop/TP was hit\n",
    "\n",
    "            last_exit_time = future_row.name  # Update last exit time with the end of the current trade\n",
    "\n",
    "            optimum_closing = tp if exit_price == tp else (highest_high if signal == 1 else lowest_low)\n",
    "            profit = (exit_price - entry_price) * position_size if signal == 1 else (entry_price - exit_price) * position_size\n",
    "\n",
    "            # Record the previous RSI and MACD values directly in the results\n",
    "            results.append({\n",
    "                'Symbol': next_row['Symbol'], 'Timeframe': next_row['Timeframe'],\n",
    "                'Entry Price': entry_price, 'Exit Price': exit_price,\n",
    "                'Profit': profit, 'Type': 'Long' if signal == 1 else 'Short',\n",
    "                'Entry Date': next_row.name, 'Exit Date': future_row.name, 'TP Multiplier': tp_multiplier,\n",
    "                'Optimum Closing': optimum_closing,\n",
    "                'Previous RSI Values': previous_rsi_values.tolist() if previous_rsi_values is not None else [],\n",
    "                'Previous MACD Values': previous_macd_values.tolist() if previous_macd_values is not None else [],\n",
    "                'RSI Line Slope (k)': rsi_k, 'RSI Line Intercept (b)': rsi_b,\n",
    "                'MACD Line Slope (k)': macd_k, 'MACD Line Intercept (b)': macd_b,\n",
    "                'Volume Line Slope (k)': volume_k, 'Volume Line Intercept (b)': volume_b\n",
    "            })\n",
    "\n",
    "    return results"
   ],
   "metadata": {
    "collapsed": false,
    "ExecuteTime": {
     "end_time": "2024-09-28T17:01:34.284691700Z",
     "start_time": "2024-09-28T17:01:34.264689600Z"
    }
   }
  },
  {
   "cell_type": "code",
   "execution_count": 9,
   "outputs": [
    {
     "name": "stdout",
     "output_type": "stream",
     "text": [
      "Processing BTC/USDT on 15m timeframe\n"
     ]
    },
    {
     "name": "stderr",
     "output_type": "stream",
     "text": [
      "2024-09-28 19:01:40,710 - ERROR - Error fetching data for BTC/USDT on 15m: binance GET https://api.binance.com/api/v3/exchangeInfo\n",
      "2024-09-28 19:01:47,818 - INFO - Data for BTC/USDT on 15m saved/updated successfully.\n",
      "E:\\side projects\\backtesting&visualization\\common_functions.py:13: FutureWarning: ChainedAssignmentError: behaviour will change in pandas 3.0!\n",
      "You are setting values through chained assignment. Currently this works in certain cases, but when using Copy-on-Write (which will become the default behaviour in pandas 3.0) this will never work to update the original DataFrame or Series, because the intermediate object on which we are setting values will behave as a copy.\n",
      "A typical example is when you are setting values in a column of a DataFrame, like:\n",
      "\n",
      "df[\"col\"][row_indexer] = value\n",
      "\n",
      "Use `df.loc[row_indexer, \"col\"] = values` instead, to perform the assignment in a single step and ensure this keeps updating the original `df`.\n",
      "\n",
      "See the caveats in the documentation: https://pandas.pydata.org/pandas-docs/stable/user_guide/indexing.html#returning-a-view-versus-a-copy\n",
      "\n",
      "  data['HA_open'].iloc[0] = (data['open'].iloc[0] + data['close'].iloc[0]) / 2\n",
      "2024-09-28 19:01:57,947 - ERROR - Error fetching data for BTC/USDT on 1h: binance GET https://api.binance.com/api/v3/exchangeInfo\n",
      "2024-09-28 19:01:59,737 - INFO - Data for BTC/USDT on 1h saved/updated successfully.\n",
      "E:\\side projects\\backtesting&visualization\\common_functions.py:13: FutureWarning: ChainedAssignmentError: behaviour will change in pandas 3.0!\n",
      "You are setting values through chained assignment. Currently this works in certain cases, but when using Copy-on-Write (which will become the default behaviour in pandas 3.0) this will never work to update the original DataFrame or Series, because the intermediate object on which we are setting values will behave as a copy.\n",
      "A typical example is when you are setting values in a column of a DataFrame, like:\n",
      "\n",
      "df[\"col\"][row_indexer] = value\n",
      "\n",
      "Use `df.loc[row_indexer, \"col\"] = values` instead, to perform the assignment in a single step and ensure this keeps updating the original `df`.\n",
      "\n",
      "See the caveats in the documentation: https://pandas.pydata.org/pandas-docs/stable/user_guide/indexing.html#returning-a-view-versus-a-copy\n",
      "\n",
      "  data['HA_open'].iloc[0] = (data['open'].iloc[0] + data['close'].iloc[0]) / 2\n"
     ]
    },
    {
     "name": "stdout",
     "output_type": "stream",
     "text": [
      "Processing BTC/USDT on 30m timeframe\n"
     ]
    },
    {
     "name": "stderr",
     "output_type": "stream",
     "text": [
      "2024-09-28 19:02:50,535 - ERROR - Error fetching data for BTC/USDT on 30m: binance GET https://api.binance.com/api/v3/exchangeInfo\n",
      "2024-09-28 19:02:54,024 - INFO - Data for BTC/USDT on 30m saved/updated successfully.\n",
      "E:\\side projects\\backtesting&visualization\\common_functions.py:13: FutureWarning: ChainedAssignmentError: behaviour will change in pandas 3.0!\n",
      "You are setting values through chained assignment. Currently this works in certain cases, but when using Copy-on-Write (which will become the default behaviour in pandas 3.0) this will never work to update the original DataFrame or Series, because the intermediate object on which we are setting values will behave as a copy.\n",
      "A typical example is when you are setting values in a column of a DataFrame, like:\n",
      "\n",
      "df[\"col\"][row_indexer] = value\n",
      "\n",
      "Use `df.loc[row_indexer, \"col\"] = values` instead, to perform the assignment in a single step and ensure this keeps updating the original `df`.\n",
      "\n",
      "See the caveats in the documentation: https://pandas.pydata.org/pandas-docs/stable/user_guide/indexing.html#returning-a-view-versus-a-copy\n",
      "\n",
      "  data['HA_open'].iloc[0] = (data['open'].iloc[0] + data['close'].iloc[0]) / 2\n",
      "2024-09-28 19:02:59,652 - ERROR - Error fetching data for BTC/USDT on 1h: binance GET https://api.binance.com/api/v3/exchangeInfo\n",
      "2024-09-28 19:03:01,484 - INFO - Data for BTC/USDT on 1h saved/updated successfully.\n",
      "E:\\side projects\\backtesting&visualization\\common_functions.py:13: FutureWarning: ChainedAssignmentError: behaviour will change in pandas 3.0!\n",
      "You are setting values through chained assignment. Currently this works in certain cases, but when using Copy-on-Write (which will become the default behaviour in pandas 3.0) this will never work to update the original DataFrame or Series, because the intermediate object on which we are setting values will behave as a copy.\n",
      "A typical example is when you are setting values in a column of a DataFrame, like:\n",
      "\n",
      "df[\"col\"][row_indexer] = value\n",
      "\n",
      "Use `df.loc[row_indexer, \"col\"] = values` instead, to perform the assignment in a single step and ensure this keeps updating the original `df`.\n",
      "\n",
      "See the caveats in the documentation: https://pandas.pydata.org/pandas-docs/stable/user_guide/indexing.html#returning-a-view-versus-a-copy\n",
      "\n",
      "  data['HA_open'].iloc[0] = (data['open'].iloc[0] + data['close'].iloc[0]) / 2\n"
     ]
    },
    {
     "name": "stdout",
     "output_type": "stream",
     "text": [
      "Processing BTC/USDT on 1h timeframe\n"
     ]
    },
    {
     "name": "stderr",
     "output_type": "stream",
     "text": [
      "2024-09-28 19:03:20,463 - ERROR - Error fetching data for BTC/USDT on 1h: binance GET https://api.binance.com/api/v3/exchangeInfo\n",
      "2024-09-28 19:03:22,195 - INFO - Data for BTC/USDT on 1h saved/updated successfully.\n",
      "E:\\side projects\\backtesting&visualization\\common_functions.py:13: FutureWarning: ChainedAssignmentError: behaviour will change in pandas 3.0!\n",
      "You are setting values through chained assignment. Currently this works in certain cases, but when using Copy-on-Write (which will become the default behaviour in pandas 3.0) this will never work to update the original DataFrame or Series, because the intermediate object on which we are setting values will behave as a copy.\n",
      "A typical example is when you are setting values in a column of a DataFrame, like:\n",
      "\n",
      "df[\"col\"][row_indexer] = value\n",
      "\n",
      "Use `df.loc[row_indexer, \"col\"] = values` instead, to perform the assignment in a single step and ensure this keeps updating the original `df`.\n",
      "\n",
      "See the caveats in the documentation: https://pandas.pydata.org/pandas-docs/stable/user_guide/indexing.html#returning-a-view-versus-a-copy\n",
      "\n",
      "  data['HA_open'].iloc[0] = (data['open'].iloc[0] + data['close'].iloc[0]) / 2\n",
      "2024-09-28 19:03:24,669 - ERROR - Error fetching data for BTC/USDT on 4h: binance GET https://api.binance.com/api/v3/exchangeInfo\n",
      "2024-09-28 19:03:25,203 - INFO - Data for BTC/USDT on 4h saved/updated successfully.\n",
      "E:\\side projects\\backtesting&visualization\\common_functions.py:13: FutureWarning: ChainedAssignmentError: behaviour will change in pandas 3.0!\n",
      "You are setting values through chained assignment. Currently this works in certain cases, but when using Copy-on-Write (which will become the default behaviour in pandas 3.0) this will never work to update the original DataFrame or Series, because the intermediate object on which we are setting values will behave as a copy.\n",
      "A typical example is when you are setting values in a column of a DataFrame, like:\n",
      "\n",
      "df[\"col\"][row_indexer] = value\n",
      "\n",
      "Use `df.loc[row_indexer, \"col\"] = values` instead, to perform the assignment in a single step and ensure this keeps updating the original `df`.\n",
      "\n",
      "See the caveats in the documentation: https://pandas.pydata.org/pandas-docs/stable/user_guide/indexing.html#returning-a-view-versus-a-copy\n",
      "\n",
      "  data['HA_open'].iloc[0] = (data['open'].iloc[0] + data['close'].iloc[0]) / 2\n"
     ]
    },
    {
     "name": "stdout",
     "output_type": "stream",
     "text": [
      "Processing BTC/USDT on 2h timeframe\n"
     ]
    },
    {
     "name": "stderr",
     "output_type": "stream",
     "text": [
      "2024-09-28 19:03:31,986 - ERROR - Error fetching data for BTC/USDT on 2h: binance GET https://api.binance.com/api/v3/exchangeInfo\n",
      "2024-09-28 19:03:32,941 - INFO - Data for BTC/USDT on 2h saved/updated successfully.\n",
      "E:\\side projects\\backtesting&visualization\\common_functions.py:13: FutureWarning: ChainedAssignmentError: behaviour will change in pandas 3.0!\n",
      "You are setting values through chained assignment. Currently this works in certain cases, but when using Copy-on-Write (which will become the default behaviour in pandas 3.0) this will never work to update the original DataFrame or Series, because the intermediate object on which we are setting values will behave as a copy.\n",
      "A typical example is when you are setting values in a column of a DataFrame, like:\n",
      "\n",
      "df[\"col\"][row_indexer] = value\n",
      "\n",
      "Use `df.loc[row_indexer, \"col\"] = values` instead, to perform the assignment in a single step and ensure this keeps updating the original `df`.\n",
      "\n",
      "See the caveats in the documentation: https://pandas.pydata.org/pandas-docs/stable/user_guide/indexing.html#returning-a-view-versus-a-copy\n",
      "\n",
      "  data['HA_open'].iloc[0] = (data['open'].iloc[0] + data['close'].iloc[0]) / 2\n",
      "2024-09-28 19:03:34,360 - ERROR - Error fetching data for BTC/USDT on 4h: binance GET https://api.binance.com/api/v3/exchangeInfo\n",
      "2024-09-28 19:03:34,808 - INFO - Data for BTC/USDT on 4h saved/updated successfully.\n",
      "E:\\side projects\\backtesting&visualization\\common_functions.py:13: FutureWarning: ChainedAssignmentError: behaviour will change in pandas 3.0!\n",
      "You are setting values through chained assignment. Currently this works in certain cases, but when using Copy-on-Write (which will become the default behaviour in pandas 3.0) this will never work to update the original DataFrame or Series, because the intermediate object on which we are setting values will behave as a copy.\n",
      "A typical example is when you are setting values in a column of a DataFrame, like:\n",
      "\n",
      "df[\"col\"][row_indexer] = value\n",
      "\n",
      "Use `df.loc[row_indexer, \"col\"] = values` instead, to perform the assignment in a single step and ensure this keeps updating the original `df`.\n",
      "\n",
      "See the caveats in the documentation: https://pandas.pydata.org/pandas-docs/stable/user_guide/indexing.html#returning-a-view-versus-a-copy\n",
      "\n",
      "  data['HA_open'].iloc[0] = (data['open'].iloc[0] + data['close'].iloc[0]) / 2\n"
     ]
    },
    {
     "name": "stdout",
     "output_type": "stream",
     "text": [
      "Processing BTC/USDT on 4h timeframe\n"
     ]
    },
    {
     "name": "stderr",
     "output_type": "stream",
     "text": [
      "2024-09-28 19:03:37,610 - ERROR - Error fetching data for BTC/USDT on 4h: binance GET https://api.binance.com/api/v3/exchangeInfo\n",
      "2024-09-28 19:03:38,083 - INFO - Data for BTC/USDT on 4h saved/updated successfully.\n",
      "E:\\side projects\\backtesting&visualization\\common_functions.py:13: FutureWarning: ChainedAssignmentError: behaviour will change in pandas 3.0!\n",
      "You are setting values through chained assignment. Currently this works in certain cases, but when using Copy-on-Write (which will become the default behaviour in pandas 3.0) this will never work to update the original DataFrame or Series, because the intermediate object on which we are setting values will behave as a copy.\n",
      "A typical example is when you are setting values in a column of a DataFrame, like:\n",
      "\n",
      "df[\"col\"][row_indexer] = value\n",
      "\n",
      "Use `df.loc[row_indexer, \"col\"] = values` instead, to perform the assignment in a single step and ensure this keeps updating the original `df`.\n",
      "\n",
      "See the caveats in the documentation: https://pandas.pydata.org/pandas-docs/stable/user_guide/indexing.html#returning-a-view-versus-a-copy\n",
      "\n",
      "  data['HA_open'].iloc[0] = (data['open'].iloc[0] + data['close'].iloc[0]) / 2\n",
      "2024-09-28 19:03:38,808 - ERROR - Error fetching data for BTC/USDT on 1d: binance GET https://api.binance.com/api/v3/exchangeInfo\n",
      "2024-09-28 19:03:38,912 - INFO - Data for BTC/USDT on 1d saved/updated successfully.\n",
      "E:\\side projects\\backtesting&visualization\\common_functions.py:13: FutureWarning: ChainedAssignmentError: behaviour will change in pandas 3.0!\n",
      "You are setting values through chained assignment. Currently this works in certain cases, but when using Copy-on-Write (which will become the default behaviour in pandas 3.0) this will never work to update the original DataFrame or Series, because the intermediate object on which we are setting values will behave as a copy.\n",
      "A typical example is when you are setting values in a column of a DataFrame, like:\n",
      "\n",
      "df[\"col\"][row_indexer] = value\n",
      "\n",
      "Use `df.loc[row_indexer, \"col\"] = values` instead, to perform the assignment in a single step and ensure this keeps updating the original `df`.\n",
      "\n",
      "See the caveats in the documentation: https://pandas.pydata.org/pandas-docs/stable/user_guide/indexing.html#returning-a-view-versus-a-copy\n",
      "\n",
      "  data['HA_open'].iloc[0] = (data['open'].iloc[0] + data['close'].iloc[0]) / 2\n"
     ]
    },
    {
     "name": "stdout",
     "output_type": "stream",
     "text": [
      "Processing ETH/USDT on 15m timeframe\n"
     ]
    },
    {
     "name": "stderr",
     "output_type": "stream",
     "text": [
      "2024-09-28 19:03:44,533 - ERROR - Error fetching data for ETH/USDT on 15m: binance GET https://api.binance.com/api/v3/exchangeInfo\n",
      "2024-09-28 19:03:51,458 - INFO - Data for ETH/USDT on 15m saved/updated successfully.\n",
      "E:\\side projects\\backtesting&visualization\\common_functions.py:13: FutureWarning: ChainedAssignmentError: behaviour will change in pandas 3.0!\n",
      "You are setting values through chained assignment. Currently this works in certain cases, but when using Copy-on-Write (which will become the default behaviour in pandas 3.0) this will never work to update the original DataFrame or Series, because the intermediate object on which we are setting values will behave as a copy.\n",
      "A typical example is when you are setting values in a column of a DataFrame, like:\n",
      "\n",
      "df[\"col\"][row_indexer] = value\n",
      "\n",
      "Use `df.loc[row_indexer, \"col\"] = values` instead, to perform the assignment in a single step and ensure this keeps updating the original `df`.\n",
      "\n",
      "See the caveats in the documentation: https://pandas.pydata.org/pandas-docs/stable/user_guide/indexing.html#returning-a-view-versus-a-copy\n",
      "\n",
      "  data['HA_open'].iloc[0] = (data['open'].iloc[0] + data['close'].iloc[0]) / 2\n",
      "2024-09-28 19:04:01,456 - ERROR - Error fetching data for ETH/USDT on 1h: binance GET https://api.binance.com/api/v3/exchangeInfo\n",
      "2024-09-28 19:04:03,249 - INFO - Data for ETH/USDT on 1h saved/updated successfully.\n",
      "E:\\side projects\\backtesting&visualization\\common_functions.py:13: FutureWarning: ChainedAssignmentError: behaviour will change in pandas 3.0!\n",
      "You are setting values through chained assignment. Currently this works in certain cases, but when using Copy-on-Write (which will become the default behaviour in pandas 3.0) this will never work to update the original DataFrame or Series, because the intermediate object on which we are setting values will behave as a copy.\n",
      "A typical example is when you are setting values in a column of a DataFrame, like:\n",
      "\n",
      "df[\"col\"][row_indexer] = value\n",
      "\n",
      "Use `df.loc[row_indexer, \"col\"] = values` instead, to perform the assignment in a single step and ensure this keeps updating the original `df`.\n",
      "\n",
      "See the caveats in the documentation: https://pandas.pydata.org/pandas-docs/stable/user_guide/indexing.html#returning-a-view-versus-a-copy\n",
      "\n",
      "  data['HA_open'].iloc[0] = (data['open'].iloc[0] + data['close'].iloc[0]) / 2\n"
     ]
    },
    {
     "name": "stdout",
     "output_type": "stream",
     "text": [
      "Processing ETH/USDT on 30m timeframe\n"
     ]
    },
    {
     "name": "stderr",
     "output_type": "stream",
     "text": [
      "2024-09-28 19:04:55,840 - ERROR - Error fetching data for ETH/USDT on 30m: binance GET https://api.binance.com/api/v3/exchangeInfo\n",
      "2024-09-28 19:04:59,362 - INFO - Data for ETH/USDT on 30m saved/updated successfully.\n",
      "E:\\side projects\\backtesting&visualization\\common_functions.py:13: FutureWarning: ChainedAssignmentError: behaviour will change in pandas 3.0!\n",
      "You are setting values through chained assignment. Currently this works in certain cases, but when using Copy-on-Write (which will become the default behaviour in pandas 3.0) this will never work to update the original DataFrame or Series, because the intermediate object on which we are setting values will behave as a copy.\n",
      "A typical example is when you are setting values in a column of a DataFrame, like:\n",
      "\n",
      "df[\"col\"][row_indexer] = value\n",
      "\n",
      "Use `df.loc[row_indexer, \"col\"] = values` instead, to perform the assignment in a single step and ensure this keeps updating the original `df`.\n",
      "\n",
      "See the caveats in the documentation: https://pandas.pydata.org/pandas-docs/stable/user_guide/indexing.html#returning-a-view-versus-a-copy\n",
      "\n",
      "  data['HA_open'].iloc[0] = (data['open'].iloc[0] + data['close'].iloc[0]) / 2\n",
      "2024-09-28 19:05:05,025 - ERROR - Error fetching data for ETH/USDT on 1h: binance GET https://api.binance.com/api/v3/exchangeInfo\n",
      "2024-09-28 19:05:06,833 - INFO - Data for ETH/USDT on 1h saved/updated successfully.\n",
      "E:\\side projects\\backtesting&visualization\\common_functions.py:13: FutureWarning: ChainedAssignmentError: behaviour will change in pandas 3.0!\n",
      "You are setting values through chained assignment. Currently this works in certain cases, but when using Copy-on-Write (which will become the default behaviour in pandas 3.0) this will never work to update the original DataFrame or Series, because the intermediate object on which we are setting values will behave as a copy.\n",
      "A typical example is when you are setting values in a column of a DataFrame, like:\n",
      "\n",
      "df[\"col\"][row_indexer] = value\n",
      "\n",
      "Use `df.loc[row_indexer, \"col\"] = values` instead, to perform the assignment in a single step and ensure this keeps updating the original `df`.\n",
      "\n",
      "See the caveats in the documentation: https://pandas.pydata.org/pandas-docs/stable/user_guide/indexing.html#returning-a-view-versus-a-copy\n",
      "\n",
      "  data['HA_open'].iloc[0] = (data['open'].iloc[0] + data['close'].iloc[0]) / 2\n"
     ]
    },
    {
     "name": "stdout",
     "output_type": "stream",
     "text": [
      "Processing ETH/USDT on 1h timeframe\n"
     ]
    },
    {
     "name": "stderr",
     "output_type": "stream",
     "text": [
      "2024-09-28 19:05:25,776 - ERROR - Error fetching data for ETH/USDT on 1h: binance GET https://api.binance.com/api/v3/exchangeInfo\n",
      "2024-09-28 19:05:27,579 - INFO - Data for ETH/USDT on 1h saved/updated successfully.\n",
      "E:\\side projects\\backtesting&visualization\\common_functions.py:13: FutureWarning: ChainedAssignmentError: behaviour will change in pandas 3.0!\n",
      "You are setting values through chained assignment. Currently this works in certain cases, but when using Copy-on-Write (which will become the default behaviour in pandas 3.0) this will never work to update the original DataFrame or Series, because the intermediate object on which we are setting values will behave as a copy.\n",
      "A typical example is when you are setting values in a column of a DataFrame, like:\n",
      "\n",
      "df[\"col\"][row_indexer] = value\n",
      "\n",
      "Use `df.loc[row_indexer, \"col\"] = values` instead, to perform the assignment in a single step and ensure this keeps updating the original `df`.\n",
      "\n",
      "See the caveats in the documentation: https://pandas.pydata.org/pandas-docs/stable/user_guide/indexing.html#returning-a-view-versus-a-copy\n",
      "\n",
      "  data['HA_open'].iloc[0] = (data['open'].iloc[0] + data['close'].iloc[0]) / 2\n",
      "2024-09-28 19:05:30,066 - ERROR - Error fetching data for ETH/USDT on 4h: binance GET https://api.binance.com/api/v3/exchangeInfo\n",
      "2024-09-28 19:05:30,516 - INFO - Data for ETH/USDT on 4h saved/updated successfully.\n",
      "E:\\side projects\\backtesting&visualization\\common_functions.py:13: FutureWarning: ChainedAssignmentError: behaviour will change in pandas 3.0!\n",
      "You are setting values through chained assignment. Currently this works in certain cases, but when using Copy-on-Write (which will become the default behaviour in pandas 3.0) this will never work to update the original DataFrame or Series, because the intermediate object on which we are setting values will behave as a copy.\n",
      "A typical example is when you are setting values in a column of a DataFrame, like:\n",
      "\n",
      "df[\"col\"][row_indexer] = value\n",
      "\n",
      "Use `df.loc[row_indexer, \"col\"] = values` instead, to perform the assignment in a single step and ensure this keeps updating the original `df`.\n",
      "\n",
      "See the caveats in the documentation: https://pandas.pydata.org/pandas-docs/stable/user_guide/indexing.html#returning-a-view-versus-a-copy\n",
      "\n",
      "  data['HA_open'].iloc[0] = (data['open'].iloc[0] + data['close'].iloc[0]) / 2\n"
     ]
    },
    {
     "name": "stdout",
     "output_type": "stream",
     "text": [
      "Processing ETH/USDT on 2h timeframe\n"
     ]
    },
    {
     "name": "stderr",
     "output_type": "stream",
     "text": [
      "2024-09-28 19:05:37,997 - ERROR - Error fetching data for ETH/USDT on 2h: binance GET https://api.binance.com/api/v3/exchangeInfo\n",
      "2024-09-28 19:05:38,920 - INFO - Data for ETH/USDT on 2h saved/updated successfully.\n",
      "E:\\side projects\\backtesting&visualization\\common_functions.py:13: FutureWarning: ChainedAssignmentError: behaviour will change in pandas 3.0!\n",
      "You are setting values through chained assignment. Currently this works in certain cases, but when using Copy-on-Write (which will become the default behaviour in pandas 3.0) this will never work to update the original DataFrame or Series, because the intermediate object on which we are setting values will behave as a copy.\n",
      "A typical example is when you are setting values in a column of a DataFrame, like:\n",
      "\n",
      "df[\"col\"][row_indexer] = value\n",
      "\n",
      "Use `df.loc[row_indexer, \"col\"] = values` instead, to perform the assignment in a single step and ensure this keeps updating the original `df`.\n",
      "\n",
      "See the caveats in the documentation: https://pandas.pydata.org/pandas-docs/stable/user_guide/indexing.html#returning-a-view-versus-a-copy\n",
      "\n",
      "  data['HA_open'].iloc[0] = (data['open'].iloc[0] + data['close'].iloc[0]) / 2\n",
      "2024-09-28 19:05:40,348 - ERROR - Error fetching data for ETH/USDT on 4h: binance GET https://api.binance.com/api/v3/exchangeInfo\n",
      "2024-09-28 19:05:40,803 - INFO - Data for ETH/USDT on 4h saved/updated successfully.\n",
      "E:\\side projects\\backtesting&visualization\\common_functions.py:13: FutureWarning: ChainedAssignmentError: behaviour will change in pandas 3.0!\n",
      "You are setting values through chained assignment. Currently this works in certain cases, but when using Copy-on-Write (which will become the default behaviour in pandas 3.0) this will never work to update the original DataFrame or Series, because the intermediate object on which we are setting values will behave as a copy.\n",
      "A typical example is when you are setting values in a column of a DataFrame, like:\n",
      "\n",
      "df[\"col\"][row_indexer] = value\n",
      "\n",
      "Use `df.loc[row_indexer, \"col\"] = values` instead, to perform the assignment in a single step and ensure this keeps updating the original `df`.\n",
      "\n",
      "See the caveats in the documentation: https://pandas.pydata.org/pandas-docs/stable/user_guide/indexing.html#returning-a-view-versus-a-copy\n",
      "\n",
      "  data['HA_open'].iloc[0] = (data['open'].iloc[0] + data['close'].iloc[0]) / 2\n"
     ]
    },
    {
     "name": "stdout",
     "output_type": "stream",
     "text": [
      "Processing ETH/USDT on 4h timeframe\n"
     ]
    },
    {
     "name": "stderr",
     "output_type": "stream",
     "text": [
      "2024-09-28 19:05:43,534 - ERROR - Error fetching data for ETH/USDT on 4h: binance GET https://api.binance.com/api/v3/exchangeInfo\n",
      "2024-09-28 19:05:44,003 - INFO - Data for ETH/USDT on 4h saved/updated successfully.\n",
      "E:\\side projects\\backtesting&visualization\\common_functions.py:13: FutureWarning: ChainedAssignmentError: behaviour will change in pandas 3.0!\n",
      "You are setting values through chained assignment. Currently this works in certain cases, but when using Copy-on-Write (which will become the default behaviour in pandas 3.0) this will never work to update the original DataFrame or Series, because the intermediate object on which we are setting values will behave as a copy.\n",
      "A typical example is when you are setting values in a column of a DataFrame, like:\n",
      "\n",
      "df[\"col\"][row_indexer] = value\n",
      "\n",
      "Use `df.loc[row_indexer, \"col\"] = values` instead, to perform the assignment in a single step and ensure this keeps updating the original `df`.\n",
      "\n",
      "See the caveats in the documentation: https://pandas.pydata.org/pandas-docs/stable/user_guide/indexing.html#returning-a-view-versus-a-copy\n",
      "\n",
      "  data['HA_open'].iloc[0] = (data['open'].iloc[0] + data['close'].iloc[0]) / 2\n",
      "2024-09-28 19:05:44,663 - ERROR - Error fetching data for ETH/USDT on 1d: binance GET https://api.binance.com/api/v3/exchangeInfo\n",
      "2024-09-28 19:05:44,770 - INFO - Data for ETH/USDT on 1d saved/updated successfully.\n",
      "E:\\side projects\\backtesting&visualization\\common_functions.py:13: FutureWarning: ChainedAssignmentError: behaviour will change in pandas 3.0!\n",
      "You are setting values through chained assignment. Currently this works in certain cases, but when using Copy-on-Write (which will become the default behaviour in pandas 3.0) this will never work to update the original DataFrame or Series, because the intermediate object on which we are setting values will behave as a copy.\n",
      "A typical example is when you are setting values in a column of a DataFrame, like:\n",
      "\n",
      "df[\"col\"][row_indexer] = value\n",
      "\n",
      "Use `df.loc[row_indexer, \"col\"] = values` instead, to perform the assignment in a single step and ensure this keeps updating the original `df`.\n",
      "\n",
      "See the caveats in the documentation: https://pandas.pydata.org/pandas-docs/stable/user_guide/indexing.html#returning-a-view-versus-a-copy\n",
      "\n",
      "  data['HA_open'].iloc[0] = (data['open'].iloc[0] + data['close'].iloc[0]) / 2\n"
     ]
    },
    {
     "name": "stdout",
     "output_type": "stream",
     "text": [
      "Processing BNB/USDT on 15m timeframe\n"
     ]
    },
    {
     "name": "stderr",
     "output_type": "stream",
     "text": [
      "2024-09-28 19:05:50,351 - ERROR - Error fetching data for BNB/USDT on 15m: binance GET https://api.binance.com/api/v3/exchangeInfo\n",
      "2024-09-28 19:05:57,129 - INFO - Data for BNB/USDT on 15m saved/updated successfully.\n",
      "E:\\side projects\\backtesting&visualization\\common_functions.py:13: FutureWarning: ChainedAssignmentError: behaviour will change in pandas 3.0!\n",
      "You are setting values through chained assignment. Currently this works in certain cases, but when using Copy-on-Write (which will become the default behaviour in pandas 3.0) this will never work to update the original DataFrame or Series, because the intermediate object on which we are setting values will behave as a copy.\n",
      "A typical example is when you are setting values in a column of a DataFrame, like:\n",
      "\n",
      "df[\"col\"][row_indexer] = value\n",
      "\n",
      "Use `df.loc[row_indexer, \"col\"] = values` instead, to perform the assignment in a single step and ensure this keeps updating the original `df`.\n",
      "\n",
      "See the caveats in the documentation: https://pandas.pydata.org/pandas-docs/stable/user_guide/indexing.html#returning-a-view-versus-a-copy\n",
      "\n",
      "  data['HA_open'].iloc[0] = (data['open'].iloc[0] + data['close'].iloc[0]) / 2\n",
      "2024-09-28 19:06:07,258 - ERROR - Error fetching data for BNB/USDT on 1h: binance GET https://api.binance.com/api/v3/exchangeInfo\n",
      "2024-09-28 19:06:09,018 - INFO - Data for BNB/USDT on 1h saved/updated successfully.\n",
      "E:\\side projects\\backtesting&visualization\\common_functions.py:13: FutureWarning: ChainedAssignmentError: behaviour will change in pandas 3.0!\n",
      "You are setting values through chained assignment. Currently this works in certain cases, but when using Copy-on-Write (which will become the default behaviour in pandas 3.0) this will never work to update the original DataFrame or Series, because the intermediate object on which we are setting values will behave as a copy.\n",
      "A typical example is when you are setting values in a column of a DataFrame, like:\n",
      "\n",
      "df[\"col\"][row_indexer] = value\n",
      "\n",
      "Use `df.loc[row_indexer, \"col\"] = values` instead, to perform the assignment in a single step and ensure this keeps updating the original `df`.\n",
      "\n",
      "See the caveats in the documentation: https://pandas.pydata.org/pandas-docs/stable/user_guide/indexing.html#returning-a-view-versus-a-copy\n",
      "\n",
      "  data['HA_open'].iloc[0] = (data['open'].iloc[0] + data['close'].iloc[0]) / 2\n"
     ]
    },
    {
     "name": "stdout",
     "output_type": "stream",
     "text": [
      "Processing BNB/USDT on 30m timeframe\n"
     ]
    },
    {
     "name": "stderr",
     "output_type": "stream",
     "text": [
      "2024-09-28 19:06:54,871 - ERROR - Error fetching data for BNB/USDT on 30m: binance GET https://api.binance.com/api/v3/exchangeInfo\n",
      "2024-09-28 19:06:58,367 - INFO - Data for BNB/USDT on 30m saved/updated successfully.\n",
      "E:\\side projects\\backtesting&visualization\\common_functions.py:13: FutureWarning: ChainedAssignmentError: behaviour will change in pandas 3.0!\n",
      "You are setting values through chained assignment. Currently this works in certain cases, but when using Copy-on-Write (which will become the default behaviour in pandas 3.0) this will never work to update the original DataFrame or Series, because the intermediate object on which we are setting values will behave as a copy.\n",
      "A typical example is when you are setting values in a column of a DataFrame, like:\n",
      "\n",
      "df[\"col\"][row_indexer] = value\n",
      "\n",
      "Use `df.loc[row_indexer, \"col\"] = values` instead, to perform the assignment in a single step and ensure this keeps updating the original `df`.\n",
      "\n",
      "See the caveats in the documentation: https://pandas.pydata.org/pandas-docs/stable/user_guide/indexing.html#returning-a-view-versus-a-copy\n",
      "\n",
      "  data['HA_open'].iloc[0] = (data['open'].iloc[0] + data['close'].iloc[0]) / 2\n",
      "2024-09-28 19:07:04,040 - ERROR - Error fetching data for BNB/USDT on 1h: binance GET https://api.binance.com/api/v3/exchangeInfo\n",
      "2024-09-28 19:07:05,849 - INFO - Data for BNB/USDT on 1h saved/updated successfully.\n",
      "E:\\side projects\\backtesting&visualization\\common_functions.py:13: FutureWarning: ChainedAssignmentError: behaviour will change in pandas 3.0!\n",
      "You are setting values through chained assignment. Currently this works in certain cases, but when using Copy-on-Write (which will become the default behaviour in pandas 3.0) this will never work to update the original DataFrame or Series, because the intermediate object on which we are setting values will behave as a copy.\n",
      "A typical example is when you are setting values in a column of a DataFrame, like:\n",
      "\n",
      "df[\"col\"][row_indexer] = value\n",
      "\n",
      "Use `df.loc[row_indexer, \"col\"] = values` instead, to perform the assignment in a single step and ensure this keeps updating the original `df`.\n",
      "\n",
      "See the caveats in the documentation: https://pandas.pydata.org/pandas-docs/stable/user_guide/indexing.html#returning-a-view-versus-a-copy\n",
      "\n",
      "  data['HA_open'].iloc[0] = (data['open'].iloc[0] + data['close'].iloc[0]) / 2\n"
     ]
    },
    {
     "name": "stdout",
     "output_type": "stream",
     "text": [
      "Processing BNB/USDT on 1h timeframe\n"
     ]
    },
    {
     "name": "stderr",
     "output_type": "stream",
     "text": [
      "2024-09-28 19:07:15,802 - ERROR - Error fetching data for BNB/USDT on 1h: binance GET https://api.binance.com/api/v3/exchangeInfo\n",
      "2024-09-28 19:07:17,545 - INFO - Data for BNB/USDT on 1h saved/updated successfully.\n",
      "E:\\side projects\\backtesting&visualization\\common_functions.py:13: FutureWarning: ChainedAssignmentError: behaviour will change in pandas 3.0!\n",
      "You are setting values through chained assignment. Currently this works in certain cases, but when using Copy-on-Write (which will become the default behaviour in pandas 3.0) this will never work to update the original DataFrame or Series, because the intermediate object on which we are setting values will behave as a copy.\n",
      "A typical example is when you are setting values in a column of a DataFrame, like:\n",
      "\n",
      "df[\"col\"][row_indexer] = value\n",
      "\n",
      "Use `df.loc[row_indexer, \"col\"] = values` instead, to perform the assignment in a single step and ensure this keeps updating the original `df`.\n",
      "\n",
      "See the caveats in the documentation: https://pandas.pydata.org/pandas-docs/stable/user_guide/indexing.html#returning-a-view-versus-a-copy\n",
      "\n",
      "  data['HA_open'].iloc[0] = (data['open'].iloc[0] + data['close'].iloc[0]) / 2\n",
      "2024-09-28 19:07:20,055 - ERROR - Error fetching data for BNB/USDT on 4h: binance GET https://api.binance.com/api/v3/exchangeInfo\n",
      "2024-09-28 19:07:20,566 - INFO - Data for BNB/USDT on 4h saved/updated successfully.\n",
      "E:\\side projects\\backtesting&visualization\\common_functions.py:13: FutureWarning: ChainedAssignmentError: behaviour will change in pandas 3.0!\n",
      "You are setting values through chained assignment. Currently this works in certain cases, but when using Copy-on-Write (which will become the default behaviour in pandas 3.0) this will never work to update the original DataFrame or Series, because the intermediate object on which we are setting values will behave as a copy.\n",
      "A typical example is when you are setting values in a column of a DataFrame, like:\n",
      "\n",
      "df[\"col\"][row_indexer] = value\n",
      "\n",
      "Use `df.loc[row_indexer, \"col\"] = values` instead, to perform the assignment in a single step and ensure this keeps updating the original `df`.\n",
      "\n",
      "See the caveats in the documentation: https://pandas.pydata.org/pandas-docs/stable/user_guide/indexing.html#returning-a-view-versus-a-copy\n",
      "\n",
      "  data['HA_open'].iloc[0] = (data['open'].iloc[0] + data['close'].iloc[0]) / 2\n"
     ]
    },
    {
     "name": "stdout",
     "output_type": "stream",
     "text": [
      "Processing BNB/USDT on 2h timeframe\n"
     ]
    },
    {
     "name": "stderr",
     "output_type": "stream",
     "text": [
      "2024-09-28 19:07:27,890 - ERROR - Error fetching data for BNB/USDT on 2h: binance GET https://api.binance.com/api/v3/exchangeInfo\n",
      "2024-09-28 19:07:28,874 - INFO - Data for BNB/USDT on 2h saved/updated successfully.\n",
      "E:\\side projects\\backtesting&visualization\\common_functions.py:13: FutureWarning: ChainedAssignmentError: behaviour will change in pandas 3.0!\n",
      "You are setting values through chained assignment. Currently this works in certain cases, but when using Copy-on-Write (which will become the default behaviour in pandas 3.0) this will never work to update the original DataFrame or Series, because the intermediate object on which we are setting values will behave as a copy.\n",
      "A typical example is when you are setting values in a column of a DataFrame, like:\n",
      "\n",
      "df[\"col\"][row_indexer] = value\n",
      "\n",
      "Use `df.loc[row_indexer, \"col\"] = values` instead, to perform the assignment in a single step and ensure this keeps updating the original `df`.\n",
      "\n",
      "See the caveats in the documentation: https://pandas.pydata.org/pandas-docs/stable/user_guide/indexing.html#returning-a-view-versus-a-copy\n",
      "\n",
      "  data['HA_open'].iloc[0] = (data['open'].iloc[0] + data['close'].iloc[0]) / 2\n",
      "2024-09-28 19:07:30,414 - ERROR - Error fetching data for BNB/USDT on 4h: binance GET https://api.binance.com/api/v3/exchangeInfo\n",
      "2024-09-28 19:07:30,888 - INFO - Data for BNB/USDT on 4h saved/updated successfully.\n",
      "E:\\side projects\\backtesting&visualization\\common_functions.py:13: FutureWarning: ChainedAssignmentError: behaviour will change in pandas 3.0!\n",
      "You are setting values through chained assignment. Currently this works in certain cases, but when using Copy-on-Write (which will become the default behaviour in pandas 3.0) this will never work to update the original DataFrame or Series, because the intermediate object on which we are setting values will behave as a copy.\n",
      "A typical example is when you are setting values in a column of a DataFrame, like:\n",
      "\n",
      "df[\"col\"][row_indexer] = value\n",
      "\n",
      "Use `df.loc[row_indexer, \"col\"] = values` instead, to perform the assignment in a single step and ensure this keeps updating the original `df`.\n",
      "\n",
      "See the caveats in the documentation: https://pandas.pydata.org/pandas-docs/stable/user_guide/indexing.html#returning-a-view-versus-a-copy\n",
      "\n",
      "  data['HA_open'].iloc[0] = (data['open'].iloc[0] + data['close'].iloc[0]) / 2\n"
     ]
    },
    {
     "name": "stdout",
     "output_type": "stream",
     "text": [
      "Processing BNB/USDT on 4h timeframe\n"
     ]
    },
    {
     "name": "stderr",
     "output_type": "stream",
     "text": [
      "2024-09-28 19:07:33,418 - ERROR - Error fetching data for BNB/USDT on 4h: binance GET https://api.binance.com/api/v3/exchangeInfo\n",
      "2024-09-28 19:07:33,941 - INFO - Data for BNB/USDT on 4h saved/updated successfully.\n",
      "E:\\side projects\\backtesting&visualization\\common_functions.py:13: FutureWarning: ChainedAssignmentError: behaviour will change in pandas 3.0!\n",
      "You are setting values through chained assignment. Currently this works in certain cases, but when using Copy-on-Write (which will become the default behaviour in pandas 3.0) this will never work to update the original DataFrame or Series, because the intermediate object on which we are setting values will behave as a copy.\n",
      "A typical example is when you are setting values in a column of a DataFrame, like:\n",
      "\n",
      "df[\"col\"][row_indexer] = value\n",
      "\n",
      "Use `df.loc[row_indexer, \"col\"] = values` instead, to perform the assignment in a single step and ensure this keeps updating the original `df`.\n",
      "\n",
      "See the caveats in the documentation: https://pandas.pydata.org/pandas-docs/stable/user_guide/indexing.html#returning-a-view-versus-a-copy\n",
      "\n",
      "  data['HA_open'].iloc[0] = (data['open'].iloc[0] + data['close'].iloc[0]) / 2\n",
      "2024-09-28 19:07:34,601 - ERROR - Error fetching data for BNB/USDT on 1d: binance GET https://api.binance.com/api/v3/exchangeInfo\n",
      "2024-09-28 19:07:34,707 - INFO - Data for BNB/USDT on 1d saved/updated successfully.\n",
      "E:\\side projects\\backtesting&visualization\\common_functions.py:13: FutureWarning: ChainedAssignmentError: behaviour will change in pandas 3.0!\n",
      "You are setting values through chained assignment. Currently this works in certain cases, but when using Copy-on-Write (which will become the default behaviour in pandas 3.0) this will never work to update the original DataFrame or Series, because the intermediate object on which we are setting values will behave as a copy.\n",
      "A typical example is when you are setting values in a column of a DataFrame, like:\n",
      "\n",
      "df[\"col\"][row_indexer] = value\n",
      "\n",
      "Use `df.loc[row_indexer, \"col\"] = values` instead, to perform the assignment in a single step and ensure this keeps updating the original `df`.\n",
      "\n",
      "See the caveats in the documentation: https://pandas.pydata.org/pandas-docs/stable/user_guide/indexing.html#returning-a-view-versus-a-copy\n",
      "\n",
      "  data['HA_open'].iloc[0] = (data['open'].iloc[0] + data['close'].iloc[0]) / 2\n"
     ]
    },
    {
     "name": "stdout",
     "output_type": "stream",
     "text": [
      "Processing SOL/USDT on 15m timeframe\n"
     ]
    },
    {
     "name": "stderr",
     "output_type": "stream",
     "text": [
      "2024-09-28 19:07:40,907 - ERROR - Error fetching data for SOL/USDT on 15m: binance GET https://api.binance.com/api/v3/exchangeInfo\n",
      "2024-09-28 19:07:48,010 - INFO - Data for SOL/USDT on 15m saved/updated successfully.\n",
      "E:\\side projects\\backtesting&visualization\\common_functions.py:13: FutureWarning: ChainedAssignmentError: behaviour will change in pandas 3.0!\n",
      "You are setting values through chained assignment. Currently this works in certain cases, but when using Copy-on-Write (which will become the default behaviour in pandas 3.0) this will never work to update the original DataFrame or Series, because the intermediate object on which we are setting values will behave as a copy.\n",
      "A typical example is when you are setting values in a column of a DataFrame, like:\n",
      "\n",
      "df[\"col\"][row_indexer] = value\n",
      "\n",
      "Use `df.loc[row_indexer, \"col\"] = values` instead, to perform the assignment in a single step and ensure this keeps updating the original `df`.\n",
      "\n",
      "See the caveats in the documentation: https://pandas.pydata.org/pandas-docs/stable/user_guide/indexing.html#returning-a-view-versus-a-copy\n",
      "\n",
      "  data['HA_open'].iloc[0] = (data['open'].iloc[0] + data['close'].iloc[0]) / 2\n",
      "2024-09-28 19:07:58,130 - ERROR - Error fetching data for SOL/USDT on 1h: binance GET https://api.binance.com/api/v3/exchangeInfo\n",
      "2024-09-28 19:07:59,943 - INFO - Data for SOL/USDT on 1h saved/updated successfully.\n",
      "E:\\side projects\\backtesting&visualization\\common_functions.py:13: FutureWarning: ChainedAssignmentError: behaviour will change in pandas 3.0!\n",
      "You are setting values through chained assignment. Currently this works in certain cases, but when using Copy-on-Write (which will become the default behaviour in pandas 3.0) this will never work to update the original DataFrame or Series, because the intermediate object on which we are setting values will behave as a copy.\n",
      "A typical example is when you are setting values in a column of a DataFrame, like:\n",
      "\n",
      "df[\"col\"][row_indexer] = value\n",
      "\n",
      "Use `df.loc[row_indexer, \"col\"] = values` instead, to perform the assignment in a single step and ensure this keeps updating the original `df`.\n",
      "\n",
      "See the caveats in the documentation: https://pandas.pydata.org/pandas-docs/stable/user_guide/indexing.html#returning-a-view-versus-a-copy\n",
      "\n",
      "  data['HA_open'].iloc[0] = (data['open'].iloc[0] + data['close'].iloc[0]) / 2\n"
     ]
    },
    {
     "name": "stdout",
     "output_type": "stream",
     "text": [
      "Processing SOL/USDT on 30m timeframe\n"
     ]
    },
    {
     "name": "stderr",
     "output_type": "stream",
     "text": [
      "2024-09-28 19:09:03,854 - INFO - Data for SOL/USDT on 30m saved/updated successfully.\n",
      "E:\\side projects\\backtesting&visualization\\common_functions.py:13: FutureWarning: ChainedAssignmentError: behaviour will change in pandas 3.0!\n",
      "You are setting values through chained assignment. Currently this works in certain cases, but when using Copy-on-Write (which will become the default behaviour in pandas 3.0) this will never work to update the original DataFrame or Series, because the intermediate object on which we are setting values will behave as a copy.\n",
      "A typical example is when you are setting values in a column of a DataFrame, like:\n",
      "\n",
      "df[\"col\"][row_indexer] = value\n",
      "\n",
      "Use `df.loc[row_indexer, \"col\"] = values` instead, to perform the assignment in a single step and ensure this keeps updating the original `df`.\n",
      "\n",
      "See the caveats in the documentation: https://pandas.pydata.org/pandas-docs/stable/user_guide/indexing.html#returning-a-view-versus-a-copy\n",
      "\n",
      "  data['HA_open'].iloc[0] = (data['open'].iloc[0] + data['close'].iloc[0]) / 2\n",
      "2024-09-28 19:09:15,855 - INFO - Data for SOL/USDT on 1h saved/updated successfully.\n",
      "E:\\side projects\\backtesting&visualization\\common_functions.py:13: FutureWarning: ChainedAssignmentError: behaviour will change in pandas 3.0!\n",
      "You are setting values through chained assignment. Currently this works in certain cases, but when using Copy-on-Write (which will become the default behaviour in pandas 3.0) this will never work to update the original DataFrame or Series, because the intermediate object on which we are setting values will behave as a copy.\n",
      "A typical example is when you are setting values in a column of a DataFrame, like:\n",
      "\n",
      "df[\"col\"][row_indexer] = value\n",
      "\n",
      "Use `df.loc[row_indexer, \"col\"] = values` instead, to perform the assignment in a single step and ensure this keeps updating the original `df`.\n",
      "\n",
      "See the caveats in the documentation: https://pandas.pydata.org/pandas-docs/stable/user_guide/indexing.html#returning-a-view-versus-a-copy\n",
      "\n",
      "  data['HA_open'].iloc[0] = (data['open'].iloc[0] + data['close'].iloc[0]) / 2\n"
     ]
    },
    {
     "name": "stdout",
     "output_type": "stream",
     "text": [
      "Processing SOL/USDT on 1h timeframe\n"
     ]
    },
    {
     "name": "stderr",
     "output_type": "stream",
     "text": [
      "2024-09-28 19:09:41,732 - INFO - Data for SOL/USDT on 1h saved/updated successfully.\n",
      "E:\\side projects\\backtesting&visualization\\common_functions.py:13: FutureWarning: ChainedAssignmentError: behaviour will change in pandas 3.0!\n",
      "You are setting values through chained assignment. Currently this works in certain cases, but when using Copy-on-Write (which will become the default behaviour in pandas 3.0) this will never work to update the original DataFrame or Series, because the intermediate object on which we are setting values will behave as a copy.\n",
      "A typical example is when you are setting values in a column of a DataFrame, like:\n",
      "\n",
      "df[\"col\"][row_indexer] = value\n",
      "\n",
      "Use `df.loc[row_indexer, \"col\"] = values` instead, to perform the assignment in a single step and ensure this keeps updating the original `df`.\n",
      "\n",
      "See the caveats in the documentation: https://pandas.pydata.org/pandas-docs/stable/user_guide/indexing.html#returning-a-view-versus-a-copy\n",
      "\n",
      "  data['HA_open'].iloc[0] = (data['open'].iloc[0] + data['close'].iloc[0]) / 2\n",
      "2024-09-28 19:09:49,608 - INFO - Data for SOL/USDT on 4h saved/updated successfully.\n",
      "E:\\side projects\\backtesting&visualization\\common_functions.py:13: FutureWarning: ChainedAssignmentError: behaviour will change in pandas 3.0!\n",
      "You are setting values through chained assignment. Currently this works in certain cases, but when using Copy-on-Write (which will become the default behaviour in pandas 3.0) this will never work to update the original DataFrame or Series, because the intermediate object on which we are setting values will behave as a copy.\n",
      "A typical example is when you are setting values in a column of a DataFrame, like:\n",
      "\n",
      "df[\"col\"][row_indexer] = value\n",
      "\n",
      "Use `df.loc[row_indexer, \"col\"] = values` instead, to perform the assignment in a single step and ensure this keeps updating the original `df`.\n",
      "\n",
      "See the caveats in the documentation: https://pandas.pydata.org/pandas-docs/stable/user_guide/indexing.html#returning-a-view-versus-a-copy\n",
      "\n",
      "  data['HA_open'].iloc[0] = (data['open'].iloc[0] + data['close'].iloc[0]) / 2\n"
     ]
    },
    {
     "name": "stdout",
     "output_type": "stream",
     "text": [
      "Processing SOL/USDT on 2h timeframe\n"
     ]
    },
    {
     "name": "stderr",
     "output_type": "stream",
     "text": [
      "2024-09-28 19:10:02,675 - INFO - Data for SOL/USDT on 2h saved/updated successfully.\n",
      "E:\\side projects\\backtesting&visualization\\common_functions.py:13: FutureWarning: ChainedAssignmentError: behaviour will change in pandas 3.0!\n",
      "You are setting values through chained assignment. Currently this works in certain cases, but when using Copy-on-Write (which will become the default behaviour in pandas 3.0) this will never work to update the original DataFrame or Series, because the intermediate object on which we are setting values will behave as a copy.\n",
      "A typical example is when you are setting values in a column of a DataFrame, like:\n",
      "\n",
      "df[\"col\"][row_indexer] = value\n",
      "\n",
      "Use `df.loc[row_indexer, \"col\"] = values` instead, to perform the assignment in a single step and ensure this keeps updating the original `df`.\n",
      "\n",
      "See the caveats in the documentation: https://pandas.pydata.org/pandas-docs/stable/user_guide/indexing.html#returning-a-view-versus-a-copy\n",
      "\n",
      "  data['HA_open'].iloc[0] = (data['open'].iloc[0] + data['close'].iloc[0]) / 2\n",
      "2024-09-28 19:10:09,088 - INFO - Data for SOL/USDT on 4h saved/updated successfully.\n",
      "E:\\side projects\\backtesting&visualization\\common_functions.py:13: FutureWarning: ChainedAssignmentError: behaviour will change in pandas 3.0!\n",
      "You are setting values through chained assignment. Currently this works in certain cases, but when using Copy-on-Write (which will become the default behaviour in pandas 3.0) this will never work to update the original DataFrame or Series, because the intermediate object on which we are setting values will behave as a copy.\n",
      "A typical example is when you are setting values in a column of a DataFrame, like:\n",
      "\n",
      "df[\"col\"][row_indexer] = value\n",
      "\n",
      "Use `df.loc[row_indexer, \"col\"] = values` instead, to perform the assignment in a single step and ensure this keeps updating the original `df`.\n",
      "\n",
      "See the caveats in the documentation: https://pandas.pydata.org/pandas-docs/stable/user_guide/indexing.html#returning-a-view-versus-a-copy\n",
      "\n",
      "  data['HA_open'].iloc[0] = (data['open'].iloc[0] + data['close'].iloc[0]) / 2\n"
     ]
    },
    {
     "name": "stdout",
     "output_type": "stream",
     "text": [
      "Processing SOL/USDT on 4h timeframe\n"
     ]
    },
    {
     "name": "stderr",
     "output_type": "stream",
     "text": [
      "2024-09-28 19:10:16,901 - INFO - Data for SOL/USDT on 4h saved/updated successfully.\n",
      "E:\\side projects\\backtesting&visualization\\common_functions.py:13: FutureWarning: ChainedAssignmentError: behaviour will change in pandas 3.0!\n",
      "You are setting values through chained assignment. Currently this works in certain cases, but when using Copy-on-Write (which will become the default behaviour in pandas 3.0) this will never work to update the original DataFrame or Series, because the intermediate object on which we are setting values will behave as a copy.\n",
      "A typical example is when you are setting values in a column of a DataFrame, like:\n",
      "\n",
      "df[\"col\"][row_indexer] = value\n",
      "\n",
      "Use `df.loc[row_indexer, \"col\"] = values` instead, to perform the assignment in a single step and ensure this keeps updating the original `df`.\n",
      "\n",
      "See the caveats in the documentation: https://pandas.pydata.org/pandas-docs/stable/user_guide/indexing.html#returning-a-view-versus-a-copy\n",
      "\n",
      "  data['HA_open'].iloc[0] = (data['open'].iloc[0] + data['close'].iloc[0]) / 2\n",
      "2024-09-28 19:10:22,598 - INFO - Data for SOL/USDT on 1d saved/updated successfully.\n",
      "E:\\side projects\\backtesting&visualization\\common_functions.py:13: FutureWarning: ChainedAssignmentError: behaviour will change in pandas 3.0!\n",
      "You are setting values through chained assignment. Currently this works in certain cases, but when using Copy-on-Write (which will become the default behaviour in pandas 3.0) this will never work to update the original DataFrame or Series, because the intermediate object on which we are setting values will behave as a copy.\n",
      "A typical example is when you are setting values in a column of a DataFrame, like:\n",
      "\n",
      "df[\"col\"][row_indexer] = value\n",
      "\n",
      "Use `df.loc[row_indexer, \"col\"] = values` instead, to perform the assignment in a single step and ensure this keeps updating the original `df`.\n",
      "\n",
      "See the caveats in the documentation: https://pandas.pydata.org/pandas-docs/stable/user_guide/indexing.html#returning-a-view-versus-a-copy\n",
      "\n",
      "  data['HA_open'].iloc[0] = (data['open'].iloc[0] + data['close'].iloc[0]) / 2\n"
     ]
    },
    {
     "name": "stdout",
     "output_type": "stream",
     "text": [
      "Processing XRP/USDT on 15m timeframe\n"
     ]
    },
    {
     "name": "stderr",
     "output_type": "stream",
     "text": [
      "2024-09-28 19:10:39,558 - INFO - Data for XRP/USDT on 15m saved/updated successfully.\n",
      "E:\\side projects\\backtesting&visualization\\common_functions.py:13: FutureWarning: ChainedAssignmentError: behaviour will change in pandas 3.0!\n",
      "You are setting values through chained assignment. Currently this works in certain cases, but when using Copy-on-Write (which will become the default behaviour in pandas 3.0) this will never work to update the original DataFrame or Series, because the intermediate object on which we are setting values will behave as a copy.\n",
      "A typical example is when you are setting values in a column of a DataFrame, like:\n",
      "\n",
      "df[\"col\"][row_indexer] = value\n",
      "\n",
      "Use `df.loc[row_indexer, \"col\"] = values` instead, to perform the assignment in a single step and ensure this keeps updating the original `df`.\n",
      "\n",
      "See the caveats in the documentation: https://pandas.pydata.org/pandas-docs/stable/user_guide/indexing.html#returning-a-view-versus-a-copy\n",
      "\n",
      "  data['HA_open'].iloc[0] = (data['open'].iloc[0] + data['close'].iloc[0]) / 2\n",
      "2024-09-28 19:10:56,007 - INFO - Data for XRP/USDT on 1h saved/updated successfully.\n",
      "E:\\side projects\\backtesting&visualization\\common_functions.py:13: FutureWarning: ChainedAssignmentError: behaviour will change in pandas 3.0!\n",
      "You are setting values through chained assignment. Currently this works in certain cases, but when using Copy-on-Write (which will become the default behaviour in pandas 3.0) this will never work to update the original DataFrame or Series, because the intermediate object on which we are setting values will behave as a copy.\n",
      "A typical example is when you are setting values in a column of a DataFrame, like:\n",
      "\n",
      "df[\"col\"][row_indexer] = value\n",
      "\n",
      "Use `df.loc[row_indexer, \"col\"] = values` instead, to perform the assignment in a single step and ensure this keeps updating the original `df`.\n",
      "\n",
      "See the caveats in the documentation: https://pandas.pydata.org/pandas-docs/stable/user_guide/indexing.html#returning-a-view-versus-a-copy\n",
      "\n",
      "  data['HA_open'].iloc[0] = (data['open'].iloc[0] + data['close'].iloc[0]) / 2\n"
     ]
    },
    {
     "name": "stdout",
     "output_type": "stream",
     "text": [
      "Processing XRP/USDT on 30m timeframe\n"
     ]
    },
    {
     "name": "stderr",
     "output_type": "stream",
     "text": [
      "2024-09-28 19:11:53,636 - INFO - Data for XRP/USDT on 30m saved/updated successfully.\n",
      "E:\\side projects\\backtesting&visualization\\common_functions.py:13: FutureWarning: ChainedAssignmentError: behaviour will change in pandas 3.0!\n",
      "You are setting values through chained assignment. Currently this works in certain cases, but when using Copy-on-Write (which will become the default behaviour in pandas 3.0) this will never work to update the original DataFrame or Series, because the intermediate object on which we are setting values will behave as a copy.\n",
      "A typical example is when you are setting values in a column of a DataFrame, like:\n",
      "\n",
      "df[\"col\"][row_indexer] = value\n",
      "\n",
      "Use `df.loc[row_indexer, \"col\"] = values` instead, to perform the assignment in a single step and ensure this keeps updating the original `df`.\n",
      "\n",
      "See the caveats in the documentation: https://pandas.pydata.org/pandas-docs/stable/user_guide/indexing.html#returning-a-view-versus-a-copy\n",
      "\n",
      "  data['HA_open'].iloc[0] = (data['open'].iloc[0] + data['close'].iloc[0]) / 2\n",
      "2024-09-28 19:12:05,905 - INFO - Data for XRP/USDT on 1h saved/updated successfully.\n",
      "E:\\side projects\\backtesting&visualization\\common_functions.py:13: FutureWarning: ChainedAssignmentError: behaviour will change in pandas 3.0!\n",
      "You are setting values through chained assignment. Currently this works in certain cases, but when using Copy-on-Write (which will become the default behaviour in pandas 3.0) this will never work to update the original DataFrame or Series, because the intermediate object on which we are setting values will behave as a copy.\n",
      "A typical example is when you are setting values in a column of a DataFrame, like:\n",
      "\n",
      "df[\"col\"][row_indexer] = value\n",
      "\n",
      "Use `df.loc[row_indexer, \"col\"] = values` instead, to perform the assignment in a single step and ensure this keeps updating the original `df`.\n",
      "\n",
      "See the caveats in the documentation: https://pandas.pydata.org/pandas-docs/stable/user_guide/indexing.html#returning-a-view-versus-a-copy\n",
      "\n",
      "  data['HA_open'].iloc[0] = (data['open'].iloc[0] + data['close'].iloc[0]) / 2\n"
     ]
    },
    {
     "name": "stdout",
     "output_type": "stream",
     "text": [
      "Processing XRP/USDT on 1h timeframe\n"
     ]
    },
    {
     "name": "stderr",
     "output_type": "stream",
     "text": [
      "2024-09-28 19:12:31,207 - INFO - Data for XRP/USDT on 1h saved/updated successfully.\n",
      "E:\\side projects\\backtesting&visualization\\common_functions.py:13: FutureWarning: ChainedAssignmentError: behaviour will change in pandas 3.0!\n",
      "You are setting values through chained assignment. Currently this works in certain cases, but when using Copy-on-Write (which will become the default behaviour in pandas 3.0) this will never work to update the original DataFrame or Series, because the intermediate object on which we are setting values will behave as a copy.\n",
      "A typical example is when you are setting values in a column of a DataFrame, like:\n",
      "\n",
      "df[\"col\"][row_indexer] = value\n",
      "\n",
      "Use `df.loc[row_indexer, \"col\"] = values` instead, to perform the assignment in a single step and ensure this keeps updating the original `df`.\n",
      "\n",
      "See the caveats in the documentation: https://pandas.pydata.org/pandas-docs/stable/user_guide/indexing.html#returning-a-view-versus-a-copy\n",
      "\n",
      "  data['HA_open'].iloc[0] = (data['open'].iloc[0] + data['close'].iloc[0]) / 2\n",
      "2024-09-28 19:12:39,045 - INFO - Data for XRP/USDT on 4h saved/updated successfully.\n",
      "E:\\side projects\\backtesting&visualization\\common_functions.py:13: FutureWarning: ChainedAssignmentError: behaviour will change in pandas 3.0!\n",
      "You are setting values through chained assignment. Currently this works in certain cases, but when using Copy-on-Write (which will become the default behaviour in pandas 3.0) this will never work to update the original DataFrame or Series, because the intermediate object on which we are setting values will behave as a copy.\n",
      "A typical example is when you are setting values in a column of a DataFrame, like:\n",
      "\n",
      "df[\"col\"][row_indexer] = value\n",
      "\n",
      "Use `df.loc[row_indexer, \"col\"] = values` instead, to perform the assignment in a single step and ensure this keeps updating the original `df`.\n",
      "\n",
      "See the caveats in the documentation: https://pandas.pydata.org/pandas-docs/stable/user_guide/indexing.html#returning-a-view-versus-a-copy\n",
      "\n",
      "  data['HA_open'].iloc[0] = (data['open'].iloc[0] + data['close'].iloc[0]) / 2\n"
     ]
    },
    {
     "name": "stdout",
     "output_type": "stream",
     "text": [
      "Processing XRP/USDT on 2h timeframe\n"
     ]
    },
    {
     "name": "stderr",
     "output_type": "stream",
     "text": [
      "2024-09-28 19:12:51,263 - INFO - Data for XRP/USDT on 2h saved/updated successfully.\n",
      "E:\\side projects\\backtesting&visualization\\common_functions.py:13: FutureWarning: ChainedAssignmentError: behaviour will change in pandas 3.0!\n",
      "You are setting values through chained assignment. Currently this works in certain cases, but when using Copy-on-Write (which will become the default behaviour in pandas 3.0) this will never work to update the original DataFrame or Series, because the intermediate object on which we are setting values will behave as a copy.\n",
      "A typical example is when you are setting values in a column of a DataFrame, like:\n",
      "\n",
      "df[\"col\"][row_indexer] = value\n",
      "\n",
      "Use `df.loc[row_indexer, \"col\"] = values` instead, to perform the assignment in a single step and ensure this keeps updating the original `df`.\n",
      "\n",
      "See the caveats in the documentation: https://pandas.pydata.org/pandas-docs/stable/user_guide/indexing.html#returning-a-view-versus-a-copy\n",
      "\n",
      "  data['HA_open'].iloc[0] = (data['open'].iloc[0] + data['close'].iloc[0]) / 2\n",
      "2024-09-28 19:12:58,152 - INFO - Data for XRP/USDT on 4h saved/updated successfully.\n",
      "E:\\side projects\\backtesting&visualization\\common_functions.py:13: FutureWarning: ChainedAssignmentError: behaviour will change in pandas 3.0!\n",
      "You are setting values through chained assignment. Currently this works in certain cases, but when using Copy-on-Write (which will become the default behaviour in pandas 3.0) this will never work to update the original DataFrame or Series, because the intermediate object on which we are setting values will behave as a copy.\n",
      "A typical example is when you are setting values in a column of a DataFrame, like:\n",
      "\n",
      "df[\"col\"][row_indexer] = value\n",
      "\n",
      "Use `df.loc[row_indexer, \"col\"] = values` instead, to perform the assignment in a single step and ensure this keeps updating the original `df`.\n",
      "\n",
      "See the caveats in the documentation: https://pandas.pydata.org/pandas-docs/stable/user_guide/indexing.html#returning-a-view-versus-a-copy\n",
      "\n",
      "  data['HA_open'].iloc[0] = (data['open'].iloc[0] + data['close'].iloc[0]) / 2\n"
     ]
    },
    {
     "name": "stdout",
     "output_type": "stream",
     "text": [
      "Processing XRP/USDT on 4h timeframe\n"
     ]
    },
    {
     "name": "stderr",
     "output_type": "stream",
     "text": [
      "2024-09-28 19:13:06,766 - INFO - Data for XRP/USDT on 4h saved/updated successfully.\n",
      "E:\\side projects\\backtesting&visualization\\common_functions.py:13: FutureWarning: ChainedAssignmentError: behaviour will change in pandas 3.0!\n",
      "You are setting values through chained assignment. Currently this works in certain cases, but when using Copy-on-Write (which will become the default behaviour in pandas 3.0) this will never work to update the original DataFrame or Series, because the intermediate object on which we are setting values will behave as a copy.\n",
      "A typical example is when you are setting values in a column of a DataFrame, like:\n",
      "\n",
      "df[\"col\"][row_indexer] = value\n",
      "\n",
      "Use `df.loc[row_indexer, \"col\"] = values` instead, to perform the assignment in a single step and ensure this keeps updating the original `df`.\n",
      "\n",
      "See the caveats in the documentation: https://pandas.pydata.org/pandas-docs/stable/user_guide/indexing.html#returning-a-view-versus-a-copy\n",
      "\n",
      "  data['HA_open'].iloc[0] = (data['open'].iloc[0] + data['close'].iloc[0]) / 2\n",
      "2024-09-28 19:13:13,063 - INFO - Data for XRP/USDT on 1d saved/updated successfully.\n",
      "E:\\side projects\\backtesting&visualization\\common_functions.py:13: FutureWarning: ChainedAssignmentError: behaviour will change in pandas 3.0!\n",
      "You are setting values through chained assignment. Currently this works in certain cases, but when using Copy-on-Write (which will become the default behaviour in pandas 3.0) this will never work to update the original DataFrame or Series, because the intermediate object on which we are setting values will behave as a copy.\n",
      "A typical example is when you are setting values in a column of a DataFrame, like:\n",
      "\n",
      "df[\"col\"][row_indexer] = value\n",
      "\n",
      "Use `df.loc[row_indexer, \"col\"] = values` instead, to perform the assignment in a single step and ensure this keeps updating the original `df`.\n",
      "\n",
      "See the caveats in the documentation: https://pandas.pydata.org/pandas-docs/stable/user_guide/indexing.html#returning-a-view-versus-a-copy\n",
      "\n",
      "  data['HA_open'].iloc[0] = (data['open'].iloc[0] + data['close'].iloc[0]) / 2\n"
     ]
    },
    {
     "name": "stdout",
     "output_type": "stream",
     "text": [
      "Processing ADA/USDT on 15m timeframe\n"
     ]
    },
    {
     "name": "stderr",
     "output_type": "stream",
     "text": [
      "2024-09-28 19:13:29,688 - INFO - Data for ADA/USDT on 15m saved/updated successfully.\n",
      "E:\\side projects\\backtesting&visualization\\common_functions.py:13: FutureWarning: ChainedAssignmentError: behaviour will change in pandas 3.0!\n",
      "You are setting values through chained assignment. Currently this works in certain cases, but when using Copy-on-Write (which will become the default behaviour in pandas 3.0) this will never work to update the original DataFrame or Series, because the intermediate object on which we are setting values will behave as a copy.\n",
      "A typical example is when you are setting values in a column of a DataFrame, like:\n",
      "\n",
      "df[\"col\"][row_indexer] = value\n",
      "\n",
      "Use `df.loc[row_indexer, \"col\"] = values` instead, to perform the assignment in a single step and ensure this keeps updating the original `df`.\n",
      "\n",
      "See the caveats in the documentation: https://pandas.pydata.org/pandas-docs/stable/user_guide/indexing.html#returning-a-view-versus-a-copy\n",
      "\n",
      "  data['HA_open'].iloc[0] = (data['open'].iloc[0] + data['close'].iloc[0]) / 2\n",
      "2024-09-28 19:13:47,029 - INFO - Data for ADA/USDT on 1h saved/updated successfully.\n",
      "E:\\side projects\\backtesting&visualization\\common_functions.py:13: FutureWarning: ChainedAssignmentError: behaviour will change in pandas 3.0!\n",
      "You are setting values through chained assignment. Currently this works in certain cases, but when using Copy-on-Write (which will become the default behaviour in pandas 3.0) this will never work to update the original DataFrame or Series, because the intermediate object on which we are setting values will behave as a copy.\n",
      "A typical example is when you are setting values in a column of a DataFrame, like:\n",
      "\n",
      "df[\"col\"][row_indexer] = value\n",
      "\n",
      "Use `df.loc[row_indexer, \"col\"] = values` instead, to perform the assignment in a single step and ensure this keeps updating the original `df`.\n",
      "\n",
      "See the caveats in the documentation: https://pandas.pydata.org/pandas-docs/stable/user_guide/indexing.html#returning-a-view-versus-a-copy\n",
      "\n",
      "  data['HA_open'].iloc[0] = (data['open'].iloc[0] + data['close'].iloc[0]) / 2\n"
     ]
    },
    {
     "name": "stdout",
     "output_type": "stream",
     "text": [
      "Processing ADA/USDT on 30m timeframe\n"
     ]
    },
    {
     "name": "stderr",
     "output_type": "stream",
     "text": [
      "2024-09-28 19:14:44,897 - INFO - Data for ADA/USDT on 30m saved/updated successfully.\n",
      "E:\\side projects\\backtesting&visualization\\common_functions.py:13: FutureWarning: ChainedAssignmentError: behaviour will change in pandas 3.0!\n",
      "You are setting values through chained assignment. Currently this works in certain cases, but when using Copy-on-Write (which will become the default behaviour in pandas 3.0) this will never work to update the original DataFrame or Series, because the intermediate object on which we are setting values will behave as a copy.\n",
      "A typical example is when you are setting values in a column of a DataFrame, like:\n",
      "\n",
      "df[\"col\"][row_indexer] = value\n",
      "\n",
      "Use `df.loc[row_indexer, \"col\"] = values` instead, to perform the assignment in a single step and ensure this keeps updating the original `df`.\n",
      "\n",
      "See the caveats in the documentation: https://pandas.pydata.org/pandas-docs/stable/user_guide/indexing.html#returning-a-view-versus-a-copy\n",
      "\n",
      "  data['HA_open'].iloc[0] = (data['open'].iloc[0] + data['close'].iloc[0]) / 2\n",
      "2024-09-28 19:14:57,286 - INFO - Data for ADA/USDT on 1h saved/updated successfully.\n",
      "E:\\side projects\\backtesting&visualization\\common_functions.py:13: FutureWarning: ChainedAssignmentError: behaviour will change in pandas 3.0!\n",
      "You are setting values through chained assignment. Currently this works in certain cases, but when using Copy-on-Write (which will become the default behaviour in pandas 3.0) this will never work to update the original DataFrame or Series, because the intermediate object on which we are setting values will behave as a copy.\n",
      "A typical example is when you are setting values in a column of a DataFrame, like:\n",
      "\n",
      "df[\"col\"][row_indexer] = value\n",
      "\n",
      "Use `df.loc[row_indexer, \"col\"] = values` instead, to perform the assignment in a single step and ensure this keeps updating the original `df`.\n",
      "\n",
      "See the caveats in the documentation: https://pandas.pydata.org/pandas-docs/stable/user_guide/indexing.html#returning-a-view-versus-a-copy\n",
      "\n",
      "  data['HA_open'].iloc[0] = (data['open'].iloc[0] + data['close'].iloc[0]) / 2\n"
     ]
    },
    {
     "name": "stdout",
     "output_type": "stream",
     "text": [
      "Processing ADA/USDT on 1h timeframe\n"
     ]
    },
    {
     "name": "stderr",
     "output_type": "stream",
     "text": [
      "2024-09-28 19:15:25,815 - INFO - Data for ADA/USDT on 1h saved/updated successfully.\n",
      "E:\\side projects\\backtesting&visualization\\common_functions.py:13: FutureWarning: ChainedAssignmentError: behaviour will change in pandas 3.0!\n",
      "You are setting values through chained assignment. Currently this works in certain cases, but when using Copy-on-Write (which will become the default behaviour in pandas 3.0) this will never work to update the original DataFrame or Series, because the intermediate object on which we are setting values will behave as a copy.\n",
      "A typical example is when you are setting values in a column of a DataFrame, like:\n",
      "\n",
      "df[\"col\"][row_indexer] = value\n",
      "\n",
      "Use `df.loc[row_indexer, \"col\"] = values` instead, to perform the assignment in a single step and ensure this keeps updating the original `df`.\n",
      "\n",
      "See the caveats in the documentation: https://pandas.pydata.org/pandas-docs/stable/user_guide/indexing.html#returning-a-view-versus-a-copy\n",
      "\n",
      "  data['HA_open'].iloc[0] = (data['open'].iloc[0] + data['close'].iloc[0]) / 2\n",
      "2024-09-28 19:15:33,429 - INFO - Data for ADA/USDT on 4h saved/updated successfully.\n",
      "E:\\side projects\\backtesting&visualization\\common_functions.py:13: FutureWarning: ChainedAssignmentError: behaviour will change in pandas 3.0!\n",
      "You are setting values through chained assignment. Currently this works in certain cases, but when using Copy-on-Write (which will become the default behaviour in pandas 3.0) this will never work to update the original DataFrame or Series, because the intermediate object on which we are setting values will behave as a copy.\n",
      "A typical example is when you are setting values in a column of a DataFrame, like:\n",
      "\n",
      "df[\"col\"][row_indexer] = value\n",
      "\n",
      "Use `df.loc[row_indexer, \"col\"] = values` instead, to perform the assignment in a single step and ensure this keeps updating the original `df`.\n",
      "\n",
      "See the caveats in the documentation: https://pandas.pydata.org/pandas-docs/stable/user_guide/indexing.html#returning-a-view-versus-a-copy\n",
      "\n",
      "  data['HA_open'].iloc[0] = (data['open'].iloc[0] + data['close'].iloc[0]) / 2\n"
     ]
    },
    {
     "name": "stdout",
     "output_type": "stream",
     "text": [
      "Processing ADA/USDT on 2h timeframe\n"
     ]
    },
    {
     "name": "stderr",
     "output_type": "stream",
     "text": [
      "2024-09-28 19:15:47,492 - INFO - Data for ADA/USDT on 2h saved/updated successfully.\n",
      "E:\\side projects\\backtesting&visualization\\common_functions.py:13: FutureWarning: ChainedAssignmentError: behaviour will change in pandas 3.0!\n",
      "You are setting values through chained assignment. Currently this works in certain cases, but when using Copy-on-Write (which will become the default behaviour in pandas 3.0) this will never work to update the original DataFrame or Series, because the intermediate object on which we are setting values will behave as a copy.\n",
      "A typical example is when you are setting values in a column of a DataFrame, like:\n",
      "\n",
      "df[\"col\"][row_indexer] = value\n",
      "\n",
      "Use `df.loc[row_indexer, \"col\"] = values` instead, to perform the assignment in a single step and ensure this keeps updating the original `df`.\n",
      "\n",
      "See the caveats in the documentation: https://pandas.pydata.org/pandas-docs/stable/user_guide/indexing.html#returning-a-view-versus-a-copy\n",
      "\n",
      "  data['HA_open'].iloc[0] = (data['open'].iloc[0] + data['close'].iloc[0]) / 2\n",
      "2024-09-28 19:15:54,446 - INFO - Data for ADA/USDT on 4h saved/updated successfully.\n",
      "E:\\side projects\\backtesting&visualization\\common_functions.py:13: FutureWarning: ChainedAssignmentError: behaviour will change in pandas 3.0!\n",
      "You are setting values through chained assignment. Currently this works in certain cases, but when using Copy-on-Write (which will become the default behaviour in pandas 3.0) this will never work to update the original DataFrame or Series, because the intermediate object on which we are setting values will behave as a copy.\n",
      "A typical example is when you are setting values in a column of a DataFrame, like:\n",
      "\n",
      "df[\"col\"][row_indexer] = value\n",
      "\n",
      "Use `df.loc[row_indexer, \"col\"] = values` instead, to perform the assignment in a single step and ensure this keeps updating the original `df`.\n",
      "\n",
      "See the caveats in the documentation: https://pandas.pydata.org/pandas-docs/stable/user_guide/indexing.html#returning-a-view-versus-a-copy\n",
      "\n",
      "  data['HA_open'].iloc[0] = (data['open'].iloc[0] + data['close'].iloc[0]) / 2\n"
     ]
    },
    {
     "name": "stdout",
     "output_type": "stream",
     "text": [
      "Processing ADA/USDT on 4h timeframe\n"
     ]
    },
    {
     "name": "stderr",
     "output_type": "stream",
     "text": [
      "2024-09-28 19:16:02,529 - INFO - Data for ADA/USDT on 4h saved/updated successfully.\n",
      "E:\\side projects\\backtesting&visualization\\common_functions.py:13: FutureWarning: ChainedAssignmentError: behaviour will change in pandas 3.0!\n",
      "You are setting values through chained assignment. Currently this works in certain cases, but when using Copy-on-Write (which will become the default behaviour in pandas 3.0) this will never work to update the original DataFrame or Series, because the intermediate object on which we are setting values will behave as a copy.\n",
      "A typical example is when you are setting values in a column of a DataFrame, like:\n",
      "\n",
      "df[\"col\"][row_indexer] = value\n",
      "\n",
      "Use `df.loc[row_indexer, \"col\"] = values` instead, to perform the assignment in a single step and ensure this keeps updating the original `df`.\n",
      "\n",
      "See the caveats in the documentation: https://pandas.pydata.org/pandas-docs/stable/user_guide/indexing.html#returning-a-view-versus-a-copy\n",
      "\n",
      "  data['HA_open'].iloc[0] = (data['open'].iloc[0] + data['close'].iloc[0]) / 2\n",
      "2024-09-28 19:16:07,787 - INFO - Data for ADA/USDT on 1d saved/updated successfully.\n",
      "E:\\side projects\\backtesting&visualization\\common_functions.py:13: FutureWarning: ChainedAssignmentError: behaviour will change in pandas 3.0!\n",
      "You are setting values through chained assignment. Currently this works in certain cases, but when using Copy-on-Write (which will become the default behaviour in pandas 3.0) this will never work to update the original DataFrame or Series, because the intermediate object on which we are setting values will behave as a copy.\n",
      "A typical example is when you are setting values in a column of a DataFrame, like:\n",
      "\n",
      "df[\"col\"][row_indexer] = value\n",
      "\n",
      "Use `df.loc[row_indexer, \"col\"] = values` instead, to perform the assignment in a single step and ensure this keeps updating the original `df`.\n",
      "\n",
      "See the caveats in the documentation: https://pandas.pydata.org/pandas-docs/stable/user_guide/indexing.html#returning-a-view-versus-a-copy\n",
      "\n",
      "  data['HA_open'].iloc[0] = (data['open'].iloc[0] + data['close'].iloc[0]) / 2\n"
     ]
    },
    {
     "name": "stdout",
     "output_type": "stream",
     "text": [
      "Processing DOGE/USDT on 15m timeframe\n"
     ]
    },
    {
     "name": "stderr",
     "output_type": "stream",
     "text": [
      "2024-09-28 19:16:24,961 - INFO - Data for DOGE/USDT on 15m saved/updated successfully.\n",
      "E:\\side projects\\backtesting&visualization\\common_functions.py:13: FutureWarning: ChainedAssignmentError: behaviour will change in pandas 3.0!\n",
      "You are setting values through chained assignment. Currently this works in certain cases, but when using Copy-on-Write (which will become the default behaviour in pandas 3.0) this will never work to update the original DataFrame or Series, because the intermediate object on which we are setting values will behave as a copy.\n",
      "A typical example is when you are setting values in a column of a DataFrame, like:\n",
      "\n",
      "df[\"col\"][row_indexer] = value\n",
      "\n",
      "Use `df.loc[row_indexer, \"col\"] = values` instead, to perform the assignment in a single step and ensure this keeps updating the original `df`.\n",
      "\n",
      "See the caveats in the documentation: https://pandas.pydata.org/pandas-docs/stable/user_guide/indexing.html#returning-a-view-versus-a-copy\n",
      "\n",
      "  data['HA_open'].iloc[0] = (data['open'].iloc[0] + data['close'].iloc[0]) / 2\n",
      "2024-09-28 19:16:41,340 - INFO - Data for DOGE/USDT on 1h saved/updated successfully.\n",
      "E:\\side projects\\backtesting&visualization\\common_functions.py:13: FutureWarning: ChainedAssignmentError: behaviour will change in pandas 3.0!\n",
      "You are setting values through chained assignment. Currently this works in certain cases, but when using Copy-on-Write (which will become the default behaviour in pandas 3.0) this will never work to update the original DataFrame or Series, because the intermediate object on which we are setting values will behave as a copy.\n",
      "A typical example is when you are setting values in a column of a DataFrame, like:\n",
      "\n",
      "df[\"col\"][row_indexer] = value\n",
      "\n",
      "Use `df.loc[row_indexer, \"col\"] = values` instead, to perform the assignment in a single step and ensure this keeps updating the original `df`.\n",
      "\n",
      "See the caveats in the documentation: https://pandas.pydata.org/pandas-docs/stable/user_guide/indexing.html#returning-a-view-versus-a-copy\n",
      "\n",
      "  data['HA_open'].iloc[0] = (data['open'].iloc[0] + data['close'].iloc[0]) / 2\n"
     ]
    },
    {
     "name": "stdout",
     "output_type": "stream",
     "text": [
      "Processing DOGE/USDT on 30m timeframe\n"
     ]
    },
    {
     "name": "stderr",
     "output_type": "stream",
     "text": [
      "2024-09-28 19:17:43,211 - INFO - Data for DOGE/USDT on 30m saved/updated successfully.\n",
      "E:\\side projects\\backtesting&visualization\\common_functions.py:13: FutureWarning: ChainedAssignmentError: behaviour will change in pandas 3.0!\n",
      "You are setting values through chained assignment. Currently this works in certain cases, but when using Copy-on-Write (which will become the default behaviour in pandas 3.0) this will never work to update the original DataFrame or Series, because the intermediate object on which we are setting values will behave as a copy.\n",
      "A typical example is when you are setting values in a column of a DataFrame, like:\n",
      "\n",
      "df[\"col\"][row_indexer] = value\n",
      "\n",
      "Use `df.loc[row_indexer, \"col\"] = values` instead, to perform the assignment in a single step and ensure this keeps updating the original `df`.\n",
      "\n",
      "See the caveats in the documentation: https://pandas.pydata.org/pandas-docs/stable/user_guide/indexing.html#returning-a-view-versus-a-copy\n",
      "\n",
      "  data['HA_open'].iloc[0] = (data['open'].iloc[0] + data['close'].iloc[0]) / 2\n",
      "2024-09-28 19:17:54,799 - INFO - Data for DOGE/USDT on 1h saved/updated successfully.\n",
      "E:\\side projects\\backtesting&visualization\\common_functions.py:13: FutureWarning: ChainedAssignmentError: behaviour will change in pandas 3.0!\n",
      "You are setting values through chained assignment. Currently this works in certain cases, but when using Copy-on-Write (which will become the default behaviour in pandas 3.0) this will never work to update the original DataFrame or Series, because the intermediate object on which we are setting values will behave as a copy.\n",
      "A typical example is when you are setting values in a column of a DataFrame, like:\n",
      "\n",
      "df[\"col\"][row_indexer] = value\n",
      "\n",
      "Use `df.loc[row_indexer, \"col\"] = values` instead, to perform the assignment in a single step and ensure this keeps updating the original `df`.\n",
      "\n",
      "See the caveats in the documentation: https://pandas.pydata.org/pandas-docs/stable/user_guide/indexing.html#returning-a-view-versus-a-copy\n",
      "\n",
      "  data['HA_open'].iloc[0] = (data['open'].iloc[0] + data['close'].iloc[0]) / 2\n"
     ]
    },
    {
     "name": "stdout",
     "output_type": "stream",
     "text": [
      "Processing DOGE/USDT on 1h timeframe\n"
     ]
    },
    {
     "name": "stderr",
     "output_type": "stream",
     "text": [
      "2024-09-28 19:18:22,496 - INFO - Data for DOGE/USDT on 1h saved/updated successfully.\n",
      "E:\\side projects\\backtesting&visualization\\common_functions.py:13: FutureWarning: ChainedAssignmentError: behaviour will change in pandas 3.0!\n",
      "You are setting values through chained assignment. Currently this works in certain cases, but when using Copy-on-Write (which will become the default behaviour in pandas 3.0) this will never work to update the original DataFrame or Series, because the intermediate object on which we are setting values will behave as a copy.\n",
      "A typical example is when you are setting values in a column of a DataFrame, like:\n",
      "\n",
      "df[\"col\"][row_indexer] = value\n",
      "\n",
      "Use `df.loc[row_indexer, \"col\"] = values` instead, to perform the assignment in a single step and ensure this keeps updating the original `df`.\n",
      "\n",
      "See the caveats in the documentation: https://pandas.pydata.org/pandas-docs/stable/user_guide/indexing.html#returning-a-view-versus-a-copy\n",
      "\n",
      "  data['HA_open'].iloc[0] = (data['open'].iloc[0] + data['close'].iloc[0]) / 2\n",
      "2024-09-28 19:18:30,152 - INFO - Data for DOGE/USDT on 4h saved/updated successfully.\n",
      "E:\\side projects\\backtesting&visualization\\common_functions.py:13: FutureWarning: ChainedAssignmentError: behaviour will change in pandas 3.0!\n",
      "You are setting values through chained assignment. Currently this works in certain cases, but when using Copy-on-Write (which will become the default behaviour in pandas 3.0) this will never work to update the original DataFrame or Series, because the intermediate object on which we are setting values will behave as a copy.\n",
      "A typical example is when you are setting values in a column of a DataFrame, like:\n",
      "\n",
      "df[\"col\"][row_indexer] = value\n",
      "\n",
      "Use `df.loc[row_indexer, \"col\"] = values` instead, to perform the assignment in a single step and ensure this keeps updating the original `df`.\n",
      "\n",
      "See the caveats in the documentation: https://pandas.pydata.org/pandas-docs/stable/user_guide/indexing.html#returning-a-view-versus-a-copy\n",
      "\n",
      "  data['HA_open'].iloc[0] = (data['open'].iloc[0] + data['close'].iloc[0]) / 2\n"
     ]
    },
    {
     "name": "stdout",
     "output_type": "stream",
     "text": [
      "Processing DOGE/USDT on 2h timeframe\n"
     ]
    },
    {
     "name": "stderr",
     "output_type": "stream",
     "text": [
      "2024-09-28 19:18:42,979 - INFO - Data for DOGE/USDT on 2h saved/updated successfully.\n",
      "E:\\side projects\\backtesting&visualization\\common_functions.py:13: FutureWarning: ChainedAssignmentError: behaviour will change in pandas 3.0!\n",
      "You are setting values through chained assignment. Currently this works in certain cases, but when using Copy-on-Write (which will become the default behaviour in pandas 3.0) this will never work to update the original DataFrame or Series, because the intermediate object on which we are setting values will behave as a copy.\n",
      "A typical example is when you are setting values in a column of a DataFrame, like:\n",
      "\n",
      "df[\"col\"][row_indexer] = value\n",
      "\n",
      "Use `df.loc[row_indexer, \"col\"] = values` instead, to perform the assignment in a single step and ensure this keeps updating the original `df`.\n",
      "\n",
      "See the caveats in the documentation: https://pandas.pydata.org/pandas-docs/stable/user_guide/indexing.html#returning-a-view-versus-a-copy\n",
      "\n",
      "  data['HA_open'].iloc[0] = (data['open'].iloc[0] + data['close'].iloc[0]) / 2\n",
      "2024-09-28 19:18:48,959 - INFO - Data for DOGE/USDT on 4h saved/updated successfully.\n",
      "E:\\side projects\\backtesting&visualization\\common_functions.py:13: FutureWarning: ChainedAssignmentError: behaviour will change in pandas 3.0!\n",
      "You are setting values through chained assignment. Currently this works in certain cases, but when using Copy-on-Write (which will become the default behaviour in pandas 3.0) this will never work to update the original DataFrame or Series, because the intermediate object on which we are setting values will behave as a copy.\n",
      "A typical example is when you are setting values in a column of a DataFrame, like:\n",
      "\n",
      "df[\"col\"][row_indexer] = value\n",
      "\n",
      "Use `df.loc[row_indexer, \"col\"] = values` instead, to perform the assignment in a single step and ensure this keeps updating the original `df`.\n",
      "\n",
      "See the caveats in the documentation: https://pandas.pydata.org/pandas-docs/stable/user_guide/indexing.html#returning-a-view-versus-a-copy\n",
      "\n",
      "  data['HA_open'].iloc[0] = (data['open'].iloc[0] + data['close'].iloc[0]) / 2\n"
     ]
    },
    {
     "name": "stdout",
     "output_type": "stream",
     "text": [
      "Processing DOGE/USDT on 4h timeframe\n"
     ]
    },
    {
     "name": "stderr",
     "output_type": "stream",
     "text": [
      "2024-09-28 19:18:56,384 - INFO - Data for DOGE/USDT on 4h saved/updated successfully.\n",
      "E:\\side projects\\backtesting&visualization\\common_functions.py:13: FutureWarning: ChainedAssignmentError: behaviour will change in pandas 3.0!\n",
      "You are setting values through chained assignment. Currently this works in certain cases, but when using Copy-on-Write (which will become the default behaviour in pandas 3.0) this will never work to update the original DataFrame or Series, because the intermediate object on which we are setting values will behave as a copy.\n",
      "A typical example is when you are setting values in a column of a DataFrame, like:\n",
      "\n",
      "df[\"col\"][row_indexer] = value\n",
      "\n",
      "Use `df.loc[row_indexer, \"col\"] = values` instead, to perform the assignment in a single step and ensure this keeps updating the original `df`.\n",
      "\n",
      "See the caveats in the documentation: https://pandas.pydata.org/pandas-docs/stable/user_guide/indexing.html#returning-a-view-versus-a-copy\n",
      "\n",
      "  data['HA_open'].iloc[0] = (data['open'].iloc[0] + data['close'].iloc[0]) / 2\n",
      "2024-09-28 19:19:00,869 - INFO - Data for DOGE/USDT on 1d saved/updated successfully.\n",
      "E:\\side projects\\backtesting&visualization\\common_functions.py:13: FutureWarning: ChainedAssignmentError: behaviour will change in pandas 3.0!\n",
      "You are setting values through chained assignment. Currently this works in certain cases, but when using Copy-on-Write (which will become the default behaviour in pandas 3.0) this will never work to update the original DataFrame or Series, because the intermediate object on which we are setting values will behave as a copy.\n",
      "A typical example is when you are setting values in a column of a DataFrame, like:\n",
      "\n",
      "df[\"col\"][row_indexer] = value\n",
      "\n",
      "Use `df.loc[row_indexer, \"col\"] = values` instead, to perform the assignment in a single step and ensure this keeps updating the original `df`.\n",
      "\n",
      "See the caveats in the documentation: https://pandas.pydata.org/pandas-docs/stable/user_guide/indexing.html#returning-a-view-versus-a-copy\n",
      "\n",
      "  data['HA_open'].iloc[0] = (data['open'].iloc[0] + data['close'].iloc[0]) / 2\n"
     ]
    },
    {
     "name": "stdout",
     "output_type": "stream",
     "text": [
      "Processing DOT/USDT on 15m timeframe\n"
     ]
    },
    {
     "name": "stderr",
     "output_type": "stream",
     "text": [
      "2024-09-28 19:19:17,067 - INFO - Data for DOT/USDT on 15m saved/updated successfully.\n",
      "E:\\side projects\\backtesting&visualization\\common_functions.py:13: FutureWarning: ChainedAssignmentError: behaviour will change in pandas 3.0!\n",
      "You are setting values through chained assignment. Currently this works in certain cases, but when using Copy-on-Write (which will become the default behaviour in pandas 3.0) this will never work to update the original DataFrame or Series, because the intermediate object on which we are setting values will behave as a copy.\n",
      "A typical example is when you are setting values in a column of a DataFrame, like:\n",
      "\n",
      "df[\"col\"][row_indexer] = value\n",
      "\n",
      "Use `df.loc[row_indexer, \"col\"] = values` instead, to perform the assignment in a single step and ensure this keeps updating the original `df`.\n",
      "\n",
      "See the caveats in the documentation: https://pandas.pydata.org/pandas-docs/stable/user_guide/indexing.html#returning-a-view-versus-a-copy\n",
      "\n",
      "  data['HA_open'].iloc[0] = (data['open'].iloc[0] + data['close'].iloc[0]) / 2\n",
      "2024-09-28 19:19:31,989 - INFO - Data for DOT/USDT on 1h saved/updated successfully.\n",
      "E:\\side projects\\backtesting&visualization\\common_functions.py:13: FutureWarning: ChainedAssignmentError: behaviour will change in pandas 3.0!\n",
      "You are setting values through chained assignment. Currently this works in certain cases, but when using Copy-on-Write (which will become the default behaviour in pandas 3.0) this will never work to update the original DataFrame or Series, because the intermediate object on which we are setting values will behave as a copy.\n",
      "A typical example is when you are setting values in a column of a DataFrame, like:\n",
      "\n",
      "df[\"col\"][row_indexer] = value\n",
      "\n",
      "Use `df.loc[row_indexer, \"col\"] = values` instead, to perform the assignment in a single step and ensure this keeps updating the original `df`.\n",
      "\n",
      "See the caveats in the documentation: https://pandas.pydata.org/pandas-docs/stable/user_guide/indexing.html#returning-a-view-versus-a-copy\n",
      "\n",
      "  data['HA_open'].iloc[0] = (data['open'].iloc[0] + data['close'].iloc[0]) / 2\n"
     ]
    },
    {
     "name": "stdout",
     "output_type": "stream",
     "text": [
      "Processing DOT/USDT on 30m timeframe\n"
     ]
    },
    {
     "name": "stderr",
     "output_type": "stream",
     "text": [
      "2024-09-28 19:20:33,910 - INFO - Data for DOT/USDT on 30m saved/updated successfully.\n",
      "E:\\side projects\\backtesting&visualization\\common_functions.py:13: FutureWarning: ChainedAssignmentError: behaviour will change in pandas 3.0!\n",
      "You are setting values through chained assignment. Currently this works in certain cases, but when using Copy-on-Write (which will become the default behaviour in pandas 3.0) this will never work to update the original DataFrame or Series, because the intermediate object on which we are setting values will behave as a copy.\n",
      "A typical example is when you are setting values in a column of a DataFrame, like:\n",
      "\n",
      "df[\"col\"][row_indexer] = value\n",
      "\n",
      "Use `df.loc[row_indexer, \"col\"] = values` instead, to perform the assignment in a single step and ensure this keeps updating the original `df`.\n",
      "\n",
      "See the caveats in the documentation: https://pandas.pydata.org/pandas-docs/stable/user_guide/indexing.html#returning-a-view-versus-a-copy\n",
      "\n",
      "  data['HA_open'].iloc[0] = (data['open'].iloc[0] + data['close'].iloc[0]) / 2\n",
      "2024-09-28 19:20:47,082 - INFO - Data for DOT/USDT on 1h saved/updated successfully.\n",
      "E:\\side projects\\backtesting&visualization\\common_functions.py:13: FutureWarning: ChainedAssignmentError: behaviour will change in pandas 3.0!\n",
      "You are setting values through chained assignment. Currently this works in certain cases, but when using Copy-on-Write (which will become the default behaviour in pandas 3.0) this will never work to update the original DataFrame or Series, because the intermediate object on which we are setting values will behave as a copy.\n",
      "A typical example is when you are setting values in a column of a DataFrame, like:\n",
      "\n",
      "df[\"col\"][row_indexer] = value\n",
      "\n",
      "Use `df.loc[row_indexer, \"col\"] = values` instead, to perform the assignment in a single step and ensure this keeps updating the original `df`.\n",
      "\n",
      "See the caveats in the documentation: https://pandas.pydata.org/pandas-docs/stable/user_guide/indexing.html#returning-a-view-versus-a-copy\n",
      "\n",
      "  data['HA_open'].iloc[0] = (data['open'].iloc[0] + data['close'].iloc[0]) / 2\n"
     ]
    },
    {
     "name": "stdout",
     "output_type": "stream",
     "text": [
      "Processing DOT/USDT on 1h timeframe\n"
     ]
    },
    {
     "name": "stderr",
     "output_type": "stream",
     "text": [
      "2024-09-28 19:21:14,026 - INFO - Data for DOT/USDT on 1h saved/updated successfully.\n",
      "E:\\side projects\\backtesting&visualization\\common_functions.py:13: FutureWarning: ChainedAssignmentError: behaviour will change in pandas 3.0!\n",
      "You are setting values through chained assignment. Currently this works in certain cases, but when using Copy-on-Write (which will become the default behaviour in pandas 3.0) this will never work to update the original DataFrame or Series, because the intermediate object on which we are setting values will behave as a copy.\n",
      "A typical example is when you are setting values in a column of a DataFrame, like:\n",
      "\n",
      "df[\"col\"][row_indexer] = value\n",
      "\n",
      "Use `df.loc[row_indexer, \"col\"] = values` instead, to perform the assignment in a single step and ensure this keeps updating the original `df`.\n",
      "\n",
      "See the caveats in the documentation: https://pandas.pydata.org/pandas-docs/stable/user_guide/indexing.html#returning-a-view-versus-a-copy\n",
      "\n",
      "  data['HA_open'].iloc[0] = (data['open'].iloc[0] + data['close'].iloc[0]) / 2\n",
      "2024-09-28 19:21:21,436 - INFO - Data for DOT/USDT on 4h saved/updated successfully.\n",
      "E:\\side projects\\backtesting&visualization\\common_functions.py:13: FutureWarning: ChainedAssignmentError: behaviour will change in pandas 3.0!\n",
      "You are setting values through chained assignment. Currently this works in certain cases, but when using Copy-on-Write (which will become the default behaviour in pandas 3.0) this will never work to update the original DataFrame or Series, because the intermediate object on which we are setting values will behave as a copy.\n",
      "A typical example is when you are setting values in a column of a DataFrame, like:\n",
      "\n",
      "df[\"col\"][row_indexer] = value\n",
      "\n",
      "Use `df.loc[row_indexer, \"col\"] = values` instead, to perform the assignment in a single step and ensure this keeps updating the original `df`.\n",
      "\n",
      "See the caveats in the documentation: https://pandas.pydata.org/pandas-docs/stable/user_guide/indexing.html#returning-a-view-versus-a-copy\n",
      "\n",
      "  data['HA_open'].iloc[0] = (data['open'].iloc[0] + data['close'].iloc[0]) / 2\n"
     ]
    },
    {
     "name": "stdout",
     "output_type": "stream",
     "text": [
      "Processing DOT/USDT on 2h timeframe\n"
     ]
    },
    {
     "name": "stderr",
     "output_type": "stream",
     "text": [
      "2024-09-28 19:21:34,555 - INFO - Data for DOT/USDT on 2h saved/updated successfully.\n",
      "E:\\side projects\\backtesting&visualization\\common_functions.py:13: FutureWarning: ChainedAssignmentError: behaviour will change in pandas 3.0!\n",
      "You are setting values through chained assignment. Currently this works in certain cases, but when using Copy-on-Write (which will become the default behaviour in pandas 3.0) this will never work to update the original DataFrame or Series, because the intermediate object on which we are setting values will behave as a copy.\n",
      "A typical example is when you are setting values in a column of a DataFrame, like:\n",
      "\n",
      "df[\"col\"][row_indexer] = value\n",
      "\n",
      "Use `df.loc[row_indexer, \"col\"] = values` instead, to perform the assignment in a single step and ensure this keeps updating the original `df`.\n",
      "\n",
      "See the caveats in the documentation: https://pandas.pydata.org/pandas-docs/stable/user_guide/indexing.html#returning-a-view-versus-a-copy\n",
      "\n",
      "  data['HA_open'].iloc[0] = (data['open'].iloc[0] + data['close'].iloc[0]) / 2\n",
      "2024-09-28 19:21:45,006 - INFO - Data for DOT/USDT on 4h saved/updated successfully.\n",
      "E:\\side projects\\backtesting&visualization\\common_functions.py:13: FutureWarning: ChainedAssignmentError: behaviour will change in pandas 3.0!\n",
      "You are setting values through chained assignment. Currently this works in certain cases, but when using Copy-on-Write (which will become the default behaviour in pandas 3.0) this will never work to update the original DataFrame or Series, because the intermediate object on which we are setting values will behave as a copy.\n",
      "A typical example is when you are setting values in a column of a DataFrame, like:\n",
      "\n",
      "df[\"col\"][row_indexer] = value\n",
      "\n",
      "Use `df.loc[row_indexer, \"col\"] = values` instead, to perform the assignment in a single step and ensure this keeps updating the original `df`.\n",
      "\n",
      "See the caveats in the documentation: https://pandas.pydata.org/pandas-docs/stable/user_guide/indexing.html#returning-a-view-versus-a-copy\n",
      "\n",
      "  data['HA_open'].iloc[0] = (data['open'].iloc[0] + data['close'].iloc[0]) / 2\n"
     ]
    },
    {
     "name": "stdout",
     "output_type": "stream",
     "text": [
      "Processing DOT/USDT on 4h timeframe\n"
     ]
    },
    {
     "name": "stderr",
     "output_type": "stream",
     "text": [
      "2024-09-28 19:21:51,787 - INFO - Data for DOT/USDT on 4h saved/updated successfully.\n",
      "E:\\side projects\\backtesting&visualization\\common_functions.py:13: FutureWarning: ChainedAssignmentError: behaviour will change in pandas 3.0!\n",
      "You are setting values through chained assignment. Currently this works in certain cases, but when using Copy-on-Write (which will become the default behaviour in pandas 3.0) this will never work to update the original DataFrame or Series, because the intermediate object on which we are setting values will behave as a copy.\n",
      "A typical example is when you are setting values in a column of a DataFrame, like:\n",
      "\n",
      "df[\"col\"][row_indexer] = value\n",
      "\n",
      "Use `df.loc[row_indexer, \"col\"] = values` instead, to perform the assignment in a single step and ensure this keeps updating the original `df`.\n",
      "\n",
      "See the caveats in the documentation: https://pandas.pydata.org/pandas-docs/stable/user_guide/indexing.html#returning-a-view-versus-a-copy\n",
      "\n",
      "  data['HA_open'].iloc[0] = (data['open'].iloc[0] + data['close'].iloc[0]) / 2\n",
      "2024-09-28 19:21:56,289 - INFO - Data for DOT/USDT on 1d saved/updated successfully.\n",
      "E:\\side projects\\backtesting&visualization\\common_functions.py:13: FutureWarning: ChainedAssignmentError: behaviour will change in pandas 3.0!\n",
      "You are setting values through chained assignment. Currently this works in certain cases, but when using Copy-on-Write (which will become the default behaviour in pandas 3.0) this will never work to update the original DataFrame or Series, because the intermediate object on which we are setting values will behave as a copy.\n",
      "A typical example is when you are setting values in a column of a DataFrame, like:\n",
      "\n",
      "df[\"col\"][row_indexer] = value\n",
      "\n",
      "Use `df.loc[row_indexer, \"col\"] = values` instead, to perform the assignment in a single step and ensure this keeps updating the original `df`.\n",
      "\n",
      "See the caveats in the documentation: https://pandas.pydata.org/pandas-docs/stable/user_guide/indexing.html#returning-a-view-versus-a-copy\n",
      "\n",
      "  data['HA_open'].iloc[0] = (data['open'].iloc[0] + data['close'].iloc[0]) / 2\n"
     ]
    },
    {
     "name": "stdout",
     "output_type": "stream",
     "text": [
      "Processing LINK/USDT on 15m timeframe\n"
     ]
    },
    {
     "name": "stderr",
     "output_type": "stream",
     "text": [
      "2024-09-28 19:22:13,749 - INFO - Data for LINK/USDT on 15m saved/updated successfully.\n",
      "E:\\side projects\\backtesting&visualization\\common_functions.py:13: FutureWarning: ChainedAssignmentError: behaviour will change in pandas 3.0!\n",
      "You are setting values through chained assignment. Currently this works in certain cases, but when using Copy-on-Write (which will become the default behaviour in pandas 3.0) this will never work to update the original DataFrame or Series, because the intermediate object on which we are setting values will behave as a copy.\n",
      "A typical example is when you are setting values in a column of a DataFrame, like:\n",
      "\n",
      "df[\"col\"][row_indexer] = value\n",
      "\n",
      "Use `df.loc[row_indexer, \"col\"] = values` instead, to perform the assignment in a single step and ensure this keeps updating the original `df`.\n",
      "\n",
      "See the caveats in the documentation: https://pandas.pydata.org/pandas-docs/stable/user_guide/indexing.html#returning-a-view-versus-a-copy\n",
      "\n",
      "  data['HA_open'].iloc[0] = (data['open'].iloc[0] + data['close'].iloc[0]) / 2\n",
      "2024-09-28 19:22:31,955 - INFO - Data for LINK/USDT on 1h saved/updated successfully.\n",
      "E:\\side projects\\backtesting&visualization\\common_functions.py:13: FutureWarning: ChainedAssignmentError: behaviour will change in pandas 3.0!\n",
      "You are setting values through chained assignment. Currently this works in certain cases, but when using Copy-on-Write (which will become the default behaviour in pandas 3.0) this will never work to update the original DataFrame or Series, because the intermediate object on which we are setting values will behave as a copy.\n",
      "A typical example is when you are setting values in a column of a DataFrame, like:\n",
      "\n",
      "df[\"col\"][row_indexer] = value\n",
      "\n",
      "Use `df.loc[row_indexer, \"col\"] = values` instead, to perform the assignment in a single step and ensure this keeps updating the original `df`.\n",
      "\n",
      "See the caveats in the documentation: https://pandas.pydata.org/pandas-docs/stable/user_guide/indexing.html#returning-a-view-versus-a-copy\n",
      "\n",
      "  data['HA_open'].iloc[0] = (data['open'].iloc[0] + data['close'].iloc[0]) / 2\n"
     ]
    },
    {
     "name": "stdout",
     "output_type": "stream",
     "text": [
      "Processing LINK/USDT on 30m timeframe\n"
     ]
    },
    {
     "name": "stderr",
     "output_type": "stream",
     "text": [
      "2024-09-28 19:23:31,197 - INFO - Data for LINK/USDT on 30m saved/updated successfully.\n",
      "E:\\side projects\\backtesting&visualization\\common_functions.py:13: FutureWarning: ChainedAssignmentError: behaviour will change in pandas 3.0!\n",
      "You are setting values through chained assignment. Currently this works in certain cases, but when using Copy-on-Write (which will become the default behaviour in pandas 3.0) this will never work to update the original DataFrame or Series, because the intermediate object on which we are setting values will behave as a copy.\n",
      "A typical example is when you are setting values in a column of a DataFrame, like:\n",
      "\n",
      "df[\"col\"][row_indexer] = value\n",
      "\n",
      "Use `df.loc[row_indexer, \"col\"] = values` instead, to perform the assignment in a single step and ensure this keeps updating the original `df`.\n",
      "\n",
      "See the caveats in the documentation: https://pandas.pydata.org/pandas-docs/stable/user_guide/indexing.html#returning-a-view-versus-a-copy\n",
      "\n",
      "  data['HA_open'].iloc[0] = (data['open'].iloc[0] + data['close'].iloc[0]) / 2\n",
      "2024-09-28 19:23:42,474 - INFO - Data for LINK/USDT on 1h saved/updated successfully.\n",
      "E:\\side projects\\backtesting&visualization\\common_functions.py:13: FutureWarning: ChainedAssignmentError: behaviour will change in pandas 3.0!\n",
      "You are setting values through chained assignment. Currently this works in certain cases, but when using Copy-on-Write (which will become the default behaviour in pandas 3.0) this will never work to update the original DataFrame or Series, because the intermediate object on which we are setting values will behave as a copy.\n",
      "A typical example is when you are setting values in a column of a DataFrame, like:\n",
      "\n",
      "df[\"col\"][row_indexer] = value\n",
      "\n",
      "Use `df.loc[row_indexer, \"col\"] = values` instead, to perform the assignment in a single step and ensure this keeps updating the original `df`.\n",
      "\n",
      "See the caveats in the documentation: https://pandas.pydata.org/pandas-docs/stable/user_guide/indexing.html#returning-a-view-versus-a-copy\n",
      "\n",
      "  data['HA_open'].iloc[0] = (data['open'].iloc[0] + data['close'].iloc[0]) / 2\n"
     ]
    },
    {
     "name": "stdout",
     "output_type": "stream",
     "text": [
      "Processing LINK/USDT on 1h timeframe\n"
     ]
    },
    {
     "name": "stderr",
     "output_type": "stream",
     "text": [
      "2024-09-28 19:24:00,994 - INFO - Data for LINK/USDT on 1h saved/updated successfully.\n",
      "E:\\side projects\\backtesting&visualization\\common_functions.py:13: FutureWarning: ChainedAssignmentError: behaviour will change in pandas 3.0!\n",
      "You are setting values through chained assignment. Currently this works in certain cases, but when using Copy-on-Write (which will become the default behaviour in pandas 3.0) this will never work to update the original DataFrame or Series, because the intermediate object on which we are setting values will behave as a copy.\n",
      "A typical example is when you are setting values in a column of a DataFrame, like:\n",
      "\n",
      "df[\"col\"][row_indexer] = value\n",
      "\n",
      "Use `df.loc[row_indexer, \"col\"] = values` instead, to perform the assignment in a single step and ensure this keeps updating the original `df`.\n",
      "\n",
      "See the caveats in the documentation: https://pandas.pydata.org/pandas-docs/stable/user_guide/indexing.html#returning-a-view-versus-a-copy\n",
      "\n",
      "  data['HA_open'].iloc[0] = (data['open'].iloc[0] + data['close'].iloc[0]) / 2\n",
      "2024-09-28 19:24:07,443 - INFO - Data for LINK/USDT on 4h saved/updated successfully.\n",
      "E:\\side projects\\backtesting&visualization\\common_functions.py:13: FutureWarning: ChainedAssignmentError: behaviour will change in pandas 3.0!\n",
      "You are setting values through chained assignment. Currently this works in certain cases, but when using Copy-on-Write (which will become the default behaviour in pandas 3.0) this will never work to update the original DataFrame or Series, because the intermediate object on which we are setting values will behave as a copy.\n",
      "A typical example is when you are setting values in a column of a DataFrame, like:\n",
      "\n",
      "df[\"col\"][row_indexer] = value\n",
      "\n",
      "Use `df.loc[row_indexer, \"col\"] = values` instead, to perform the assignment in a single step and ensure this keeps updating the original `df`.\n",
      "\n",
      "See the caveats in the documentation: https://pandas.pydata.org/pandas-docs/stable/user_guide/indexing.html#returning-a-view-versus-a-copy\n",
      "\n",
      "  data['HA_open'].iloc[0] = (data['open'].iloc[0] + data['close'].iloc[0]) / 2\n"
     ]
    },
    {
     "name": "stdout",
     "output_type": "stream",
     "text": [
      "Processing LINK/USDT on 2h timeframe\n"
     ]
    },
    {
     "name": "stderr",
     "output_type": "stream",
     "text": [
      "2024-09-28 19:24:20,083 - INFO - Data for LINK/USDT on 2h saved/updated successfully.\n",
      "E:\\side projects\\backtesting&visualization\\common_functions.py:13: FutureWarning: ChainedAssignmentError: behaviour will change in pandas 3.0!\n",
      "You are setting values through chained assignment. Currently this works in certain cases, but when using Copy-on-Write (which will become the default behaviour in pandas 3.0) this will never work to update the original DataFrame or Series, because the intermediate object on which we are setting values will behave as a copy.\n",
      "A typical example is when you are setting values in a column of a DataFrame, like:\n",
      "\n",
      "df[\"col\"][row_indexer] = value\n",
      "\n",
      "Use `df.loc[row_indexer, \"col\"] = values` instead, to perform the assignment in a single step and ensure this keeps updating the original `df`.\n",
      "\n",
      "See the caveats in the documentation: https://pandas.pydata.org/pandas-docs/stable/user_guide/indexing.html#returning-a-view-versus-a-copy\n",
      "\n",
      "  data['HA_open'].iloc[0] = (data['open'].iloc[0] + data['close'].iloc[0]) / 2\n",
      "2024-09-28 19:24:25,458 - INFO - Data for LINK/USDT on 4h saved/updated successfully.\n",
      "E:\\side projects\\backtesting&visualization\\common_functions.py:13: FutureWarning: ChainedAssignmentError: behaviour will change in pandas 3.0!\n",
      "You are setting values through chained assignment. Currently this works in certain cases, but when using Copy-on-Write (which will become the default behaviour in pandas 3.0) this will never work to update the original DataFrame or Series, because the intermediate object on which we are setting values will behave as a copy.\n",
      "A typical example is when you are setting values in a column of a DataFrame, like:\n",
      "\n",
      "df[\"col\"][row_indexer] = value\n",
      "\n",
      "Use `df.loc[row_indexer, \"col\"] = values` instead, to perform the assignment in a single step and ensure this keeps updating the original `df`.\n",
      "\n",
      "See the caveats in the documentation: https://pandas.pydata.org/pandas-docs/stable/user_guide/indexing.html#returning-a-view-versus-a-copy\n",
      "\n",
      "  data['HA_open'].iloc[0] = (data['open'].iloc[0] + data['close'].iloc[0]) / 2\n"
     ]
    },
    {
     "name": "stdout",
     "output_type": "stream",
     "text": [
      "Processing LINK/USDT on 4h timeframe\n"
     ]
    },
    {
     "name": "stderr",
     "output_type": "stream",
     "text": [
      "2024-09-28 19:24:33,289 - INFO - Data for LINK/USDT on 4h saved/updated successfully.\n",
      "E:\\side projects\\backtesting&visualization\\common_functions.py:13: FutureWarning: ChainedAssignmentError: behaviour will change in pandas 3.0!\n",
      "You are setting values through chained assignment. Currently this works in certain cases, but when using Copy-on-Write (which will become the default behaviour in pandas 3.0) this will never work to update the original DataFrame or Series, because the intermediate object on which we are setting values will behave as a copy.\n",
      "A typical example is when you are setting values in a column of a DataFrame, like:\n",
      "\n",
      "df[\"col\"][row_indexer] = value\n",
      "\n",
      "Use `df.loc[row_indexer, \"col\"] = values` instead, to perform the assignment in a single step and ensure this keeps updating the original `df`.\n",
      "\n",
      "See the caveats in the documentation: https://pandas.pydata.org/pandas-docs/stable/user_guide/indexing.html#returning-a-view-versus-a-copy\n",
      "\n",
      "  data['HA_open'].iloc[0] = (data['open'].iloc[0] + data['close'].iloc[0]) / 2\n",
      "2024-09-28 19:24:39,440 - INFO - Data for LINK/USDT on 1d saved/updated successfully.\n",
      "E:\\side projects\\backtesting&visualization\\common_functions.py:13: FutureWarning: ChainedAssignmentError: behaviour will change in pandas 3.0!\n",
      "You are setting values through chained assignment. Currently this works in certain cases, but when using Copy-on-Write (which will become the default behaviour in pandas 3.0) this will never work to update the original DataFrame or Series, because the intermediate object on which we are setting values will behave as a copy.\n",
      "A typical example is when you are setting values in a column of a DataFrame, like:\n",
      "\n",
      "df[\"col\"][row_indexer] = value\n",
      "\n",
      "Use `df.loc[row_indexer, \"col\"] = values` instead, to perform the assignment in a single step and ensure this keeps updating the original `df`.\n",
      "\n",
      "See the caveats in the documentation: https://pandas.pydata.org/pandas-docs/stable/user_guide/indexing.html#returning-a-view-versus-a-copy\n",
      "\n",
      "  data['HA_open'].iloc[0] = (data['open'].iloc[0] + data['close'].iloc[0]) / 2\n"
     ]
    },
    {
     "name": "stdout",
     "output_type": "stream",
     "text": [
      "Processing IMX/USDT on 15m timeframe\n"
     ]
    },
    {
     "name": "stderr",
     "output_type": "stream",
     "text": [
      "2024-09-28 19:24:57,328 - INFO - Data for IMX/USDT on 15m saved/updated successfully.\n",
      "E:\\side projects\\backtesting&visualization\\common_functions.py:13: FutureWarning: ChainedAssignmentError: behaviour will change in pandas 3.0!\n",
      "You are setting values through chained assignment. Currently this works in certain cases, but when using Copy-on-Write (which will become the default behaviour in pandas 3.0) this will never work to update the original DataFrame or Series, because the intermediate object on which we are setting values will behave as a copy.\n",
      "A typical example is when you are setting values in a column of a DataFrame, like:\n",
      "\n",
      "df[\"col\"][row_indexer] = value\n",
      "\n",
      "Use `df.loc[row_indexer, \"col\"] = values` instead, to perform the assignment in a single step and ensure this keeps updating the original `df`.\n",
      "\n",
      "See the caveats in the documentation: https://pandas.pydata.org/pandas-docs/stable/user_guide/indexing.html#returning-a-view-versus-a-copy\n",
      "\n",
      "  data['HA_open'].iloc[0] = (data['open'].iloc[0] + data['close'].iloc[0]) / 2\n",
      "2024-09-28 19:25:14,403 - INFO - Data for IMX/USDT on 1h saved/updated successfully.\n",
      "E:\\side projects\\backtesting&visualization\\common_functions.py:13: FutureWarning: ChainedAssignmentError: behaviour will change in pandas 3.0!\n",
      "You are setting values through chained assignment. Currently this works in certain cases, but when using Copy-on-Write (which will become the default behaviour in pandas 3.0) this will never work to update the original DataFrame or Series, because the intermediate object on which we are setting values will behave as a copy.\n",
      "A typical example is when you are setting values in a column of a DataFrame, like:\n",
      "\n",
      "df[\"col\"][row_indexer] = value\n",
      "\n",
      "Use `df.loc[row_indexer, \"col\"] = values` instead, to perform the assignment in a single step and ensure this keeps updating the original `df`.\n",
      "\n",
      "See the caveats in the documentation: https://pandas.pydata.org/pandas-docs/stable/user_guide/indexing.html#returning-a-view-versus-a-copy\n",
      "\n",
      "  data['HA_open'].iloc[0] = (data['open'].iloc[0] + data['close'].iloc[0]) / 2\n"
     ]
    },
    {
     "name": "stdout",
     "output_type": "stream",
     "text": [
      "Processing IMX/USDT on 30m timeframe\n"
     ]
    },
    {
     "name": "stderr",
     "output_type": "stream",
     "text": [
      "2024-09-28 19:26:20,842 - INFO - Data for IMX/USDT on 30m saved/updated successfully.\n",
      "E:\\side projects\\backtesting&visualization\\common_functions.py:13: FutureWarning: ChainedAssignmentError: behaviour will change in pandas 3.0!\n",
      "You are setting values through chained assignment. Currently this works in certain cases, but when using Copy-on-Write (which will become the default behaviour in pandas 3.0) this will never work to update the original DataFrame or Series, because the intermediate object on which we are setting values will behave as a copy.\n",
      "A typical example is when you are setting values in a column of a DataFrame, like:\n",
      "\n",
      "df[\"col\"][row_indexer] = value\n",
      "\n",
      "Use `df.loc[row_indexer, \"col\"] = values` instead, to perform the assignment in a single step and ensure this keeps updating the original `df`.\n",
      "\n",
      "See the caveats in the documentation: https://pandas.pydata.org/pandas-docs/stable/user_guide/indexing.html#returning-a-view-versus-a-copy\n",
      "\n",
      "  data['HA_open'].iloc[0] = (data['open'].iloc[0] + data['close'].iloc[0]) / 2\n",
      "2024-09-28 19:26:31,947 - INFO - Data for IMX/USDT on 1h saved/updated successfully.\n",
      "E:\\side projects\\backtesting&visualization\\common_functions.py:13: FutureWarning: ChainedAssignmentError: behaviour will change in pandas 3.0!\n",
      "You are setting values through chained assignment. Currently this works in certain cases, but when using Copy-on-Write (which will become the default behaviour in pandas 3.0) this will never work to update the original DataFrame or Series, because the intermediate object on which we are setting values will behave as a copy.\n",
      "A typical example is when you are setting values in a column of a DataFrame, like:\n",
      "\n",
      "df[\"col\"][row_indexer] = value\n",
      "\n",
      "Use `df.loc[row_indexer, \"col\"] = values` instead, to perform the assignment in a single step and ensure this keeps updating the original `df`.\n",
      "\n",
      "See the caveats in the documentation: https://pandas.pydata.org/pandas-docs/stable/user_guide/indexing.html#returning-a-view-versus-a-copy\n",
      "\n",
      "  data['HA_open'].iloc[0] = (data['open'].iloc[0] + data['close'].iloc[0]) / 2\n"
     ]
    },
    {
     "name": "stdout",
     "output_type": "stream",
     "text": [
      "Processing IMX/USDT on 1h timeframe\n"
     ]
    },
    {
     "name": "stderr",
     "output_type": "stream",
     "text": [
      "2024-09-28 19:26:58,994 - INFO - Data for IMX/USDT on 1h saved/updated successfully.\n",
      "E:\\side projects\\backtesting&visualization\\common_functions.py:13: FutureWarning: ChainedAssignmentError: behaviour will change in pandas 3.0!\n",
      "You are setting values through chained assignment. Currently this works in certain cases, but when using Copy-on-Write (which will become the default behaviour in pandas 3.0) this will never work to update the original DataFrame or Series, because the intermediate object on which we are setting values will behave as a copy.\n",
      "A typical example is when you are setting values in a column of a DataFrame, like:\n",
      "\n",
      "df[\"col\"][row_indexer] = value\n",
      "\n",
      "Use `df.loc[row_indexer, \"col\"] = values` instead, to perform the assignment in a single step and ensure this keeps updating the original `df`.\n",
      "\n",
      "See the caveats in the documentation: https://pandas.pydata.org/pandas-docs/stable/user_guide/indexing.html#returning-a-view-versus-a-copy\n",
      "\n",
      "  data['HA_open'].iloc[0] = (data['open'].iloc[0] + data['close'].iloc[0]) / 2\n",
      "2024-09-28 19:27:05,875 - INFO - Data for IMX/USDT on 4h saved/updated successfully.\n",
      "E:\\side projects\\backtesting&visualization\\common_functions.py:13: FutureWarning: ChainedAssignmentError: behaviour will change in pandas 3.0!\n",
      "You are setting values through chained assignment. Currently this works in certain cases, but when using Copy-on-Write (which will become the default behaviour in pandas 3.0) this will never work to update the original DataFrame or Series, because the intermediate object on which we are setting values will behave as a copy.\n",
      "A typical example is when you are setting values in a column of a DataFrame, like:\n",
      "\n",
      "df[\"col\"][row_indexer] = value\n",
      "\n",
      "Use `df.loc[row_indexer, \"col\"] = values` instead, to perform the assignment in a single step and ensure this keeps updating the original `df`.\n",
      "\n",
      "See the caveats in the documentation: https://pandas.pydata.org/pandas-docs/stable/user_guide/indexing.html#returning-a-view-versus-a-copy\n",
      "\n",
      "  data['HA_open'].iloc[0] = (data['open'].iloc[0] + data['close'].iloc[0]) / 2\n"
     ]
    },
    {
     "name": "stdout",
     "output_type": "stream",
     "text": [
      "Processing IMX/USDT on 2h timeframe\n"
     ]
    },
    {
     "name": "stderr",
     "output_type": "stream",
     "text": [
      "2024-09-28 19:27:19,293 - INFO - Data for IMX/USDT on 2h saved/updated successfully.\n",
      "E:\\side projects\\backtesting&visualization\\common_functions.py:13: FutureWarning: ChainedAssignmentError: behaviour will change in pandas 3.0!\n",
      "You are setting values through chained assignment. Currently this works in certain cases, but when using Copy-on-Write (which will become the default behaviour in pandas 3.0) this will never work to update the original DataFrame or Series, because the intermediate object on which we are setting values will behave as a copy.\n",
      "A typical example is when you are setting values in a column of a DataFrame, like:\n",
      "\n",
      "df[\"col\"][row_indexer] = value\n",
      "\n",
      "Use `df.loc[row_indexer, \"col\"] = values` instead, to perform the assignment in a single step and ensure this keeps updating the original `df`.\n",
      "\n",
      "See the caveats in the documentation: https://pandas.pydata.org/pandas-docs/stable/user_guide/indexing.html#returning-a-view-versus-a-copy\n",
      "\n",
      "  data['HA_open'].iloc[0] = (data['open'].iloc[0] + data['close'].iloc[0]) / 2\n",
      "2024-09-28 19:27:24,813 - INFO - Data for IMX/USDT on 4h saved/updated successfully.\n",
      "E:\\side projects\\backtesting&visualization\\common_functions.py:13: FutureWarning: ChainedAssignmentError: behaviour will change in pandas 3.0!\n",
      "You are setting values through chained assignment. Currently this works in certain cases, but when using Copy-on-Write (which will become the default behaviour in pandas 3.0) this will never work to update the original DataFrame or Series, because the intermediate object on which we are setting values will behave as a copy.\n",
      "A typical example is when you are setting values in a column of a DataFrame, like:\n",
      "\n",
      "df[\"col\"][row_indexer] = value\n",
      "\n",
      "Use `df.loc[row_indexer, \"col\"] = values` instead, to perform the assignment in a single step and ensure this keeps updating the original `df`.\n",
      "\n",
      "See the caveats in the documentation: https://pandas.pydata.org/pandas-docs/stable/user_guide/indexing.html#returning-a-view-versus-a-copy\n",
      "\n",
      "  data['HA_open'].iloc[0] = (data['open'].iloc[0] + data['close'].iloc[0]) / 2\n"
     ]
    },
    {
     "name": "stdout",
     "output_type": "stream",
     "text": [
      "Processing IMX/USDT on 4h timeframe\n"
     ]
    },
    {
     "name": "stderr",
     "output_type": "stream",
     "text": [
      "2024-09-28 19:27:31,404 - INFO - Data for IMX/USDT on 4h saved/updated successfully.\n",
      "E:\\side projects\\backtesting&visualization\\common_functions.py:13: FutureWarning: ChainedAssignmentError: behaviour will change in pandas 3.0!\n",
      "You are setting values through chained assignment. Currently this works in certain cases, but when using Copy-on-Write (which will become the default behaviour in pandas 3.0) this will never work to update the original DataFrame or Series, because the intermediate object on which we are setting values will behave as a copy.\n",
      "A typical example is when you are setting values in a column of a DataFrame, like:\n",
      "\n",
      "df[\"col\"][row_indexer] = value\n",
      "\n",
      "Use `df.loc[row_indexer, \"col\"] = values` instead, to perform the assignment in a single step and ensure this keeps updating the original `df`.\n",
      "\n",
      "See the caveats in the documentation: https://pandas.pydata.org/pandas-docs/stable/user_guide/indexing.html#returning-a-view-versus-a-copy\n",
      "\n",
      "  data['HA_open'].iloc[0] = (data['open'].iloc[0] + data['close'].iloc[0]) / 2\n",
      "2024-09-28 19:27:35,504 - INFO - Data for IMX/USDT on 1d saved/updated successfully.\n",
      "E:\\side projects\\backtesting&visualization\\common_functions.py:13: FutureWarning: ChainedAssignmentError: behaviour will change in pandas 3.0!\n",
      "You are setting values through chained assignment. Currently this works in certain cases, but when using Copy-on-Write (which will become the default behaviour in pandas 3.0) this will never work to update the original DataFrame or Series, because the intermediate object on which we are setting values will behave as a copy.\n",
      "A typical example is when you are setting values in a column of a DataFrame, like:\n",
      "\n",
      "df[\"col\"][row_indexer] = value\n",
      "\n",
      "Use `df.loc[row_indexer, \"col\"] = values` instead, to perform the assignment in a single step and ensure this keeps updating the original `df`.\n",
      "\n",
      "See the caveats in the documentation: https://pandas.pydata.org/pandas-docs/stable/user_guide/indexing.html#returning-a-view-versus-a-copy\n",
      "\n",
      "  data['HA_open'].iloc[0] = (data['open'].iloc[0] + data['close'].iloc[0]) / 2\n"
     ]
    },
    {
     "name": "stdout",
     "output_type": "stream",
     "text": [
      "Processing ICP/USDT on 15m timeframe\n"
     ]
    },
    {
     "name": "stderr",
     "output_type": "stream",
     "text": [
      "2024-09-28 19:27:51,768 - INFO - Data for ICP/USDT on 15m saved/updated successfully.\n",
      "E:\\side projects\\backtesting&visualization\\common_functions.py:13: FutureWarning: ChainedAssignmentError: behaviour will change in pandas 3.0!\n",
      "You are setting values through chained assignment. Currently this works in certain cases, but when using Copy-on-Write (which will become the default behaviour in pandas 3.0) this will never work to update the original DataFrame or Series, because the intermediate object on which we are setting values will behave as a copy.\n",
      "A typical example is when you are setting values in a column of a DataFrame, like:\n",
      "\n",
      "df[\"col\"][row_indexer] = value\n",
      "\n",
      "Use `df.loc[row_indexer, \"col\"] = values` instead, to perform the assignment in a single step and ensure this keeps updating the original `df`.\n",
      "\n",
      "See the caveats in the documentation: https://pandas.pydata.org/pandas-docs/stable/user_guide/indexing.html#returning-a-view-versus-a-copy\n",
      "\n",
      "  data['HA_open'].iloc[0] = (data['open'].iloc[0] + data['close'].iloc[0]) / 2\n",
      "2024-09-28 19:28:07,542 - INFO - Data for ICP/USDT on 1h saved/updated successfully.\n",
      "E:\\side projects\\backtesting&visualization\\common_functions.py:13: FutureWarning: ChainedAssignmentError: behaviour will change in pandas 3.0!\n",
      "You are setting values through chained assignment. Currently this works in certain cases, but when using Copy-on-Write (which will become the default behaviour in pandas 3.0) this will never work to update the original DataFrame or Series, because the intermediate object on which we are setting values will behave as a copy.\n",
      "A typical example is when you are setting values in a column of a DataFrame, like:\n",
      "\n",
      "df[\"col\"][row_indexer] = value\n",
      "\n",
      "Use `df.loc[row_indexer, \"col\"] = values` instead, to perform the assignment in a single step and ensure this keeps updating the original `df`.\n",
      "\n",
      "See the caveats in the documentation: https://pandas.pydata.org/pandas-docs/stable/user_guide/indexing.html#returning-a-view-versus-a-copy\n",
      "\n",
      "  data['HA_open'].iloc[0] = (data['open'].iloc[0] + data['close'].iloc[0]) / 2\n"
     ]
    },
    {
     "name": "stdout",
     "output_type": "stream",
     "text": [
      "Processing ICP/USDT on 30m timeframe\n"
     ]
    },
    {
     "name": "stderr",
     "output_type": "stream",
     "text": [
      "2024-09-28 19:29:12,261 - INFO - Data for ICP/USDT on 30m saved/updated successfully.\n",
      "E:\\side projects\\backtesting&visualization\\common_functions.py:13: FutureWarning: ChainedAssignmentError: behaviour will change in pandas 3.0!\n",
      "You are setting values through chained assignment. Currently this works in certain cases, but when using Copy-on-Write (which will become the default behaviour in pandas 3.0) this will never work to update the original DataFrame or Series, because the intermediate object on which we are setting values will behave as a copy.\n",
      "A typical example is when you are setting values in a column of a DataFrame, like:\n",
      "\n",
      "df[\"col\"][row_indexer] = value\n",
      "\n",
      "Use `df.loc[row_indexer, \"col\"] = values` instead, to perform the assignment in a single step and ensure this keeps updating the original `df`.\n",
      "\n",
      "See the caveats in the documentation: https://pandas.pydata.org/pandas-docs/stable/user_guide/indexing.html#returning-a-view-versus-a-copy\n",
      "\n",
      "  data['HA_open'].iloc[0] = (data['open'].iloc[0] + data['close'].iloc[0]) / 2\n",
      "2024-09-28 19:29:24,721 - INFO - Data for ICP/USDT on 1h saved/updated successfully.\n",
      "E:\\side projects\\backtesting&visualization\\common_functions.py:13: FutureWarning: ChainedAssignmentError: behaviour will change in pandas 3.0!\n",
      "You are setting values through chained assignment. Currently this works in certain cases, but when using Copy-on-Write (which will become the default behaviour in pandas 3.0) this will never work to update the original DataFrame or Series, because the intermediate object on which we are setting values will behave as a copy.\n",
      "A typical example is when you are setting values in a column of a DataFrame, like:\n",
      "\n",
      "df[\"col\"][row_indexer] = value\n",
      "\n",
      "Use `df.loc[row_indexer, \"col\"] = values` instead, to perform the assignment in a single step and ensure this keeps updating the original `df`.\n",
      "\n",
      "See the caveats in the documentation: https://pandas.pydata.org/pandas-docs/stable/user_guide/indexing.html#returning-a-view-versus-a-copy\n",
      "\n",
      "  data['HA_open'].iloc[0] = (data['open'].iloc[0] + data['close'].iloc[0]) / 2\n"
     ]
    },
    {
     "name": "stdout",
     "output_type": "stream",
     "text": [
      "Processing ICP/USDT on 1h timeframe\n"
     ]
    },
    {
     "name": "stderr",
     "output_type": "stream",
     "text": [
      "2024-09-28 19:29:53,788 - INFO - Data for ICP/USDT on 1h saved/updated successfully.\n",
      "E:\\side projects\\backtesting&visualization\\common_functions.py:13: FutureWarning: ChainedAssignmentError: behaviour will change in pandas 3.0!\n",
      "You are setting values through chained assignment. Currently this works in certain cases, but when using Copy-on-Write (which will become the default behaviour in pandas 3.0) this will never work to update the original DataFrame or Series, because the intermediate object on which we are setting values will behave as a copy.\n",
      "A typical example is when you are setting values in a column of a DataFrame, like:\n",
      "\n",
      "df[\"col\"][row_indexer] = value\n",
      "\n",
      "Use `df.loc[row_indexer, \"col\"] = values` instead, to perform the assignment in a single step and ensure this keeps updating the original `df`.\n",
      "\n",
      "See the caveats in the documentation: https://pandas.pydata.org/pandas-docs/stable/user_guide/indexing.html#returning-a-view-versus-a-copy\n",
      "\n",
      "  data['HA_open'].iloc[0] = (data['open'].iloc[0] + data['close'].iloc[0]) / 2\n",
      "2024-09-28 19:30:01,564 - INFO - Data for ICP/USDT on 4h saved/updated successfully.\n",
      "E:\\side projects\\backtesting&visualization\\common_functions.py:13: FutureWarning: ChainedAssignmentError: behaviour will change in pandas 3.0!\n",
      "You are setting values through chained assignment. Currently this works in certain cases, but when using Copy-on-Write (which will become the default behaviour in pandas 3.0) this will never work to update the original DataFrame or Series, because the intermediate object on which we are setting values will behave as a copy.\n",
      "A typical example is when you are setting values in a column of a DataFrame, like:\n",
      "\n",
      "df[\"col\"][row_indexer] = value\n",
      "\n",
      "Use `df.loc[row_indexer, \"col\"] = values` instead, to perform the assignment in a single step and ensure this keeps updating the original `df`.\n",
      "\n",
      "See the caveats in the documentation: https://pandas.pydata.org/pandas-docs/stable/user_guide/indexing.html#returning-a-view-versus-a-copy\n",
      "\n",
      "  data['HA_open'].iloc[0] = (data['open'].iloc[0] + data['close'].iloc[0]) / 2\n"
     ]
    },
    {
     "name": "stdout",
     "output_type": "stream",
     "text": [
      "Processing ICP/USDT on 2h timeframe\n"
     ]
    },
    {
     "name": "stderr",
     "output_type": "stream",
     "text": [
      "2024-09-28 19:30:15,718 - INFO - Data for ICP/USDT on 2h saved/updated successfully.\n",
      "E:\\side projects\\backtesting&visualization\\common_functions.py:13: FutureWarning: ChainedAssignmentError: behaviour will change in pandas 3.0!\n",
      "You are setting values through chained assignment. Currently this works in certain cases, but when using Copy-on-Write (which will become the default behaviour in pandas 3.0) this will never work to update the original DataFrame or Series, because the intermediate object on which we are setting values will behave as a copy.\n",
      "A typical example is when you are setting values in a column of a DataFrame, like:\n",
      "\n",
      "df[\"col\"][row_indexer] = value\n",
      "\n",
      "Use `df.loc[row_indexer, \"col\"] = values` instead, to perform the assignment in a single step and ensure this keeps updating the original `df`.\n",
      "\n",
      "See the caveats in the documentation: https://pandas.pydata.org/pandas-docs/stable/user_guide/indexing.html#returning-a-view-versus-a-copy\n",
      "\n",
      "  data['HA_open'].iloc[0] = (data['open'].iloc[0] + data['close'].iloc[0]) / 2\n",
      "2024-09-28 19:30:22,339 - INFO - Data for ICP/USDT on 4h saved/updated successfully.\n",
      "E:\\side projects\\backtesting&visualization\\common_functions.py:13: FutureWarning: ChainedAssignmentError: behaviour will change in pandas 3.0!\n",
      "You are setting values through chained assignment. Currently this works in certain cases, but when using Copy-on-Write (which will become the default behaviour in pandas 3.0) this will never work to update the original DataFrame or Series, because the intermediate object on which we are setting values will behave as a copy.\n",
      "A typical example is when you are setting values in a column of a DataFrame, like:\n",
      "\n",
      "df[\"col\"][row_indexer] = value\n",
      "\n",
      "Use `df.loc[row_indexer, \"col\"] = values` instead, to perform the assignment in a single step and ensure this keeps updating the original `df`.\n",
      "\n",
      "See the caveats in the documentation: https://pandas.pydata.org/pandas-docs/stable/user_guide/indexing.html#returning-a-view-versus-a-copy\n",
      "\n",
      "  data['HA_open'].iloc[0] = (data['open'].iloc[0] + data['close'].iloc[0]) / 2\n"
     ]
    },
    {
     "name": "stdout",
     "output_type": "stream",
     "text": [
      "Processing ICP/USDT on 4h timeframe\n"
     ]
    },
    {
     "name": "stderr",
     "output_type": "stream",
     "text": [
      "2024-09-28 19:30:30,775 - INFO - Data for ICP/USDT on 4h saved/updated successfully.\n",
      "E:\\side projects\\backtesting&visualization\\common_functions.py:13: FutureWarning: ChainedAssignmentError: behaviour will change in pandas 3.0!\n",
      "You are setting values through chained assignment. Currently this works in certain cases, but when using Copy-on-Write (which will become the default behaviour in pandas 3.0) this will never work to update the original DataFrame or Series, because the intermediate object on which we are setting values will behave as a copy.\n",
      "A typical example is when you are setting values in a column of a DataFrame, like:\n",
      "\n",
      "df[\"col\"][row_indexer] = value\n",
      "\n",
      "Use `df.loc[row_indexer, \"col\"] = values` instead, to perform the assignment in a single step and ensure this keeps updating the original `df`.\n",
      "\n",
      "See the caveats in the documentation: https://pandas.pydata.org/pandas-docs/stable/user_guide/indexing.html#returning-a-view-versus-a-copy\n",
      "\n",
      "  data['HA_open'].iloc[0] = (data['open'].iloc[0] + data['close'].iloc[0]) / 2\n",
      "2024-09-28 19:30:36,203 - INFO - Data for ICP/USDT on 1d saved/updated successfully.\n",
      "E:\\side projects\\backtesting&visualization\\common_functions.py:13: FutureWarning: ChainedAssignmentError: behaviour will change in pandas 3.0!\n",
      "You are setting values through chained assignment. Currently this works in certain cases, but when using Copy-on-Write (which will become the default behaviour in pandas 3.0) this will never work to update the original DataFrame or Series, because the intermediate object on which we are setting values will behave as a copy.\n",
      "A typical example is when you are setting values in a column of a DataFrame, like:\n",
      "\n",
      "df[\"col\"][row_indexer] = value\n",
      "\n",
      "Use `df.loc[row_indexer, \"col\"] = values` instead, to perform the assignment in a single step and ensure this keeps updating the original `df`.\n",
      "\n",
      "See the caveats in the documentation: https://pandas.pydata.org/pandas-docs/stable/user_guide/indexing.html#returning-a-view-versus-a-copy\n",
      "\n",
      "  data['HA_open'].iloc[0] = (data['open'].iloc[0] + data['close'].iloc[0]) / 2\n"
     ]
    },
    {
     "name": "stdout",
     "output_type": "stream",
     "text": [
      "Backtesting completed and results are saved.\n"
     ]
    }
   ],
   "source": [
    "def main():\n",
    "    results = []\n",
    "    for symbol in symbols:\n",
    "        for timeframe in timeframes:\n",
    "            print(f\"Processing {symbol} on {timeframe} timeframe\")\n",
    "            df = update_data(symbol, timeframe)  # Fetch data\n",
    "            df = calculate_heikin_ashi(df)  # Convert data to Heikin Ashi\n",
    "            df = calculate_indicators(df)  # Calculate indicators like MACD, ATR, etc.\n",
    "            df = macd_signals(df)  # Identify MACD buy/sell signals\n",
    "            df['Symbol'] = symbol  # Add symbol column for reference\n",
    "            df['Timeframe'] = timeframe  # Add timeframe column for reference\n",
    "\n",
    "            df_higher = update_data(symbol, higher_timeframes[timeframe])\n",
    "            df_higher = calculate_heikin_ashi(df_higher)  # Convert higher timeframe data to Heikin Ashi\n",
    "            df_higher = calculate_indicators(df_higher)  # Calculate indicators for the higher timeframe\n",
    "\n",
    "            trades = backtest_strategy(df, df_higher)  # Perform backtesting\n",
    "            results.extend(trades)  # Collect all trades across symbols and timeframes\n",
    "\n",
    "    save_results_to_excel(results, filename='backtesting_results.xlsx')\n",
    "    print(\"Backtesting completed and results are saved.\")\n",
    "\n",
    "if __name__ == \"__main__\":\n",
    "    main()\n"
   ],
   "metadata": {
    "collapsed": false,
    "ExecuteTime": {
     "end_time": "2024-09-28T17:30:46.124016600Z",
     "start_time": "2024-09-28T17:01:35.180690400Z"
    }
   }
  },
  {
   "cell_type": "markdown",
   "source": [
    "# ML-training"
   ],
   "metadata": {
    "collapsed": false
   }
  },
  {
   "cell_type": "code",
   "execution_count": 10,
   "outputs": [],
   "source": [
    "from sklearn.preprocessing import StandardScaler\n",
    "from sklearn.ensemble import GradientBoostingRegressor\n",
    "from sklearn.model_selection import train_test_split\n",
    "from sklearn.metrics import mean_squared_error, mean_absolute_error\n",
    "import joblib"
   ],
   "metadata": {
    "collapsed": false,
    "ExecuteTime": {
     "end_time": "2024-09-28T17:31:05.593981400Z",
     "start_time": "2024-09-28T17:31:05.078857Z"
    }
   }
  },
  {
   "cell_type": "code",
   "execution_count": 11,
   "outputs": [],
   "source": [
    "# Load data from Excel\n",
    "df = pd.read_excel('backtesting_results.xlsx')"
   ],
   "metadata": {
    "collapsed": false,
    "ExecuteTime": {
     "end_time": "2024-09-28T17:31:15.050321600Z",
     "start_time": "2024-09-28T17:31:06.674321200Z"
    }
   }
  },
  {
   "cell_type": "code",
   "execution_count": 12,
   "outputs": [],
   "source": [
    "# Apply mappings\n",
    "df['Symbol'] = df['Symbol'].map(symbol_mapping)\n",
    "df['Timeframe'] = df['Timeframe'].map(timeframe_mapping)\n",
    "df['Type'] = df['Type'].map(type_mapping)"
   ],
   "metadata": {
    "collapsed": false,
    "ExecuteTime": {
     "end_time": "2024-09-28T17:32:08.763565300Z",
     "start_time": "2024-09-28T17:32:08.728568900Z"
    }
   }
  },
  {
   "cell_type": "code",
   "execution_count": 13,
   "outputs": [],
   "source": [
    "# Selecting the necessary columns\n",
    "features = ['Symbol', 'Timeframe', 'Entry Price', 'Type', 'TP Multiplier',\n",
    "            'RSI Line Slope (k)', 'RSI Line Intercept (b)', 'MACD Line Slope (k)', 'MACD Line Intercept (b)',\n",
    "            'Volume Line Slope (k)', 'Volume Line Intercept (b)']\n",
    "X = df[features]"
   ],
   "metadata": {
    "collapsed": false,
    "ExecuteTime": {
     "end_time": "2024-09-28T17:32:10.758998500Z",
     "start_time": "2024-09-28T17:32:10.729959200Z"
    }
   }
  },
  {
   "cell_type": "code",
   "execution_count": 14,
   "outputs": [
    {
     "name": "stderr",
     "output_type": "stream",
     "text": [
      "C:\\Users\\Asus\\AppData\\Local\\Temp\\ipykernel_12016\\1080446843.py:6: SettingWithCopyWarning: \n",
      "A value is trying to be set on a copy of a slice from a DataFrame.\n",
      "Try using .loc[row_indexer,col_indexer] = value instead\n",
      "\n",
      "See the caveats in the documentation: https://pandas.pydata.org/pandas-docs/stable/user_guide/indexing.html#returning-a-view-versus-a-copy\n",
      "  X[continuous_features] = scaler.fit_transform(X[continuous_features])\n"
     ]
    }
   ],
   "source": [
    "# Normalizing continuous data\n",
    "continuous_features = ['Entry Price', 'TP Multiplier', 'RSI Line Slope (k)', 'RSI Line Intercept (b)',\n",
    "                       'MACD Line Slope (k)', 'MACD Line Intercept (b)',\n",
    "                       'Volume Line Slope (k)', 'Volume Line Intercept (b)']\n",
    "scaler = StandardScaler()\n",
    "X[continuous_features] = scaler.fit_transform(X[continuous_features])"
   ],
   "metadata": {
    "collapsed": false,
    "ExecuteTime": {
     "end_time": "2024-09-28T17:32:12.588778200Z",
     "start_time": "2024-09-28T17:32:12.540776400Z"
    }
   }
  },
  {
   "cell_type": "code",
   "execution_count": 15,
   "outputs": [
    {
     "data": {
      "text/plain": "       Symbol  Timeframe  Entry Price  Type  TP Multiplier  \\\n0           0          0     1.235204     0      -1.224745   \n1           0          0     1.235204     0       0.000000   \n2           0          0     1.235204     0       1.224745   \n3           0          0     1.237517     0      -1.224745   \n4           0          0     1.237517     0       0.000000   \n...       ...        ...          ...   ...            ...   \n28480      10          4    -0.312671     1       0.000000   \n28481      10          4    -0.312671     1       1.224745   \n28482      10          4    -0.312580     0      -1.224745   \n28483      10          4    -0.312580     0       0.000000   \n28484      10          4    -0.312580     0       1.224745   \n\n       RSI Line Slope (k)  RSI Line Intercept (b)  MACD Line Slope (k)  \\\n0                0.637669                0.116343             0.617581   \n1                0.637669                0.116343             0.617581   \n2                0.637669                0.116343             0.617581   \n3                0.658586               -0.155058            -0.393807   \n4                0.658586               -0.155058            -0.393807   \n...                   ...                     ...                  ...   \n28480           -1.280958                0.014578            -0.019335   \n28481           -1.280958                0.014578            -0.019335   \n28482            1.831756                0.118310            -0.009365   \n28483            1.831756                0.118310            -0.009365   \n28484            1.831756                0.118310            -0.009365   \n\n       MACD Line Intercept (b)  Volume Line Slope (k)  \\\n0                     0.112179              -0.064584   \n1                     0.112179              -0.064584   \n2                     0.112179              -0.064584   \n3                     0.394731              -0.064351   \n4                     0.394731              -0.064351   \n...                        ...                    ...   \n28480                -0.022001              -0.058173   \n28481                -0.022001              -0.058173   \n28482                -0.023710              -0.058515   \n28483                -0.023710              -0.058515   \n28484                -0.023710              -0.058515   \n\n       Volume Line Intercept (b)  \n0                      -0.087381  \n1                      -0.087381  \n2                      -0.087381  \n3                      -0.087429  \n4                      -0.087429  \n...                          ...  \n28480                  -0.079706  \n28481                  -0.079706  \n28482                  -0.072757  \n28483                  -0.072757  \n28484                  -0.072757  \n\n[28485 rows x 11 columns]",
      "text/html": "<div>\n<style scoped>\n    .dataframe tbody tr th:only-of-type {\n        vertical-align: middle;\n    }\n\n    .dataframe tbody tr th {\n        vertical-align: top;\n    }\n\n    .dataframe thead th {\n        text-align: right;\n    }\n</style>\n<table border=\"1\" class=\"dataframe\">\n  <thead>\n    <tr style=\"text-align: right;\">\n      <th></th>\n      <th>Symbol</th>\n      <th>Timeframe</th>\n      <th>Entry Price</th>\n      <th>Type</th>\n      <th>TP Multiplier</th>\n      <th>RSI Line Slope (k)</th>\n      <th>RSI Line Intercept (b)</th>\n      <th>MACD Line Slope (k)</th>\n      <th>MACD Line Intercept (b)</th>\n      <th>Volume Line Slope (k)</th>\n      <th>Volume Line Intercept (b)</th>\n    </tr>\n  </thead>\n  <tbody>\n    <tr>\n      <th>0</th>\n      <td>0</td>\n      <td>0</td>\n      <td>1.235204</td>\n      <td>0</td>\n      <td>-1.224745</td>\n      <td>0.637669</td>\n      <td>0.116343</td>\n      <td>0.617581</td>\n      <td>0.112179</td>\n      <td>-0.064584</td>\n      <td>-0.087381</td>\n    </tr>\n    <tr>\n      <th>1</th>\n      <td>0</td>\n      <td>0</td>\n      <td>1.235204</td>\n      <td>0</td>\n      <td>0.000000</td>\n      <td>0.637669</td>\n      <td>0.116343</td>\n      <td>0.617581</td>\n      <td>0.112179</td>\n      <td>-0.064584</td>\n      <td>-0.087381</td>\n    </tr>\n    <tr>\n      <th>2</th>\n      <td>0</td>\n      <td>0</td>\n      <td>1.235204</td>\n      <td>0</td>\n      <td>1.224745</td>\n      <td>0.637669</td>\n      <td>0.116343</td>\n      <td>0.617581</td>\n      <td>0.112179</td>\n      <td>-0.064584</td>\n      <td>-0.087381</td>\n    </tr>\n    <tr>\n      <th>3</th>\n      <td>0</td>\n      <td>0</td>\n      <td>1.237517</td>\n      <td>0</td>\n      <td>-1.224745</td>\n      <td>0.658586</td>\n      <td>-0.155058</td>\n      <td>-0.393807</td>\n      <td>0.394731</td>\n      <td>-0.064351</td>\n      <td>-0.087429</td>\n    </tr>\n    <tr>\n      <th>4</th>\n      <td>0</td>\n      <td>0</td>\n      <td>1.237517</td>\n      <td>0</td>\n      <td>0.000000</td>\n      <td>0.658586</td>\n      <td>-0.155058</td>\n      <td>-0.393807</td>\n      <td>0.394731</td>\n      <td>-0.064351</td>\n      <td>-0.087429</td>\n    </tr>\n    <tr>\n      <th>...</th>\n      <td>...</td>\n      <td>...</td>\n      <td>...</td>\n      <td>...</td>\n      <td>...</td>\n      <td>...</td>\n      <td>...</td>\n      <td>...</td>\n      <td>...</td>\n      <td>...</td>\n      <td>...</td>\n    </tr>\n    <tr>\n      <th>28480</th>\n      <td>10</td>\n      <td>4</td>\n      <td>-0.312671</td>\n      <td>1</td>\n      <td>0.000000</td>\n      <td>-1.280958</td>\n      <td>0.014578</td>\n      <td>-0.019335</td>\n      <td>-0.022001</td>\n      <td>-0.058173</td>\n      <td>-0.079706</td>\n    </tr>\n    <tr>\n      <th>28481</th>\n      <td>10</td>\n      <td>4</td>\n      <td>-0.312671</td>\n      <td>1</td>\n      <td>1.224745</td>\n      <td>-1.280958</td>\n      <td>0.014578</td>\n      <td>-0.019335</td>\n      <td>-0.022001</td>\n      <td>-0.058173</td>\n      <td>-0.079706</td>\n    </tr>\n    <tr>\n      <th>28482</th>\n      <td>10</td>\n      <td>4</td>\n      <td>-0.312580</td>\n      <td>0</td>\n      <td>-1.224745</td>\n      <td>1.831756</td>\n      <td>0.118310</td>\n      <td>-0.009365</td>\n      <td>-0.023710</td>\n      <td>-0.058515</td>\n      <td>-0.072757</td>\n    </tr>\n    <tr>\n      <th>28483</th>\n      <td>10</td>\n      <td>4</td>\n      <td>-0.312580</td>\n      <td>0</td>\n      <td>0.000000</td>\n      <td>1.831756</td>\n      <td>0.118310</td>\n      <td>-0.009365</td>\n      <td>-0.023710</td>\n      <td>-0.058515</td>\n      <td>-0.072757</td>\n    </tr>\n    <tr>\n      <th>28484</th>\n      <td>10</td>\n      <td>4</td>\n      <td>-0.312580</td>\n      <td>0</td>\n      <td>1.224745</td>\n      <td>1.831756</td>\n      <td>0.118310</td>\n      <td>-0.009365</td>\n      <td>-0.023710</td>\n      <td>-0.058515</td>\n      <td>-0.072757</td>\n    </tr>\n  </tbody>\n</table>\n<p>28485 rows × 11 columns</p>\n</div>"
     },
     "execution_count": 15,
     "metadata": {},
     "output_type": "execute_result"
    }
   ],
   "source": [
    "X"
   ],
   "metadata": {
    "collapsed": false,
    "ExecuteTime": {
     "end_time": "2024-09-28T17:32:19.542751Z",
     "start_time": "2024-09-28T17:32:19.492340200Z"
    }
   }
  },
  {
   "cell_type": "code",
   "execution_count": 16,
   "outputs": [],
   "source": [
    "# Calculate Profit Change\n",
    "df['Profit change'] = df['Entry Price'] / df['Optimum Closing']\n",
    "y = df['Profit change']"
   ],
   "metadata": {
    "collapsed": false,
    "ExecuteTime": {
     "end_time": "2024-09-28T17:32:33.542489900Z",
     "start_time": "2024-09-28T17:32:33.523472600Z"
    }
   }
  },
  {
   "cell_type": "code",
   "execution_count": 17,
   "outputs": [
    {
     "data": {
      "text/plain": "GradientBoostingRegressor(random_state=42)",
      "text/html": "<style>#sk-container-id-1 {\n  /* Definition of color scheme common for light and dark mode */\n  --sklearn-color-text: black;\n  --sklearn-color-line: gray;\n  /* Definition of color scheme for unfitted estimators */\n  --sklearn-color-unfitted-level-0: #fff5e6;\n  --sklearn-color-unfitted-level-1: #f6e4d2;\n  --sklearn-color-unfitted-level-2: #ffe0b3;\n  --sklearn-color-unfitted-level-3: chocolate;\n  /* Definition of color scheme for fitted estimators */\n  --sklearn-color-fitted-level-0: #f0f8ff;\n  --sklearn-color-fitted-level-1: #d4ebff;\n  --sklearn-color-fitted-level-2: #b3dbfd;\n  --sklearn-color-fitted-level-3: cornflowerblue;\n\n  /* Specific color for light theme */\n  --sklearn-color-text-on-default-background: var(--sg-text-color, var(--theme-code-foreground, var(--jp-content-font-color1, black)));\n  --sklearn-color-background: var(--sg-background-color, var(--theme-background, var(--jp-layout-color0, white)));\n  --sklearn-color-border-box: var(--sg-text-color, var(--theme-code-foreground, var(--jp-content-font-color1, black)));\n  --sklearn-color-icon: #696969;\n\n  @media (prefers-color-scheme: dark) {\n    /* Redefinition of color scheme for dark theme */\n    --sklearn-color-text-on-default-background: var(--sg-text-color, var(--theme-code-foreground, var(--jp-content-font-color1, white)));\n    --sklearn-color-background: var(--sg-background-color, var(--theme-background, var(--jp-layout-color0, #111)));\n    --sklearn-color-border-box: var(--sg-text-color, var(--theme-code-foreground, var(--jp-content-font-color1, white)));\n    --sklearn-color-icon: #878787;\n  }\n}\n\n#sk-container-id-1 {\n  color: var(--sklearn-color-text);\n}\n\n#sk-container-id-1 pre {\n  padding: 0;\n}\n\n#sk-container-id-1 input.sk-hidden--visually {\n  border: 0;\n  clip: rect(1px 1px 1px 1px);\n  clip: rect(1px, 1px, 1px, 1px);\n  height: 1px;\n  margin: -1px;\n  overflow: hidden;\n  padding: 0;\n  position: absolute;\n  width: 1px;\n}\n\n#sk-container-id-1 div.sk-dashed-wrapped {\n  border: 1px dashed var(--sklearn-color-line);\n  margin: 0 0.4em 0.5em 0.4em;\n  box-sizing: border-box;\n  padding-bottom: 0.4em;\n  background-color: var(--sklearn-color-background);\n}\n\n#sk-container-id-1 div.sk-container {\n  /* jupyter's `normalize.less` sets `[hidden] { display: none; }`\n     but bootstrap.min.css set `[hidden] { display: none !important; }`\n     so we also need the `!important` here to be able to override the\n     default hidden behavior on the sphinx rendered scikit-learn.org.\n     See: https://github.com/scikit-learn/scikit-learn/issues/21755 */\n  display: inline-block !important;\n  position: relative;\n}\n\n#sk-container-id-1 div.sk-text-repr-fallback {\n  display: none;\n}\n\ndiv.sk-parallel-item,\ndiv.sk-serial,\ndiv.sk-item {\n  /* draw centered vertical line to link estimators */\n  background-image: linear-gradient(var(--sklearn-color-text-on-default-background), var(--sklearn-color-text-on-default-background));\n  background-size: 2px 100%;\n  background-repeat: no-repeat;\n  background-position: center center;\n}\n\n/* Parallel-specific style estimator block */\n\n#sk-container-id-1 div.sk-parallel-item::after {\n  content: \"\";\n  width: 100%;\n  border-bottom: 2px solid var(--sklearn-color-text-on-default-background);\n  flex-grow: 1;\n}\n\n#sk-container-id-1 div.sk-parallel {\n  display: flex;\n  align-items: stretch;\n  justify-content: center;\n  background-color: var(--sklearn-color-background);\n  position: relative;\n}\n\n#sk-container-id-1 div.sk-parallel-item {\n  display: flex;\n  flex-direction: column;\n}\n\n#sk-container-id-1 div.sk-parallel-item:first-child::after {\n  align-self: flex-end;\n  width: 50%;\n}\n\n#sk-container-id-1 div.sk-parallel-item:last-child::after {\n  align-self: flex-start;\n  width: 50%;\n}\n\n#sk-container-id-1 div.sk-parallel-item:only-child::after {\n  width: 0;\n}\n\n/* Serial-specific style estimator block */\n\n#sk-container-id-1 div.sk-serial {\n  display: flex;\n  flex-direction: column;\n  align-items: center;\n  background-color: var(--sklearn-color-background);\n  padding-right: 1em;\n  padding-left: 1em;\n}\n\n\n/* Toggleable style: style used for estimator/Pipeline/ColumnTransformer box that is\nclickable and can be expanded/collapsed.\n- Pipeline and ColumnTransformer use this feature and define the default style\n- Estimators will overwrite some part of the style using the `sk-estimator` class\n*/\n\n/* Pipeline and ColumnTransformer style (default) */\n\n#sk-container-id-1 div.sk-toggleable {\n  /* Default theme specific background. It is overwritten whether we have a\n  specific estimator or a Pipeline/ColumnTransformer */\n  background-color: var(--sklearn-color-background);\n}\n\n/* Toggleable label */\n#sk-container-id-1 label.sk-toggleable__label {\n  cursor: pointer;\n  display: block;\n  width: 100%;\n  margin-bottom: 0;\n  padding: 0.5em;\n  box-sizing: border-box;\n  text-align: center;\n}\n\n#sk-container-id-1 label.sk-toggleable__label-arrow:before {\n  /* Arrow on the left of the label */\n  content: \"▸\";\n  float: left;\n  margin-right: 0.25em;\n  color: var(--sklearn-color-icon);\n}\n\n#sk-container-id-1 label.sk-toggleable__label-arrow:hover:before {\n  color: var(--sklearn-color-text);\n}\n\n/* Toggleable content - dropdown */\n\n#sk-container-id-1 div.sk-toggleable__content {\n  max-height: 0;\n  max-width: 0;\n  overflow: hidden;\n  text-align: left;\n  /* unfitted */\n  background-color: var(--sklearn-color-unfitted-level-0);\n}\n\n#sk-container-id-1 div.sk-toggleable__content.fitted {\n  /* fitted */\n  background-color: var(--sklearn-color-fitted-level-0);\n}\n\n#sk-container-id-1 div.sk-toggleable__content pre {\n  margin: 0.2em;\n  border-radius: 0.25em;\n  color: var(--sklearn-color-text);\n  /* unfitted */\n  background-color: var(--sklearn-color-unfitted-level-0);\n}\n\n#sk-container-id-1 div.sk-toggleable__content.fitted pre {\n  /* unfitted */\n  background-color: var(--sklearn-color-fitted-level-0);\n}\n\n#sk-container-id-1 input.sk-toggleable__control:checked~div.sk-toggleable__content {\n  /* Expand drop-down */\n  max-height: 200px;\n  max-width: 100%;\n  overflow: auto;\n}\n\n#sk-container-id-1 input.sk-toggleable__control:checked~label.sk-toggleable__label-arrow:before {\n  content: \"▾\";\n}\n\n/* Pipeline/ColumnTransformer-specific style */\n\n#sk-container-id-1 div.sk-label input.sk-toggleable__control:checked~label.sk-toggleable__label {\n  color: var(--sklearn-color-text);\n  background-color: var(--sklearn-color-unfitted-level-2);\n}\n\n#sk-container-id-1 div.sk-label.fitted input.sk-toggleable__control:checked~label.sk-toggleable__label {\n  background-color: var(--sklearn-color-fitted-level-2);\n}\n\n/* Estimator-specific style */\n\n/* Colorize estimator box */\n#sk-container-id-1 div.sk-estimator input.sk-toggleable__control:checked~label.sk-toggleable__label {\n  /* unfitted */\n  background-color: var(--sklearn-color-unfitted-level-2);\n}\n\n#sk-container-id-1 div.sk-estimator.fitted input.sk-toggleable__control:checked~label.sk-toggleable__label {\n  /* fitted */\n  background-color: var(--sklearn-color-fitted-level-2);\n}\n\n#sk-container-id-1 div.sk-label label.sk-toggleable__label,\n#sk-container-id-1 div.sk-label label {\n  /* The background is the default theme color */\n  color: var(--sklearn-color-text-on-default-background);\n}\n\n/* On hover, darken the color of the background */\n#sk-container-id-1 div.sk-label:hover label.sk-toggleable__label {\n  color: var(--sklearn-color-text);\n  background-color: var(--sklearn-color-unfitted-level-2);\n}\n\n/* Label box, darken color on hover, fitted */\n#sk-container-id-1 div.sk-label.fitted:hover label.sk-toggleable__label.fitted {\n  color: var(--sklearn-color-text);\n  background-color: var(--sklearn-color-fitted-level-2);\n}\n\n/* Estimator label */\n\n#sk-container-id-1 div.sk-label label {\n  font-family: monospace;\n  font-weight: bold;\n  display: inline-block;\n  line-height: 1.2em;\n}\n\n#sk-container-id-1 div.sk-label-container {\n  text-align: center;\n}\n\n/* Estimator-specific */\n#sk-container-id-1 div.sk-estimator {\n  font-family: monospace;\n  border: 1px dotted var(--sklearn-color-border-box);\n  border-radius: 0.25em;\n  box-sizing: border-box;\n  margin-bottom: 0.5em;\n  /* unfitted */\n  background-color: var(--sklearn-color-unfitted-level-0);\n}\n\n#sk-container-id-1 div.sk-estimator.fitted {\n  /* fitted */\n  background-color: var(--sklearn-color-fitted-level-0);\n}\n\n/* on hover */\n#sk-container-id-1 div.sk-estimator:hover {\n  /* unfitted */\n  background-color: var(--sklearn-color-unfitted-level-2);\n}\n\n#sk-container-id-1 div.sk-estimator.fitted:hover {\n  /* fitted */\n  background-color: var(--sklearn-color-fitted-level-2);\n}\n\n/* Specification for estimator info (e.g. \"i\" and \"?\") */\n\n/* Common style for \"i\" and \"?\" */\n\n.sk-estimator-doc-link,\na:link.sk-estimator-doc-link,\na:visited.sk-estimator-doc-link {\n  float: right;\n  font-size: smaller;\n  line-height: 1em;\n  font-family: monospace;\n  background-color: var(--sklearn-color-background);\n  border-radius: 1em;\n  height: 1em;\n  width: 1em;\n  text-decoration: none !important;\n  margin-left: 1ex;\n  /* unfitted */\n  border: var(--sklearn-color-unfitted-level-1) 1pt solid;\n  color: var(--sklearn-color-unfitted-level-1);\n}\n\n.sk-estimator-doc-link.fitted,\na:link.sk-estimator-doc-link.fitted,\na:visited.sk-estimator-doc-link.fitted {\n  /* fitted */\n  border: var(--sklearn-color-fitted-level-1) 1pt solid;\n  color: var(--sklearn-color-fitted-level-1);\n}\n\n/* On hover */\ndiv.sk-estimator:hover .sk-estimator-doc-link:hover,\n.sk-estimator-doc-link:hover,\ndiv.sk-label-container:hover .sk-estimator-doc-link:hover,\n.sk-estimator-doc-link:hover {\n  /* unfitted */\n  background-color: var(--sklearn-color-unfitted-level-3);\n  color: var(--sklearn-color-background);\n  text-decoration: none;\n}\n\ndiv.sk-estimator.fitted:hover .sk-estimator-doc-link.fitted:hover,\n.sk-estimator-doc-link.fitted:hover,\ndiv.sk-label-container:hover .sk-estimator-doc-link.fitted:hover,\n.sk-estimator-doc-link.fitted:hover {\n  /* fitted */\n  background-color: var(--sklearn-color-fitted-level-3);\n  color: var(--sklearn-color-background);\n  text-decoration: none;\n}\n\n/* Span, style for the box shown on hovering the info icon */\n.sk-estimator-doc-link span {\n  display: none;\n  z-index: 9999;\n  position: relative;\n  font-weight: normal;\n  right: .2ex;\n  padding: .5ex;\n  margin: .5ex;\n  width: min-content;\n  min-width: 20ex;\n  max-width: 50ex;\n  color: var(--sklearn-color-text);\n  box-shadow: 2pt 2pt 4pt #999;\n  /* unfitted */\n  background: var(--sklearn-color-unfitted-level-0);\n  border: .5pt solid var(--sklearn-color-unfitted-level-3);\n}\n\n.sk-estimator-doc-link.fitted span {\n  /* fitted */\n  background: var(--sklearn-color-fitted-level-0);\n  border: var(--sklearn-color-fitted-level-3);\n}\n\n.sk-estimator-doc-link:hover span {\n  display: block;\n}\n\n/* \"?\"-specific style due to the `<a>` HTML tag */\n\n#sk-container-id-1 a.estimator_doc_link {\n  float: right;\n  font-size: 1rem;\n  line-height: 1em;\n  font-family: monospace;\n  background-color: var(--sklearn-color-background);\n  border-radius: 1rem;\n  height: 1rem;\n  width: 1rem;\n  text-decoration: none;\n  /* unfitted */\n  color: var(--sklearn-color-unfitted-level-1);\n  border: var(--sklearn-color-unfitted-level-1) 1pt solid;\n}\n\n#sk-container-id-1 a.estimator_doc_link.fitted {\n  /* fitted */\n  border: var(--sklearn-color-fitted-level-1) 1pt solid;\n  color: var(--sklearn-color-fitted-level-1);\n}\n\n/* On hover */\n#sk-container-id-1 a.estimator_doc_link:hover {\n  /* unfitted */\n  background-color: var(--sklearn-color-unfitted-level-3);\n  color: var(--sklearn-color-background);\n  text-decoration: none;\n}\n\n#sk-container-id-1 a.estimator_doc_link.fitted:hover {\n  /* fitted */\n  background-color: var(--sklearn-color-fitted-level-3);\n}\n</style><div id=\"sk-container-id-1\" class=\"sk-top-container\"><div class=\"sk-text-repr-fallback\"><pre>GradientBoostingRegressor(random_state=42)</pre><b>In a Jupyter environment, please rerun this cell to show the HTML representation or trust the notebook. <br />On GitHub, the HTML representation is unable to render, please try loading this page with nbviewer.org.</b></div><div class=\"sk-container\" hidden><div class=\"sk-item\"><div class=\"sk-estimator fitted sk-toggleable\"><input class=\"sk-toggleable__control sk-hidden--visually\" id=\"sk-estimator-id-1\" type=\"checkbox\" checked><label for=\"sk-estimator-id-1\" class=\"sk-toggleable__label fitted sk-toggleable__label-arrow fitted\">&nbsp;&nbsp;GradientBoostingRegressor<a class=\"sk-estimator-doc-link fitted\" rel=\"noreferrer\" target=\"_blank\" href=\"https://scikit-learn.org/1.5/modules/generated/sklearn.ensemble.GradientBoostingRegressor.html\">?<span>Documentation for GradientBoostingRegressor</span></a><span class=\"sk-estimator-doc-link fitted\">i<span>Fitted</span></span></label><div class=\"sk-toggleable__content fitted\"><pre>GradientBoostingRegressor(random_state=42)</pre></div> </div></div></div></div>"
     },
     "execution_count": 17,
     "metadata": {},
     "output_type": "execute_result"
    }
   ],
   "source": [
    "# Splitting the data into training and testing sets\n",
    "X_train, X_test, y_train, y_test = train_test_split(X, y, test_size=0.2, random_state=42)\n",
    "\n",
    "# Initialize and train the Gradient Boosting Regressor\n",
    "model = GradientBoostingRegressor(n_estimators=100, learning_rate=0.1, max_depth=3, random_state=42)\n",
    "model.fit(X_train, y_train)"
   ],
   "metadata": {
    "collapsed": false,
    "ExecuteTime": {
     "end_time": "2024-09-28T17:32:43.461018300Z",
     "start_time": "2024-09-28T17:32:37.608018600Z"
    }
   }
  },
  {
   "cell_type": "code",
   "execution_count": 18,
   "outputs": [
    {
     "name": "stdout",
     "output_type": "stream",
     "text": [
      "       Symbol  Timeframe  Entry Price  Type  TP Multiplier  \\\n",
      "4596        1          1    -0.136063     1      -1.224745   \n",
      "25405       9          2    -0.313196     0       0.000000   \n",
      "8957        3          1    -0.311369     0       1.224745   \n",
      "8870        3          1    -0.310730     1       1.224745   \n",
      "96          0          0     1.021946     1      -1.224745   \n",
      "...       ...        ...          ...   ...            ...   \n",
      "2826        1          0    -0.213019     1      -1.224745   \n",
      "28372      10          3    -0.312592     0       0.000000   \n",
      "20887       8          0    -0.312819     1       0.000000   \n",
      "5673        2          0    -0.290732     1      -1.224745   \n",
      "5262        1          3    -0.163853     1      -1.224745   \n",
      "\n",
      "       RSI Line Slope (k)  RSI Line Intercept (b)  MACD Line Slope (k)  \\\n",
      "4596            -1.026709                0.510688            -0.001644   \n",
      "25405            0.057947                0.805700            -0.013380   \n",
      "8957             1.045838               -0.514856            -0.013201   \n",
      "8870            -0.797857               -0.508280            -0.012841   \n",
      "96              -0.248590               -0.217178            -0.081672   \n",
      "...                   ...                     ...                  ...   \n",
      "2826            -0.923075                0.366049            -0.021370   \n",
      "28372            1.076706                1.528692            -0.011740   \n",
      "20887           -0.026559               -0.865832            -0.012763   \n",
      "5673            -0.612128               -1.640612            -0.053939   \n",
      "5262            -0.930667               -0.183666            -0.112115   \n",
      "\n",
      "       MACD Line Intercept (b)  Volume Line Slope (k)  \\\n",
      "4596                 -0.030360              -0.064579   \n",
      "25405                -0.024131              -0.060772   \n",
      "8957                 -0.024504              -0.065305   \n",
      "8870                 -0.025773              -0.064633   \n",
      "96                   -0.085495              -0.064530   \n",
      "...                        ...                    ...   \n",
      "2826                 -0.020008              -0.064490   \n",
      "28372                -0.021504              -0.061300   \n",
      "20887                -0.025252              -0.064270   \n",
      "5673                 -0.056744              -0.064365   \n",
      "5262                 -0.019619              -0.064149   \n",
      "\n",
      "       Volume Line Intercept (b)  \n",
      "4596                   -0.087421  \n",
      "25405                  -0.086975  \n",
      "8957                   -0.086105  \n",
      "8870                   -0.087176  \n",
      "96                     -0.087429  \n",
      "...                          ...  \n",
      "2826                   -0.087427  \n",
      "28372                  -0.085397  \n",
      "20887                  -0.087152  \n",
      "5673                   -0.087281  \n",
      "5262                   -0.087231  \n",
      "\n",
      "[5697 rows x 11 columns]\n",
      "Mean Squared Error: 0.000866888470486077\n",
      "Mean Absolute Error: 0.019729797344225464\n",
      "Model saved successfully!\n"
     ]
    }
   ],
   "source": [
    "# Predict on the testing set\n",
    "y_pred = model.predict(X_test)\n",
    "\n",
    "print(X_test)\n",
    "\n",
    "# Calculate and print the performance metrics\n",
    "mse = mean_squared_error(y_test, y_pred)\n",
    "mae = mean_absolute_error(y_test, y_pred)\n",
    "print(\"Mean Squared Error:\", mse)\n",
    "print(\"Mean Absolute Error:\", mae)\n",
    "\n",
    "# Save the trained model for later use\n",
    "joblib.dump(model, 'gradient_boosting_regressor.pkl')\n",
    "print(\"Model saved successfully!\")"
   ],
   "metadata": {
    "collapsed": false,
    "ExecuteTime": {
     "end_time": "2024-09-28T17:32:49.635821300Z",
     "start_time": "2024-09-28T17:32:49.583779500Z"
    }
   }
  },
  {
   "cell_type": "markdown",
   "source": [
    "# Backtesting"
   ],
   "metadata": {
    "collapsed": false
   }
  },
  {
   "cell_type": "code",
   "execution_count": null,
   "outputs": [],
   "source": [],
   "metadata": {
    "collapsed": false
   }
  },
  {
   "cell_type": "markdown",
   "source": [
    "# Live prediction"
   ],
   "metadata": {
    "collapsed": false
   }
  },
  {
   "cell_type": "code",
   "execution_count": 57,
   "outputs": [],
   "source": [
    "import pandas as pd\n",
    "import numpy as np\n",
    "from sklearn.preprocessing import StandardScaler\n",
    "from _managing_data import update_data\n",
    "from common_functions import calculate_heikin_ashi, calculate_indicators, macd_signals"
   ],
   "metadata": {
    "collapsed": false,
    "ExecuteTime": {
     "end_time": "2024-09-28T15:37:49.908330100Z",
     "start_time": "2024-09-28T15:37:49.892219800Z"
    }
   }
  },
  {
   "cell_type": "code",
   "execution_count": 58,
   "outputs": [
    {
     "name": "stderr",
     "output_type": "stream",
     "text": [
      "2024-09-28 17:37:56,509 - INFO - Data for BTC/USDT on 1h saved/updated successfully.\n",
      "E:\\side projects\\backtesting&visualization\\common_functions.py:13: FutureWarning: ChainedAssignmentError: behaviour will change in pandas 3.0!\n",
      "You are setting values through chained assignment. Currently this works in certain cases, but when using Copy-on-Write (which will become the default behaviour in pandas 3.0) this will never work to update the original DataFrame or Series, because the intermediate object on which we are setting values will behave as a copy.\n",
      "A typical example is when you are setting values in a column of a DataFrame, like:\n",
      "\n",
      "df[\"col\"][row_indexer] = value\n",
      "\n",
      "Use `df.loc[row_indexer, \"col\"] = values` instead, to perform the assignment in a single step and ensure this keeps updating the original `df`.\n",
      "\n",
      "See the caveats in the documentation: https://pandas.pydata.org/pandas-docs/stable/user_guide/indexing.html#returning-a-view-versus-a-copy\n",
      "\n",
      "  data['HA_open'].iloc[0] = (data['open'].iloc[0] + data['close'].iloc[0]) / 2\n"
     ]
    }
   ],
   "source": [
    "symbol = 'BTC/USDT'\n",
    "timeframe = '1h'\n",
    "tp_multiplier = 1.5\n",
    "df = update_data(symbol, timeframe)  # Fetch data\n",
    "df = calculate_heikin_ashi(df)  # Convert to Heikin Ashi\n",
    "df = calculate_indicators(df)"
   ],
   "metadata": {
    "collapsed": false,
    "ExecuteTime": {
     "end_time": "2024-09-28T15:37:56.618486800Z",
     "start_time": "2024-09-28T15:37:50.739624100Z"
    }
   }
  },
  {
   "cell_type": "code",
   "execution_count": 20,
   "outputs": [],
   "source": [
    "# Updated get_signals function\n",
    "def get_signals(df):\n",
    "    df['signal'] = 0  # Initialize signal column\n",
    "    last_signal_date = None  # Variable to store the date of the last valid signal\n",
    "    last_signal_type = None  # Variable to store the type of the last valid signal\n",
    "\n",
    "    for i in range(1, len(df) - 2):\n",
    "        # Detect MACD crossover for long positions\n",
    "        if df['macd'].iloc[i] > df['macd_signal'].iloc[i] and df['macd'].iloc[i - 1] <= df['macd_signal'].iloc[i - 1]:\n",
    "            # Checking SMA and SuperTrend confirmation\n",
    "            if df['HA_close'].iloc[i + 1] > df['SuperTrend'].iloc[i + 1] and df['HA_close'].iloc[i + 1] > df['SMA200'].iloc[i + 1]:\n",
    "                df.loc[df.index[i + 2], 'signal'] = 1  # Long signal\n",
    "                last_signal_date = df.index[i + 1]  # Update last signal date\n",
    "                last_signal_type = 'Long'  # Update last signal type\n",
    "\n",
    "        # Detect MACD crossover for short positions\n",
    "        elif df['macd'].iloc[i] < df['macd_signal'].iloc[i] and df['macd'].iloc[i - 1] >= df['macd_signal'].iloc[i - 1]:\n",
    "            # Checking SMA and SuperTrend confirmation\n",
    "            if df['HA_close'].iloc[i + 1] < df['SuperTrend'].iloc[i + 1] and df['HA_close'].iloc[i + 1] < df['SMA200'].iloc[i + 1]:\n",
    "                df.loc[df.index[i + 2], 'signal'] = -1  # Short signal\n",
    "                last_signal_date = df.index[i + 1]  # Update last signal date\n",
    "                last_signal_type = 'Short'  # Update last signal type\n",
    "\n",
    "    return last_signal_date, last_signal_type  # Return the date and type of the last valid signal"
   ],
   "metadata": {
    "collapsed": false,
    "ExecuteTime": {
     "end_time": "2024-09-28T17:38:24.317778Z",
     "start_time": "2024-09-28T17:38:24.301755500Z"
    }
   }
  },
  {
   "cell_type": "code",
   "execution_count": 60,
   "outputs": [],
   "source": [
    "# Define the function to retrieve the last five values before the signal time\n",
    "def get_previous_values(df_higher, signal_time, column):\n",
    "    \"\"\"Retrieve the last five values of the specified column just before the signal time from the higher timeframe data.\"\"\"\n",
    "    valid_times = df_higher[df_higher.index <= signal_time]\n",
    "    if not valid_times.empty:\n",
    "        last_times = valid_times.index[-5:]  # Get the last 5 times\n",
    "        return df_higher.loc[last_times][column].values, last_times\n",
    "    return None, None\n",
    "\n",
    "# Define the function to calculate linear regression coefficients\n",
    "def get_linear_coeffs(values):\n",
    "    \"\"\"Calculate linear regression coefficients k (slope) and b (intercept).\"\"\"\n",
    "    x = np.arange(1, 6)  # x values from 1 to 5\n",
    "    y = np.array(values)\n",
    "\n",
    "    # Calculate the coefficients of the linear fit (slope and intercept)\n",
    "    slope, intercept = np.polyfit(x, y, 1)\n",
    "    return slope, intercept\n",
    "\n",
    "# Define the higher timeframes mapping\n",
    "higher_timeframes = {\n",
    "    '15m': '1h',\n",
    "    '30m': '1h',\n",
    "    '1h': '4h',\n",
    "    '2h': '4h',\n",
    "    '4h': '1d'\n",
    "}"
   ],
   "metadata": {
    "collapsed": false,
    "ExecuteTime": {
     "end_time": "2024-09-28T15:37:56.674915600Z",
     "start_time": "2024-09-28T15:37:56.640977700Z"
    }
   }
  },
  {
   "cell_type": "code",
   "execution_count": 61,
   "outputs": [
    {
     "name": "stderr",
     "output_type": "stream",
     "text": [
      "2024-09-28 17:38:02,123 - INFO - Data for BTC/USDT on 4h saved/updated successfully.\n",
      "E:\\side projects\\backtesting&visualization\\common_functions.py:13: FutureWarning: ChainedAssignmentError: behaviour will change in pandas 3.0!\n",
      "You are setting values through chained assignment. Currently this works in certain cases, but when using Copy-on-Write (which will become the default behaviour in pandas 3.0) this will never work to update the original DataFrame or Series, because the intermediate object on which we are setting values will behave as a copy.\n",
      "A typical example is when you are setting values in a column of a DataFrame, like:\n",
      "\n",
      "df[\"col\"][row_indexer] = value\n",
      "\n",
      "Use `df.loc[row_indexer, \"col\"] = values` instead, to perform the assignment in a single step and ensure this keeps updating the original `df`.\n",
      "\n",
      "See the caveats in the documentation: https://pandas.pydata.org/pandas-docs/stable/user_guide/indexing.html#returning-a-view-versus-a-copy\n",
      "\n",
      "  data['HA_open'].iloc[0] = (data['open'].iloc[0] + data['close'].iloc[0]) / 2\n"
     ]
    }
   ],
   "source": [
    "# Preparing higher timeframe\n",
    "df_higher = update_data(symbol, higher_timeframes[timeframe])\n",
    "df_higher = calculate_heikin_ashi(df_higher)  # Convert to Heikin Ashi\n",
    "df_higher = calculate_indicators(df_higher)"
   ],
   "metadata": {
    "collapsed": false,
    "ExecuteTime": {
     "end_time": "2024-09-28T15:38:02.219045900Z",
     "start_time": "2024-09-28T15:37:56.656927700Z"
    }
   }
  },
  {
   "cell_type": "code",
   "execution_count": 62,
   "outputs": [],
   "source": [
    "last_signal_date, last_signal_type = get_signals(df)"
   ],
   "metadata": {
    "collapsed": false,
    "ExecuteTime": {
     "end_time": "2024-09-28T15:38:02.271050300Z",
     "start_time": "2024-09-28T15:38:02.188177700Z"
    }
   }
  },
  {
   "cell_type": "code",
   "execution_count": 63,
   "outputs": [],
   "source": [
    "# Manual mappings for categorical features\n",
    "symbol_mapping = {\n",
    "    'BTC/USDT': 0, 'ETH/USDT': 1, 'BNB/USDT': 2, 'SOL/USDT': 3, 'XRP/USDT': 4,\n",
    "    'ADA/USDT': 5, 'DOGE/USDT': 6, 'DOT/USDT': 7, 'LINK/USDT': 8, 'IMX/USDT': 9, 'ICP/USDT': 10\n",
    "}\n",
    "timeframe_mapping = {\n",
    "    '15m': 0, '30m': 1, '1h': 2, '2h': 3, '4h': 4\n",
    "}\n",
    "type_mapping = {\n",
    "    'Long': 0, 'Short': 1\n",
    "}"
   ],
   "metadata": {
    "collapsed": false,
    "ExecuteTime": {
     "end_time": "2024-09-28T15:38:02.286042Z",
     "start_time": "2024-09-28T15:38:02.279041400Z"
    }
   }
  },
  {
   "cell_type": "code",
   "execution_count": 64,
   "outputs": [],
   "source": [
    "# get_previous_values(df_higher, last_signal_date, 'RSI')[0]\n",
    "previous_rsi_values, rsi_times = get_previous_values(df_higher, last_signal_date, 'RSI')\n",
    "previous_macd_values, macd_times = get_previous_values(df_higher, last_signal_date, 'macd')\n",
    "previous_volume_values, volume_times = get_previous_values(df_higher, last_signal_date, 'volume')\n",
    "\n",
    "rsi_k, rsi_b = get_linear_coeffs(previous_rsi_values) if previous_rsi_values is not None else (None, None)\n",
    "macd_k, macd_b = get_linear_coeffs(previous_macd_values) if previous_macd_values is not None else (None, None)\n",
    "volume_k, volume_b = get_linear_coeffs(previous_volume_values) if previous_volume_values is not None else (None, None)\n",
    "\n",
    "\n",
    "# Create a dictionary with the specified data\n",
    "data = {\n",
    "    'Symbol': symbol,\n",
    "    'Timeframe': timeframe,\n",
    "    'Entry Price': df.loc[last_signal_date, 'HA_open'],\n",
    "    'Type': last_signal_type,\n",
    "    'TP Multiplier': tp_multiplier,\n",
    "    'RSI Line Slope (k)': rsi_k,\n",
    "    'RSI Line Intercept (b)': rsi_b,\n",
    "    'MACD Line Slope (k)': macd_k,\n",
    "    'MACD Line Intercept (b)': macd_b,\n",
    "    'Volume Line Slope (k)': volume_k,\n",
    "    'Volume Line Intercept (b)': volume_b\n",
    "}\n",
    "\n",
    "# Convert the dictionary to a pandas DataFrame\n",
    "data_df = pd.DataFrame([data])  # Wrap data in a list to create a single-row DataFrame\n",
    "\n",
    "\n",
    "\n",
    "# Apply mappings\n",
    "data_df['Symbol'] = data_df['Symbol'].map(symbol_mapping)\n",
    "data_df['Timeframe'] = data_df['Timeframe'].map(timeframe_mapping)\n",
    "data_df['Type'] = data_df['Type'].map(type_mapping)\n",
    "\n",
    "\n",
    "# Normalizing continuous data\n",
    "continuous_features = ['Entry Price', 'TP Multiplier', 'RSI Line Slope (k)', 'RSI Line Intercept (b)',\n",
    "                       'MACD Line Slope (k)', 'MACD Line Intercept (b)',\n",
    "                       'Volume Line Slope (k)', 'Volume Line Intercept (b)']\n",
    "scaler = StandardScaler()\n",
    "data_df[continuous_features] = scaler.fit_transform(data_df[continuous_features])\n",
    "\n",
    "\n",
    "# # Display the DataFrame\n",
    "# data_df\n"
   ],
   "metadata": {
    "collapsed": false,
    "ExecuteTime": {
     "end_time": "2024-09-28T15:38:02.324068600Z",
     "start_time": "2024-09-28T15:38:02.293049500Z"
    }
   }
  },
  {
   "cell_type": "code",
   "execution_count": 65,
   "outputs": [
    {
     "name": "stdout",
     "output_type": "stream",
     "text": [
      "[68176.64965841]\n"
     ]
    }
   ],
   "source": [
    "# Make the prediction\n",
    "model = joblib.load('gradient_boosting_regressor.pkl')\n",
    "predictions = model.predict(data_df)\n",
    "\n",
    "# Use the predictin\n",
    "\n",
    "Optimum_Closing = df.loc[last_signal_date, 'HA_open'] / predictions\n",
    "\n",
    "# print(predictions)\n",
    "print(Optimum_Closing)"
   ],
   "metadata": {
    "collapsed": false,
    "ExecuteTime": {
     "end_time": "2024-09-28T15:38:11.245839600Z",
     "start_time": "2024-09-28T15:38:11.206222100Z"
    }
   }
  },
  {
   "cell_type": "code",
   "execution_count": null,
   "outputs": [],
   "source": [],
   "metadata": {
    "collapsed": false
   }
  },
  {
   "cell_type": "code",
   "execution_count": null,
   "outputs": [],
   "source": [
    "import pandas as pd\n",
    "import numpy as np\n",
    "from sklearn.preprocessing import StandardScaler\n",
    "from _managing_data import update_data\n",
    "from common_functions import calculate_heikin_ashi, calculate_indicators, macd_signals\n",
    "\n",
    "symbol = 'BTC/USDT'\n",
    "timeframe = '1h'\n",
    "tp_multiplier = 1.5\n",
    "df = update_data(symbol, timeframe)  # Fetch data\n",
    "df = calculate_heikin_ashi(df)  # Convert to Heikin Ashi\n",
    "df = calculate_indicators(df)\n",
    "\n",
    "# Updated get_signals function\n",
    "def get_signals(df):\n",
    "    df['signal'] = 0  # Initialize signal column\n",
    "    last_signal_date = None  # Variable to store the date of the last valid signal\n",
    "    last_signal_type = None  # Variable to store the type of the last valid signal\n",
    "\n",
    "    for i in range(1, len(df) - 2):\n",
    "        # Detect MACD crossover for long positions\n",
    "        if df['macd'].iloc[i] > df['macd_signal'].iloc[i] and df['macd'].iloc[i - 1] <= df['macd_signal'].iloc[i - 1]:\n",
    "            # Checking SMA and SuperTrend confirmation\n",
    "            if df['HA_close'].iloc[i + 1] > df['SuperTrend'].iloc[i + 1] and df['HA_close'].iloc[i + 1] > df['SMA200'].iloc[i + 1]:\n",
    "                df.loc[df.index[i + 2], 'signal'] = 1  # Long signal\n",
    "                last_signal_date = df.index[i + 1]  # Update last signal date\n",
    "                last_signal_type = 'Long'  # Update last signal type\n",
    "\n",
    "        # Detect MACD crossover for short positions\n",
    "        elif df['macd'].iloc[i] < df['macd_signal'].iloc[i] and df['macd'].iloc[i - 1] >= df['macd_signal'].iloc[i - 1]:\n",
    "            # Checking SMA and SuperTrend confirmation\n",
    "            if df['HA_close'].iloc[i + 1] < df['SuperTrend'].iloc[i + 1] and df['HA_close'].iloc[i + 1] < df['SMA200'].iloc[i + 1]:\n",
    "                df.loc[df.index[i + 2], 'signal'] = -1  # Short signal\n",
    "                last_signal_date = df.index[i + 1]  # Update last signal date\n",
    "                last_signal_type = 'Short'  # Update last signal type\n",
    "\n",
    "    return last_signal_date, last_signal_type  # Return the date and type of the last valid signal\n",
    "\n",
    "# Define the function to retrieve the last five values before the signal time\n",
    "def get_previous_values(df_higher, signal_time, column):\n",
    "    \"\"\"Retrieve the last five values of the specified column just before the signal time from the higher timeframe data.\"\"\"\n",
    "    valid_times = df_higher[df_higher.index <= signal_time]\n",
    "    if not valid_times.empty:\n",
    "        last_times = valid_times.index[-5:]  # Get the last 5 times\n",
    "        return df_higher.loc[last_times][column].values, last_times\n",
    "    return None, None\n",
    "\n",
    "# Define the function to calculate linear regression coefficients\n",
    "def get_linear_coeffs(values):\n",
    "    \"\"\"Calculate linear regression coefficients k (slope) and b (intercept).\"\"\"\n",
    "    x = np.arange(1, 6)  # x values from 1 to 5\n",
    "    y = np.array(values)\n",
    "\n",
    "    # Calculate the coefficients of the linear fit (slope and intercept)\n",
    "    slope, intercept = np.polyfit(x, y, 1)\n",
    "    return slope, intercept\n",
    "\n",
    "# Define the higher timeframes mapping\n",
    "higher_timeframes = {\n",
    "    '15m': '1h',\n",
    "    '30m': '1h',\n",
    "    '1h': '4h',\n",
    "    '2h': '4h',\n",
    "    '4h': '1d'\n",
    "}\n",
    "\n",
    "# Preparing higher timeframe\n",
    "df_higher = update_data(symbol, higher_timeframes[timeframe])\n",
    "df_higher = calculate_heikin_ashi(df_higher)  # Convert to Heikin Ashi\n",
    "df_higher = calculate_indicators(df_higher)\n",
    "\n",
    "last_signal_date, last_signal_type = get_signals(df)\n",
    "\n",
    "# Manual mappings for categorical features\n",
    "symbol_mapping = {\n",
    "    'BTC/USDT': 0, 'ETH/USDT': 1, 'BNB/USDT': 2, 'SOL/USDT': 3, 'XRP/USDT': 4,\n",
    "    'ADA/USDT': 5, 'DOGE/USDT': 6, 'DOT/USDT': 7, 'LINK/USDT': 8, 'IMX/USDT': 9, 'ICP/USDT': 10\n",
    "}\n",
    "timeframe_mapping = {\n",
    "    '15m': 0, '30m': 1, '1h': 2, '2h': 3, '4h': 4\n",
    "}\n",
    "type_mapping = {\n",
    "    'Long': 0, 'Short': 1\n",
    "}\n",
    "\n",
    "# get_previous_values(df_higher, last_signal_date, 'RSI')[0]\n",
    "previous_rsi_values, rsi_times = get_previous_values(df_higher, last_signal_date, 'RSI')\n",
    "previous_macd_values, macd_times = get_previous_values(df_higher, last_signal_date, 'macd')\n",
    "previous_volume_values, volume_times = get_previous_values(df_higher, last_signal_date, 'volume')\n",
    "\n",
    "rsi_k, rsi_b = get_linear_coeffs(previous_rsi_values) if previous_rsi_values is not None else (None, None)\n",
    "macd_k, macd_b = get_linear_coeffs(previous_macd_values) if previous_macd_values is not None else (None, None)\n",
    "volume_k, volume_b = get_linear_coeffs(previous_volume_values) if previous_volume_values is not None else (None, None)\n",
    "\n",
    "\n",
    "# Create a dictionary with the specified data\n",
    "data = {\n",
    "    'Symbol': symbol,\n",
    "    'Timeframe': timeframe,\n",
    "    'Entry Price': df.loc[last_signal_date, 'HA_open'],\n",
    "    'Type': last_signal_type,\n",
    "    'TP Multiplier': tp_multiplier,\n",
    "    'RSI Line Slope (k)': rsi_k,\n",
    "    'RSI Line Intercept (b)': rsi_b,\n",
    "    'MACD Line Slope (k)': macd_k,\n",
    "    'MACD Line Intercept (b)': macd_b,\n",
    "    'Volume Line Slope (k)': volume_k,\n",
    "    'Volume Line Intercept (b)': volume_b\n",
    "}\n",
    "\n",
    "# Convert the dictionary to a pandas DataFrame\n",
    "data_df = pd.DataFrame([data])  # Wrap data in a list to create a single-row DataFrame\n",
    "\n",
    "\n",
    "\n",
    "# Apply mappings\n",
    "data_df['Symbol'] = data_df['Symbol'].map(symbol_mapping)\n",
    "data_df['Timeframe'] = data_df['Timeframe'].map(timeframe_mapping)\n",
    "data_df['Type'] = data_df['Type'].map(type_mapping)\n",
    "\n",
    "\n",
    "# Normalizing continuous data\n",
    "continuous_features = ['Entry Price', 'TP Multiplier', 'RSI Line Slope (k)', 'RSI Line Intercept (b)',\n",
    "                       'MACD Line Slope (k)', 'MACD Line Intercept (b)',\n",
    "                       'Volume Line Slope (k)', 'Volume Line Intercept (b)']\n",
    "scaler = StandardScaler()\n",
    "data_df[continuous_features] = scaler.fit_transform(data_df[continuous_features])\n",
    "\n",
    "\n",
    "# # Display the DataFrame\n",
    "# data_df\n",
    "\n",
    "# Make the prediction\n",
    "model = joblib.load('gradient_boosting_regressor.pkl')\n",
    "predictions = model.predict(data_df)\n",
    "\n",
    "# Use the predictin\n",
    "\n",
    "Optimum_Closing = df.loc[last_signal_date, 'HA_open'] / predictions\n",
    "\n",
    "# print(predictions)\n",
    "print(Optimum_Closing)"
   ],
   "metadata": {
    "collapsed": false
   }
  },
  {
   "cell_type": "code",
   "execution_count": null,
   "outputs": [],
   "source": [],
   "metadata": {
    "collapsed": false
   }
  },
  {
   "cell_type": "code",
   "execution_count": null,
   "outputs": [],
   "source": [
    "trade_data = [\n",
    "    {'Symbol': 'BTC/USDT', 'Timeframe': '1h', 'TP Multiplier': 2},\n",
    "    {'Symbol': 'ETH/USDT', 'Timeframe': '4h', 'TP Multiplier': 1.5},\n",
    "    # Add more trade data as needed\n",
    "]\n"
   ],
   "metadata": {
    "collapsed": false
   }
  },
  {
   "cell_type": "code",
   "execution_count": 27,
   "outputs": [
    {
     "name": "stderr",
     "output_type": "stream",
     "text": [
      "2024-09-28 20:03:03,571 - INFO - Data for DOGE/USDT on 2h saved/updated successfully.\n",
      "E:\\side projects\\backtesting&visualization\\common_functions.py:13: FutureWarning: ChainedAssignmentError: behaviour will change in pandas 3.0!\n",
      "You are setting values through chained assignment. Currently this works in certain cases, but when using Copy-on-Write (which will become the default behaviour in pandas 3.0) this will never work to update the original DataFrame or Series, because the intermediate object on which we are setting values will behave as a copy.\n",
      "A typical example is when you are setting values in a column of a DataFrame, like:\n",
      "\n",
      "df[\"col\"][row_indexer] = value\n",
      "\n",
      "Use `df.loc[row_indexer, \"col\"] = values` instead, to perform the assignment in a single step and ensure this keeps updating the original `df`.\n",
      "\n",
      "See the caveats in the documentation: https://pandas.pydata.org/pandas-docs/stable/user_guide/indexing.html#returning-a-view-versus-a-copy\n",
      "\n",
      "  data['HA_open'].iloc[0] = (data['open'].iloc[0] + data['close'].iloc[0]) / 2\n",
      "2024-09-28 20:03:09,910 - INFO - Data for DOGE/USDT on 4h saved/updated successfully.\n",
      "E:\\side projects\\backtesting&visualization\\common_functions.py:13: FutureWarning: ChainedAssignmentError: behaviour will change in pandas 3.0!\n",
      "You are setting values through chained assignment. Currently this works in certain cases, but when using Copy-on-Write (which will become the default behaviour in pandas 3.0) this will never work to update the original DataFrame or Series, because the intermediate object on which we are setting values will behave as a copy.\n",
      "A typical example is when you are setting values in a column of a DataFrame, like:\n",
      "\n",
      "df[\"col\"][row_indexer] = value\n",
      "\n",
      "Use `df.loc[row_indexer, \"col\"] = values` instead, to perform the assignment in a single step and ensure this keeps updating the original `df`.\n",
      "\n",
      "See the caveats in the documentation: https://pandas.pydata.org/pandas-docs/stable/user_guide/indexing.html#returning-a-view-versus-a-copy\n",
      "\n",
      "  data['HA_open'].iloc[0] = (data['open'].iloc[0] + data['close'].iloc[0]) / 2\n"
     ]
    },
    {
     "name": "stdout",
     "output_type": "stream",
     "text": [
      "      Symbol Timeframe  Type  Entry Price  Optimum Closing  Predicted Profit\n",
      "0  DOGE/USDT        2h  Long       0.1117         0.119734          0.932905\n"
     ]
    }
   ],
   "source": [
    "import pandas as pd\n",
    "import numpy as np\n",
    "import joblib\n",
    "from sklearn.preprocessing import StandardScaler\n",
    "from _managing_data import update_data\n",
    "from common_functions import calculate_heikin_ashi, calculate_indicators, macd_signals\n",
    "\n",
    "# Define the list of trade data\n",
    "trade_data = [\n",
    "    {'Symbol': 'DOGE/USDT', 'Timeframe': '2h', 'TP Multiplier': 2}\n",
    "    # Add more trade data as needed\n",
    "]\n",
    "\n",
    "# Mappings for categorical features\n",
    "symbol_mapping = {\n",
    "    'BTC/USDT': 0, 'ETH/USDT': 1, 'BNB/USDT': 2, 'SOL/USDT': 3, 'XRP/USDT': 4,\n",
    "    'ADA/USDT': 5, 'DOGE/USDT': 6, 'DOT/USDT': 7, 'LINK/USDT': 8, 'IMX/USDT': 9, 'ICP/USDT': 10\n",
    "}\n",
    "timeframe_mapping = {\n",
    "    '15m': 0, '30m': 1, '1h': 2, '2h': 3, '4h': 4\n",
    "}\n",
    "type_mapping = {\n",
    "    'Long': 0, 'Short': 1\n",
    "}\n",
    "\n",
    "# Higher timeframe mappings\n",
    "higher_timeframes = {\n",
    "    '15m': '1h',\n",
    "    '30m': '1h',\n",
    "    '1h': '4h',\n",
    "    '2h': '4h',\n",
    "    '4h': '1d'\n",
    "}\n",
    "\n",
    "# Load the model\n",
    "model = joblib.load('gradient_boosting_regressor.pkl')\n",
    "\n",
    "# Function to fetch, process, and predict for each trade\n",
    "def process_trade(symbol, timeframe, tp_multiplier):\n",
    "    # Fetch data for the symbol and timeframe\n",
    "    df = update_data(symbol, timeframe)\n",
    "    df = calculate_heikin_ashi(df)\n",
    "    df = calculate_indicators(df)\n",
    "\n",
    "    # Fetch data for the higher timeframe\n",
    "    df_higher = update_data(symbol, higher_timeframes[timeframe])\n",
    "    df_higher = calculate_heikin_ashi(df_higher)\n",
    "    df_higher = calculate_indicators(df_higher)\n",
    "\n",
    "    # Get the last signal date and type\n",
    "    last_signal_date, last_signal_type = get_signals(df)\n",
    "\n",
    "    # Retrieve previous values for RSI, MACD, and volume from the higher timeframe\n",
    "    previous_rsi_values, _ = get_previous_values(df_higher, last_signal_date, 'RSI')\n",
    "    previous_macd_values, _ = get_previous_values(df_higher, last_signal_date, 'macd')\n",
    "    previous_volume_values, _ = get_previous_values(df_higher, last_signal_date, 'volume')\n",
    "\n",
    "    # Calculate linear regression coefficients\n",
    "    rsi_k, rsi_b = get_linear_coeffs(previous_rsi_values) if previous_rsi_values is not None else (None, None)\n",
    "    macd_k, macd_b = get_linear_coeffs(previous_macd_values) if previous_macd_values is not None else (None, None)\n",
    "    volume_k, volume_b = get_linear_coeffs(previous_volume_values) if previous_volume_values is not None else (None, None)\n",
    "\n",
    "    # Create a dictionary with the data for prediction\n",
    "    data = {\n",
    "        'Symbol': symbol,\n",
    "        'Timeframe': timeframe,\n",
    "        'Entry Price': df.loc[last_signal_date, 'HA_open'],\n",
    "        'Type': last_signal_type,\n",
    "        'TP Multiplier': tp_multiplier,\n",
    "        'RSI Line Slope (k)': rsi_k,\n",
    "        'RSI Line Intercept (b)': rsi_b,\n",
    "        'MACD Line Slope (k)': macd_k,\n",
    "        'MACD Line Intercept (b)': macd_b,\n",
    "        'Volume Line Slope (k)': volume_k,\n",
    "        'Volume Line Intercept (b)': volume_b\n",
    "    }\n",
    "\n",
    "    # Convert the dictionary to a DataFrame\n",
    "    data_df = pd.DataFrame([data])\n",
    "\n",
    "    # Apply mappings for categorical columns\n",
    "    data_df['Symbol'] = data_df['Symbol'].map(symbol_mapping)\n",
    "    data_df['Timeframe'] = data_df['Timeframe'].map(timeframe_mapping)\n",
    "    data_df['Type'] = data_df['Type'].map(type_mapping)\n",
    "\n",
    "    # Normalize the continuous features\n",
    "    continuous_features = ['Entry Price', 'TP Multiplier', 'RSI Line Slope (k)', 'RSI Line Intercept (b)',\n",
    "                           'MACD Line Slope (k)', 'MACD Line Intercept (b)',\n",
    "                           'Volume Line Slope (k)', 'Volume Line Intercept (b)']\n",
    "    scaler = StandardScaler()\n",
    "    data_df[continuous_features] = scaler.fit_transform(data_df[continuous_features])\n",
    "\n",
    "    # Make predictions using the model\n",
    "    predictions = model.predict(data_df)\n",
    "\n",
    "    # Calculate Optimum Closing\n",
    "    Optimum_Closing = df.loc[last_signal_date, 'HA_open'] / predictions\n",
    "\n",
    "    # Return results\n",
    "    return {\n",
    "        'Symbol': symbol,\n",
    "        'Timeframe': timeframe,\n",
    "        'Type': last_signal_type,\n",
    "        'Entry Price': df.loc[last_signal_date, 'HA_open'],\n",
    "        'Optimum Closing': Optimum_Closing[0],  # Assuming it's a single-row result\n",
    "        'Predicted Profit': predictions[0]\n",
    "    }\n",
    "\n",
    "# Process each trade in the trade_data list\n",
    "results = []\n",
    "for trade in trade_data:\n",
    "    result = process_trade(trade['Symbol'], trade['Timeframe'], trade['TP Multiplier'])\n",
    "    results.append(result)\n",
    "\n",
    "# Convert results to a DataFrame for better visualization\n",
    "results_df = pd.DataFrame(results)\n",
    "\n",
    "# Print the results\n",
    "print(results_df)\n"
   ],
   "metadata": {
    "collapsed": false,
    "ExecuteTime": {
     "end_time": "2024-09-28T18:03:10.898868200Z",
     "start_time": "2024-09-28T18:02:56.791577700Z"
    }
   }
  },
  {
   "cell_type": "code",
   "execution_count": 26,
   "outputs": [
    {
     "name": "stdout",
     "output_type": "stream",
     "text": [
      "      Symbol Timeframe   Type  Entry Price  Optimum Closing  Predicted Profit\n",
      "0  LINK/USDT        1h   Long     12.72500        13.477891          0.944139\n",
      "1   BTC/USDT        1h   Long  65960.34000     69795.868720          0.945046\n",
      "2  DOGE/USDT        1h   Long      0.12169         0.128766          0.945046\n",
      "3   IMX/USDT       30m  Short      1.74400         1.706320          1.022082\n",
      "4   ADA/USDT        1h   Long      0.40255         0.425958          0.945046\n",
      "5   IMX/USDT       15m  Short      1.74850         1.723026          1.014785\n",
      "6   BNB/USDT        4h   Long    608.65000       654.631488          0.929760\n",
      "7   ICP/USDT        2h   Long      9.63550        10.408253          0.925756\n"
     ]
    }
   ],
   "source": [
    "# Print the results\n",
    "print(results_df)"
   ],
   "metadata": {
    "collapsed": false,
    "ExecuteTime": {
     "end_time": "2024-09-28T17:50:06.897996100Z",
     "start_time": "2024-09-28T17:50:06.857607700Z"
    }
   }
  },
  {
   "cell_type": "code",
   "execution_count": null,
   "outputs": [],
   "source": [],
   "metadata": {
    "collapsed": false
   }
  }
 ],
 "metadata": {
  "kernelspec": {
   "display_name": "Python 3",
   "language": "python",
   "name": "python3"
  },
  "language_info": {
   "codemirror_mode": {
    "name": "ipython",
    "version": 2
   },
   "file_extension": ".py",
   "mimetype": "text/x-python",
   "name": "python",
   "nbconvert_exporter": "python",
   "pygments_lexer": "ipython2",
   "version": "2.7.6"
  }
 },
 "nbformat": 4,
 "nbformat_minor": 0
}
